{
 "cells": [
  {
   "cell_type": "code",
   "execution_count": 1,
   "id": "a8e69848-dd47-44d2-8525-9980f8d5f8e0",
   "metadata": {},
   "outputs": [],
   "source": [
    "# Installation of tangelo if not already installed.\n",
    "try:\n",
    "    import tangelo\n",
    "except ModuleNotFoundError:\n",
    "    !pip install git+https://github.com/goodchemistryco/Tangelo.git@develop --quiet\n",
    "    !pip install qulacs pyscf --quiet\n",
    "\n",
    "# Import for a pretty jupyter notebook.\n",
    "import json\n",
    "\n",
    "# Molecule definition.\n",
    "from tangelo import SecondQuantizedMolecule as SQMol\n",
    "\n",
    "# The minimal import foRr DMET.\n",
    "from tangelo.problem_decomposition import DMETProblemDecomposition\n",
    "# Ability to change localization method.\n",
    "from tangelo.problem_decomposition.dmet import Localization\n",
    "# Use for VQE ressources estimation vs DMET.\n",
    "from tangelo.algorithms import VQESolver\n",
    "# Use for comparison.\n",
    "from tangelo.algorithms import FCISolver"
   ]
  },
  {
   "cell_type": "code",
   "execution_count": 2,
   "id": "35b2f10b-3e18-4d93-bdcf-2ebb553ec875",
   "metadata": {},
   "outputs": [],
   "source": [
    "import numpy as np\n",
    "from tangelo.toolboxes.ansatz_generator.ansatz import Ansatz\n",
    "from tangelo.toolboxes.qubit_mappings.statevector_mapping import get_reference_circuit\n",
    "from tangelo.toolboxes.qubit_mappings.mapping_transform import get_qubit_number, fermion_to_qubit_mapping\n",
    "from tangelo.linq import Circuit, Gate"
   ]
  },
  {
   "cell_type": "markdown",
   "id": "fd733551-bc76-40c5-8eb9-7c6ab901eddc",
   "metadata": {},
   "source": [
    "# DMET-VQE for excited state energy of LiH"
   ]
  },
  {
   "cell_type": "markdown",
   "id": "0b65ec38-23bd-4630-bccb-84c65e53e2da",
   "metadata": {},
   "source": [
    "I decomposed the molecule into Li and H for this one."
   ]
  },
  {
   "cell_type": "code",
   "execution_count": 3,
   "id": "4402015e-c2e9-4bbd-87f7-c5591e757741",
   "metadata": {},
   "outputs": [],
   "source": [
    "LiH = [('Li', (0, 0, 0)),('H', (0, 0, 1.6))]\n",
    "\n",
    "fo = [0]\n",
    "\n",
    "# Runs RHF calculation\n",
    "mol_LiH = SQMol(LiH, q=0, spin=0, basis='minao', frozen_orbitals=fo, symmetry=True) #or use basis cc-pVDZ\n",
    "\n",
    "# Runs ROHF calculation\n",
    "mol_LiH_t = SQMol(LiH, q=0, spin=2, basis=\"minao\", frozen_orbitals=fo, symmetry=True)"
   ]
  },
  {
   "cell_type": "code",
   "execution_count": 4,
   "id": "234c2958-aec0-43f5-9e37-67da814e98f7",
   "metadata": {},
   "outputs": [
    {
     "name": "stdout",
     "output_type": "stream",
     "text": [
      "  #  Energy  Symm Occ\n",
      "  1  -2.4686  A1   2\n",
      "  2  -0.2945  A1   2\n",
      "  3   0.0909  A1   0\n",
      "Number of active electrons: 2\n",
      "Number of active orbtials: 2\n"
     ]
    }
   ],
   "source": [
    "# Symmetry labels and occupations for frozen core and active orbitals\n",
    "print(\"  #  Energy  Symm Occ\")\n",
    "for i in range(3):\n",
    "    print(f\"{i+1:3d}{mol_LiH.mo_energies[i]: 9.4f}  {mol_LiH.mo_symm_labels[i]}   {int(mol_LiH.mo_occ[i])}\")\n",
    "\n",
    "# Active electrons, Active orbitals\n",
    "print(f\"Number of active electrons: {mol_LiH.n_active_electrons}\")\n",
    "print(f\"Number of active orbtials: {mol_LiH.n_active_mos}\")"
   ]
  },
  {
   "cell_type": "code",
   "execution_count": 5,
   "id": "c266fae6-8125-44bc-83af-28318fab0a02",
   "metadata": {},
   "outputs": [
    {
     "name": "stdout",
     "output_type": "stream",
     "text": [
      "True\n"
     ]
    }
   ],
   "source": [
    "print(mol_LiH.symmetry)"
   ]
  },
  {
   "cell_type": "code",
   "execution_count": 6,
   "id": "cc82e585-6fa4-4bd5-b47e-f449cbc59720",
   "metadata": {},
   "outputs": [],
   "source": [
    "options_LiH_dmet = {\"molecule\": mol_LiH,\n",
    "                    \"fragment_atoms\": [1,1],\n",
    "                    \"fragment_solvers\": \"vqe\",\n",
    "                    \"verbose\": False\n",
    "                    }\n",
    "\n",
    "dmet_LiH = DMETProblemDecomposition(options_LiH_dmet)\n",
    "dmet_LiH.build()"
   ]
  },
  {
   "cell_type": "code",
   "execution_count": 7,
   "id": "7af80c09-f957-49ad-8ce0-65e2592b1d79",
   "metadata": {},
   "outputs": [
    {
     "name": "stdout",
     "output_type": "stream",
     "text": [
      "{'qubit_hamiltonian_terms': 118, 'circuit_width': 6, 'circuit_depth': 385, 'circuit_2qubit_gates': 272, 'circuit_var_gates': 40, 'vqe_variational_parameters': 5}\n"
     ]
    }
   ],
   "source": [
    "resources_LiH_dmet = dmet_LiH.get_resources()\n",
    "print(resources_LiH_dmet[0])"
   ]
  },
  {
   "cell_type": "code",
   "execution_count": 8,
   "id": "1f88334a-2714-4304-b046-2d49d4ae9e06",
   "metadata": {},
   "outputs": [
    {
     "name": "stdout",
     "output_type": "stream",
     "text": [
      "FCI energy (hartree): \t -7.979986343677684\n"
     ]
    }
   ],
   "source": [
    "fci_LiH = FCISolver(mol_LiH)\n",
    "energy_LiH_fci = fci_LiH.simulate()\n",
    "\n",
    "print(f\"FCI energy (hartree): \\t {energy_LiH_fci}\")"
   ]
  },
  {
   "cell_type": "code",
   "execution_count": 9,
   "id": "2ce0ffcf-5555-494d-bfba-4be1be99e13d",
   "metadata": {},
   "outputs": [
    {
     "name": "stdout",
     "output_type": "stream",
     "text": [
      "\n",
      " Ground Singlet state\n",
      "VQE energy = -7.979986033529784\n",
      "CASCI energy = -7.979986343677684\n"
     ]
    }
   ],
   "source": [
    "from tangelo.algorithms.variational import VQESolver, BuiltInAnsatze\n",
    "from tangelo.algorithms.classical import FCISolver\n",
    "\n",
    "# Dictionary of resources for each algorithm\n",
    "algorithm_resources = dict()\n",
    "\n",
    "# Ground state energy calculation with VQE, reference values with FCI\n",
    "vqe_options = {\"molecule\": mol_LiH, \"ansatz\": BuiltInAnsatze.UCCSD}\n",
    "vqe_solver = VQESolver(vqe_options)\n",
    "vqe_solver.build()\n",
    "vqe_energy = vqe_solver.simulate()\n",
    "print(\"\\n Ground Singlet state\")\n",
    "print(f\"VQE energy = {vqe_energy}\")\n",
    "print(f\"CASCI energy = {FCISolver(mol_LiH).simulate()}\")\n",
    "algorithm_resources[\"vqe_ground_state\"] = vqe_solver.get_resources()"
   ]
  },
  {
   "cell_type": "code",
   "execution_count": 10,
   "id": "85d703e2-8edb-4a81-a56d-204ed63c3545",
   "metadata": {},
   "outputs": [
    {
     "name": "stdout",
     "output_type": "stream",
     "text": [
      "\n",
      " Lowest Triplet state\n",
      "VQE energy = -7.877228340299112\n",
      "CASCI energy = -7.877228340299247\n"
     ]
    }
   ],
   "source": [
    "# First excited state energy calculation with VQE, reference values with FCI\n",
    "vqe_options = {\"molecule\": mol_LiH_t, \"ansatz\": BuiltInAnsatze.UpCCGSD}\n",
    "vqe_solver_t = VQESolver(vqe_options)\n",
    "vqe_solver_t.build()\n",
    "vqe_energy_t = vqe_solver_t.simulate()\n",
    "print(\"\\n Lowest Triplet state\")\n",
    "print(f\"VQE energy = {vqe_energy_t}\")\n",
    "print(f\"CASCI energy = {FCISolver(mol_LiH_t).simulate()}\")\n",
    "algorithm_resources[\"vqe_triplet_state\"] = vqe_solver_t.get_resources()"
   ]
  },
  {
   "cell_type": "code",
   "execution_count": 11,
   "id": "93ca48ab-a3d4-4384-b758-cc6dc0ff4830",
   "metadata": {},
   "outputs": [
    {
     "name": "stdout",
     "output_type": "stream",
     "text": [
      "Excited state #1 \t VQE energy = -7.752189149469342\n",
      "Excited state #2 \t VQE energy = -7.5799825127814735\n"
     ]
    }
   ],
   "source": [
    "# Add initial VQE optimal circuit to the deflation circuits list\n",
    "deflation_circuits = [vqe_solver.optimal_circuit.copy()]\n",
    "\n",
    "# Calculate first and second excited states by adding optimal circuits to deflation_circuits\n",
    "for i in range(2):\n",
    "    vqe_options = {\"molecule\": mol_LiH, \"ansatz\": BuiltInAnsatze.UpCCGSD, \n",
    "                   \"deflation_circuits\": deflation_circuits, \"deflation_coeff\": 0.4}\n",
    "    vqe_solver = VQESolver(vqe_options)\n",
    "    vqe_solver.build()\n",
    "    vqe_energy = vqe_solver.simulate()\n",
    "    print(f\"Excited state #{i+1} \\t VQE energy = {vqe_energy}\")\n",
    "    algorithm_resources[f\"vqe_deflation_state_{i+1}\"] = vqe_solver.get_resources()\n",
    "\n",
    "    deflation_circuits.append(vqe_solver.optimal_circuit.copy())"
   ]
  },
  {
   "cell_type": "code",
   "execution_count": 12,
   "id": "80ba5cec-bd91-49ae-a157-8d9b531f1b2f",
   "metadata": {},
   "outputs": [
    {
     "name": "stdout",
     "output_type": "stream",
     "text": [
      "VQE energy = -7.877227970021433\n"
     ]
    }
   ],
   "source": [
    "vqe_options = {\"molecule\": mol_LiH, \"ansatz\": BuiltInAnsatze.UpCCGSD, \n",
    "               \"deflation_circuits\": deflation_circuits,\n",
    "               \"deflation_coeff\": 0.4, \"ref_state\": [1, 0, 1, 0]}\n",
    "vqe_solver_triplet = VQESolver(vqe_options)\n",
    "vqe_solver_triplet.build()\n",
    "vqe_energy = vqe_solver_triplet.simulate()\n",
    "print(f\"VQE energy = {vqe_energy}\")\n",
    "algorithm_resources[f\"vqe_deflation_state_{3}\"] = vqe_solver_triplet.get_resources()"
   ]
  },
  {
   "cell_type": "markdown",
   "id": "9febb9b7-7582-4005-9887-031d0e49052e",
   "metadata": {},
   "source": [
    "Classical Result:"
   ]
  },
  {
   "cell_type": "code",
   "execution_count": 13,
   "id": "be8dbcec-b831-4e29-abec-af8f75bb802b",
   "metadata": {},
   "outputs": [
    {
     "name": "stdout",
     "output_type": "stream",
     "text": [
      "Calculation for A1 symmetry\n",
      "\n",
      "WARN: Mulitple states found in CASCI solver. First state is used to compute the Fock matrix and natural orbitals in active space.\n",
      "\n",
      "CASCI state   0  E = -7.97998634367768  E(CI) = -1.07431109981599  S^2 = 0.0000000\n",
      "CASCI state   1  E = -7.87722797002157  E(CI) = -0.971552726159873  S^2 = 2.0000000\n",
      "Energy for A1 symmetry: [-7.97998634 -7.87722797] Eh\n"
     ]
    },
    {
     "name": "stderr",
     "output_type": "stream",
     "text": [
      "/Users/rohan/.pyenv/versions/3.12.5/envs/nyc_haq/lib/python3.12/site-packages/numpy/linalg/linalg.py:2180: RuntimeWarning: divide by zero encountered in det\n",
      "  r = _umath_linalg.det(a, signature=signature)\n",
      "/Users/rohan/.pyenv/versions/3.12.5/envs/nyc_haq/lib/python3.12/site-packages/numpy/linalg/linalg.py:2180: RuntimeWarning: invalid value encountered in det\n",
      "  r = _umath_linalg.det(a, signature=signature)\n"
     ]
    }
   ],
   "source": [
    "from pyscf import mcscf\n",
    "\n",
    "# Hartree-Fock calculation (assuming `mol_LiH` is already defined)\n",
    "myhf = mol_LiH.mean_field\n",
    "\n",
    "# Define the core and active orbitals using their symmetries\n",
    "ncore = {\"A1\": 1}  # Freeze the first A1 orbital (fully occupied, core orbital)\n",
    "ncas = {\"A1\": 2}   # Use the remaining 2 orbitals in the A1 symmetry as active orbitals\n",
    "\n",
    "# Setup and run CASCI calculation\n",
    "print(\"Calculation for A1 symmetry\")\n",
    "\n",
    "# Setup CASCI with 2 active electrons in 2 active orbitals (both in A1 symmetry)\n",
    "mc = mcscf.CASCI(myhf, 2, (1, 1))\n",
    "\n",
    "# Sort the molecular orbitals by their irreps\n",
    "mo = mc.sort_mo_by_irrep(cas_irrep_nocc=ncas, cas_irrep_ncore=ncore)\n",
    "\n",
    "# Run the CASCI calculation\n",
    "mc.fcisolver.wfnsym = \"A1\"  # Set the wavefunction symmetry to A1\n",
    "mc.fcisolver.nroots = 2  # Calculate both the ground and first excited states\n",
    "emc_A1 = mc.casci(mo)[0]\n",
    "\n",
    "# Print the result for A1 symmetry\n",
    "print(f\"Energy for A1 symmetry: {emc_A1} Eh\")"
   ]
  },
  {
   "cell_type": "code",
   "execution_count": 14,
   "id": "f3abb453-3320-4e0c-b3d4-3a2a71d8e090",
   "metadata": {},
   "outputs": [],
   "source": [
    "import numpy as np\n",
    "from scipy.linalg import eigh\n",
    "from openfermion.utils import hermitian_conjugated as hc\n",
    "\n",
    "from tangelo.toolboxes.operators import FermionOperator\n",
    "from tangelo.toolboxes.qubit_mappings.mapping_transform import fermion_to_qubit_mapping as f2q_mapping\n",
    "\n",
    "# Generate all single excitations as qubit operators\n",
    "op_list = list()\n",
    "for i in range(2):\n",
    "    for j in range(i+1, 2):\n",
    "        op_list += [f2q_mapping(FermionOperator(((2*i, 1), (2*j, 0))), \"jw\")] #spin-up transition\n",
    "        op_list += [f2q_mapping(FermionOperator(((2*i+1, 1), (2*j+1, 0))), \"jw\")] #spin-down transition\n",
    "        op_list += [f2q_mapping(FermionOperator(((2*i+1, 1), (2*j, 0))), \"jw\")] #spin-up to spin-down\n",
    "        op_list += [f2q_mapping(FermionOperator(((2*i, 1), (2*j+1, 0))), \"jw\")] #spin-down to spin-up\n",
    "\n",
    "# Compute F and S matrices.\n",
    "size_mat = len(op_list)\n",
    "h = np.zeros((size_mat, size_mat))\n",
    "s = np.zeros((size_mat, size_mat))\n",
    "state_circuit = vqe_solver.optimal_circuit\n",
    "for i, op1 in enumerate(op_list):\n",
    "    for j, op2 in enumerate(op_list):\n",
    "        h[i, j] = np.real(vqe_solver.backend.get_expectation_value(hc(op1)*vqe_solver.qubit_hamiltonian*op2, state_circuit))\n",
    "        s[i, j] = np.real(vqe_solver.backend.get_expectation_value(hc(op1)*op2, state_circuit))\n",
    "\n",
    "label = \"quantum_subspace_expansion\"\n",
    "algorithm_resources[label] = vqe_solver.get_resources()\n",
    "algorithm_resources[label][\"n_post_terms\"] = len(op_list)**2*algorithm_resources[label][\"qubit_hamiltonian_terms\"]"
   ]
  },
  {
   "cell_type": "code",
   "execution_count": 15,
   "id": "78eb9bd5-cb8a-4092-896b-1c89f587644f",
   "metadata": {},
   "outputs": [
    {
     "name": "stdout",
     "output_type": "stream",
     "text": [
      "Quantum Subspace Expansion energies: \n",
      " [-7.87722797 -7.87722797 -7.87722797 -7.74170155]\n"
     ]
    }
   ],
   "source": [
    "# Solve FU = SUE\n",
    "e, v = eigh(h,s)\n",
    "print(f\"Quantum Subspace Expansion energies: \\n {e}\")"
   ]
  },
  {
   "cell_type": "markdown",
   "id": "2dcdfd3b-3512-43b8-b156-0830c1ec62c8",
   "metadata": {},
   "source": [
    "# Using VQE solely to get excited state of LiH"
   ]
  },
  {
   "cell_type": "code",
   "execution_count": 16,
   "id": "d87cbac8-57b5-44d7-b3f6-961148f37019",
   "metadata": {},
   "outputs": [
    {
     "name": "stdout",
     "output_type": "stream",
     "text": [
      "{'qubit_hamiltonian_terms': 27, 'circuit_width': 4, 'circuit_depth': 100, 'circuit_2qubit_gates': 64, 'circuit_var_gates': 12, 'vqe_variational_parameters': 2}\n"
     ]
    }
   ],
   "source": [
    "# non-decompose case complexity:\n",
    "\n",
    "LiH_noD = \"\"\"\n",
    "Li 0.  0. 0.\n",
    "H  0.  0. 1.6\n",
    "\"\"\"\n",
    "\n",
    "fo = [0]\n",
    "\n",
    "# Runs RHF calculation\n",
    "mol_LiH_noD = SQMol(LiH_noD, q=0, spin=0, basis='minao', frozen_orbitals=fo, symmetry=True)\n",
    "# Runs ROHF calculation\n",
    "mol_LiH_noD_t = SQMol(LiH_noD, q=0, spin=2, basis=\"minao\", frozen_orbitals=fo, symmetry=True)\n",
    "\n",
    "options_LiH_noD_vqe = {\"molecule\": mol_LiH_noD, \"qubit_mapping\": \"jw\", \"verbose\": False}\n",
    "vqe_LiH_noD = VQESolver(options_LiH_noD_vqe)\n",
    "vqe_LiH_noD.build()\n",
    "\n",
    "resources_LiH_noD_vqe = vqe_LiH_noD.get_resources()\n",
    "print(resources_LiH_noD_vqe)"
   ]
  },
  {
   "cell_type": "code",
   "execution_count": 17,
   "id": "b8a9314b-f26c-4590-9caa-958a1fe45186",
   "metadata": {},
   "outputs": [
    {
     "name": "stdout",
     "output_type": "stream",
     "text": [
      "\n",
      " Ground Singlet state\n",
      "VQE energy = -7.979986033529784\n",
      "CASCI energy = -7.979986343677684\n",
      "\n",
      " Lowest Triplet state\n",
      "VQE energy = -7.877228340299112\n",
      "CASCI energy = -7.877228340299247\n"
     ]
    }
   ],
   "source": [
    "# Ground state energy calculation with VQE, reference values with FCI\n",
    "vqe_energy = vqe_LiH_noD.simulate()\n",
    "print(\"\\n Ground Singlet state\")\n",
    "print(f\"VQE energy = {vqe_energy}\")\n",
    "print(f\"CASCI energy = {FCISolver(mol_LiH_noD).simulate()}\")\n",
    "algorithm_resources[\"vqe_ground_state\"] = vqe_LiH_noD.get_resources()\n",
    "\n",
    "# First excited state energy calculation with VQE, reference values with FCI\n",
    "vqe_options = {\"molecule\": mol_LiH_noD_t, \"ansatz\": BuiltInAnsatze.UpCCGSD}\n",
    "vqe_solver_t = VQESolver(vqe_options)\n",
    "vqe_solver_t.build()\n",
    "vqe_energy_t = vqe_solver_t.simulate()\n",
    "print(\"\\n Lowest Triplet state\")\n",
    "print(f\"VQE energy = {vqe_energy_t}\")\n",
    "print(f\"CASCI energy = {FCISolver(mol_LiH_noD_t).simulate()}\")\n",
    "algorithm_resources[\"vqe_triplet_state\"] = vqe_solver_t.get_resources()"
   ]
  },
  {
   "cell_type": "code",
   "execution_count": 18,
   "id": "7f9b14fc-9699-4c6f-be65-adbcc8f331ac",
   "metadata": {},
   "outputs": [
    {
     "name": "stdout",
     "output_type": "stream",
     "text": [
      "Excited state #1 \t VQE energy = -7.752200465710246\n",
      "Excited state #2 \t VQE energy = -7.580002948358137\n"
     ]
    }
   ],
   "source": [
    "# Add initial VQE optimal circuit to the deflation circuits list\n",
    "deflation_circuits = [vqe_solver.optimal_circuit.copy()]\n",
    "\n",
    "# Calculate first and second excited states by adding optimal circuits to deflation_circuits\n",
    "for i in range(2):\n",
    "    vqe_options = {\"molecule\": mol_LiH_noD, \"ansatz\": BuiltInAnsatze.UpCCGSD, \n",
    "                   \"deflation_circuits\": deflation_circuits, \"deflation_coeff\": 0.4}\n",
    "    vqe_solver = VQESolver(vqe_options)\n",
    "    vqe_solver.build()\n",
    "    vqe_energy = vqe_solver.simulate()\n",
    "    print(f\"Excited state #{i+1} \\t VQE energy = {vqe_energy}\")\n",
    "    algorithm_resources[f\"vqe_deflation_state_{i+1}\"] = vqe_solver.get_resources()\n",
    "\n",
    "    deflation_circuits.append(vqe_solver.optimal_circuit.copy())"
   ]
  },
  {
   "cell_type": "code",
   "execution_count": 19,
   "id": "39285d51-afb5-4e9a-a287-e308e6e80ed6",
   "metadata": {},
   "outputs": [
    {
     "name": "stdout",
     "output_type": "stream",
     "text": [
      "VQE energy = -7.877227970021433\n"
     ]
    }
   ],
   "source": [
    "vqe_options = {\"molecule\": mol_LiH_noD, \"ansatz\": BuiltInAnsatze.UpCCGSD, \n",
    "               \"deflation_circuits\": deflation_circuits,\n",
    "               \"deflation_coeff\": 0.4, \"ref_state\": [1, 0, 1, 0]}\n",
    "vqe_solver_triplet = VQESolver(vqe_options)\n",
    "vqe_solver_triplet.build()\n",
    "vqe_energy = vqe_solver_triplet.simulate()\n",
    "print(f\"VQE energy = {vqe_energy}\")\n",
    "algorithm_resources[f\"vqe_deflation_state_{3}\"] = vqe_solver_triplet.get_resources()"
   ]
  },
  {
   "cell_type": "markdown",
   "id": "de45b5a6-b60b-42f8-b2ed-294f87ebc9bb",
   "metadata": {},
   "source": [
    "# Choosing the basis affect the complexity of the circuit and the final result. So, here is the sample generator to test all those basis with DMET-VQE and VQE."
   ]
  },
  {
   "cell_type": "code",
   "execution_count": 20,
   "id": "4381612a-6602-40d5-b2aa-1d58a0e67234",
   "metadata": {},
   "outputs": [
    {
     "name": "stdout",
     "output_type": "stream",
     "text": [
      "{'qubit_hamiltonian_terms': 23, 'circuit_width': 4, 'circuit_depth': 1, 'circuit_2qubit_gates': 0, 'circuit_var_gates': 0, 'vqe_variational_parameters': 0}\n"
     ]
    },
    {
     "name": "stderr",
     "output_type": "stream",
     "text": [
      "/Users/rohan/.pyenv/versions/3.12.5/envs/nyc_haq/lib/python3.12/site-packages/tangelo/algorithms/variational/vqe_solver.py:243: RuntimeWarning: No variational gate found in the circuit.\n",
      "  warnings.warn(\"No variational gate found in the circuit.\", RuntimeWarning)\n"
     ]
    }
   ],
   "source": [
    "LiH_tester = \"\"\"\n",
    "Li 0.  0. 0.\n",
    "H  0.  0. 1.6\n",
    "\"\"\"\n",
    "\n",
    "fo = [0]\n",
    "\n",
    "# Runs ROHF calculation\n",
    "mol_LiH_tester = SQMol(LiH_tester, q=0, spin=2, basis=\"minao\", frozen_orbitals=fo, symmetry=True)\n",
    "\n",
    "options_LiH_tester_vqe = {\"molecule\": mol_LiH_tester, \"qubit_mapping\": \"jw\", \"verbose\": False}\n",
    "vqe_LiH_tester = VQESolver(options_LiH_tester_vqe)\n",
    "vqe_LiH_tester.build()\n",
    "\n",
    "resources_LiH_tester_vqe = vqe_LiH_tester.get_resources()\n",
    "print(resources_LiH_tester_vqe)"
   ]
  },
  {
   "cell_type": "code",
   "execution_count": null,
   "id": "f459bc02-e0a4-4a0a-b0ef-1b8fb2a69120",
   "metadata": {},
   "outputs": [],
   "source": []
  }
 ],
 "metadata": {
  "kernelspec": {
   "display_name": "Python 3 [Default]",
   "language": "python",
   "name": "python3"
  },
  "language_info": {
   "codemirror_mode": {
    "name": "ipython",
    "version": 3
   },
   "file_extension": ".py",
   "mimetype": "text/x-python",
   "name": "python",
   "nbconvert_exporter": "python",
   "pygments_lexer": "ipython3",
   "version": "3.12.5"
  }
 },
 "nbformat": 4,
 "nbformat_minor": 5
}
