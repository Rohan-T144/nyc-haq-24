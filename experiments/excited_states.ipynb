{
 "cells": [
  {
   "cell_type": "markdown",
   "id": "428d1355-cc07-46cf-85a8-991ba0cf357b",
   "metadata": {},
   "source": [
    "# Prepare Tangelo"
   ]
  },
  {
   "cell_type": "code",
   "execution_count": 107,
   "id": "a8e69848-dd47-44d2-8525-9980f8d5f8e0",
   "metadata": {},
   "outputs": [],
   "source": [
    "# Installation of tangelo if not already installed.\n",
    "try:\n",
    "    import tangelo\n",
    "except ModuleNotFoundError:\n",
    "    !pip install git+https://github.com/goodchemistryco/Tangelo.git@develop --quiet\n",
    "    !pip install qulacs pyscf --quiet\n",
    "\n",
    "# Molecule definition.\n",
    "from tangelo import SecondQuantizedMolecule as SQMol\n",
    "\n",
    "# The minimal import foRr DMET.\n",
    "from tangelo.problem_decomposition import DMETProblemDecomposition\n",
    "# Ability to change localization method.\n",
    "from tangelo.problem_decomposition.dmet import Localization\n",
    "# Use for VQE ressources estimation vs DMET.\n",
    "from tangelo.algorithms import VQESolver\n",
    "# Use for comparison.\n",
    "from tangelo.algorithms import FCISolver"
   ]
  },
  {
   "cell_type": "code",
   "execution_count": 109,
   "id": "35b2f10b-3e18-4d93-bdcf-2ebb553ec875",
   "metadata": {},
   "outputs": [],
   "source": [
    "import numpy as np\n",
    "from tangelo.toolboxes.ansatz_generator.ansatz import Ansatz\n",
    "from tangelo.toolboxes.qubit_mappings.statevector_mapping import get_reference_circuit\n",
    "from tangelo.toolboxes.qubit_mappings.mapping_transform import get_qubit_number, fermion_to_qubit_mapping\n",
    "from tangelo.linq import Circuit, Gate"
   ]
  },
  {
   "cell_type": "code",
   "execution_count": 111,
   "id": "f6eb7d94-edbd-4e04-aae9-85a90620dc4e",
   "metadata": {},
   "outputs": [],
   "source": [
    "from tangelo.algorithms.variational import BuiltInAnsatze\n",
    "from tangelo.algorithms.classical import FCISolver\n",
    "\n",
    "# Dictionary of resources for each algorithm\n",
    "algorithm_resources = dict()"
   ]
  },
  {
   "cell_type": "code",
   "execution_count": 113,
   "id": "0cc5a197-04e0-4cba-a837-bb2543ca1635",
   "metadata": {},
   "outputs": [],
   "source": [
    "# select basis\n",
    "selected_basis = 'minao'\n",
    "# select Ansatz\n",
    "ans = BuiltInAnsatze.UpCCGSD"
   ]
  },
  {
   "cell_type": "markdown",
   "id": "52eafa9e-ff41-4c10-8309-b23a46e5a26c",
   "metadata": {},
   "source": [
    "# VQE"
   ]
  },
  {
   "cell_type": "markdown",
   "id": "1b13b511-2db7-4d41-a1fc-93b3e3281a6c",
   "metadata": {},
   "source": [
    "Ground State of LiH"
   ]
  },
  {
   "cell_type": "code",
   "execution_count": 117,
   "id": "85e54826-91f4-4eea-8d4b-24d090583521",
   "metadata": {},
   "outputs": [],
   "source": [
    "# LiH geometry structure\n",
    "LiH = [('Li', (0, 0, 0)),('H', (0, 0, 1.5949))]"
   ]
  },
  {
   "cell_type": "code",
   "execution_count": 119,
   "id": "d87cbac8-57b5-44d7-b3f6-961148f37019",
   "metadata": {},
   "outputs": [
    {
     "name": "stdout",
     "output_type": "stream",
     "text": [
      "{'qubit_hamiltonian_terms': 118, 'circuit_width': 6, 'circuit_depth': 612, 'circuit_2qubit_gates': 416, 'circuit_var_gates': 72, 'vqe_variational_parameters': 18}\n"
     ]
    }
   ],
   "source": [
    "# Initialize LiH ground state\n",
    "mol_LiH_g = SQMol(LiH, q=0, spin=0, basis=selected_basis, frozen_orbitals=None, symmetry=True)\n",
    "\n",
    "options_LiH_g_vqe = {\"molecule\": mol_LiH_g, \"qubit_mapping\": \"jw\", \"verbose\": False, \"ansatz\": ans}\n",
    "vqe_LiH_g = VQESolver(options_LiH_g_vqe)\n",
    "vqe_LiH_g.build()\n",
    "\n",
    "# Print the vqe resources\n",
    "resources_LiH_g_vqe = vqe_LiH_g.get_resources()\n",
    "print(resources_LiH_g_vqe)"
   ]
  },
  {
   "cell_type": "code",
   "execution_count": 121,
   "id": "b8a9314b-f26c-4590-9caa-958a1fe45186",
   "metadata": {},
   "outputs": [
    {
     "name": "stdout",
     "output_type": "stream",
     "text": [
      "\n",
      " Ground Singlet state\n",
      "VQE energy = -7.9798733228389125\n",
      "CASCI energy = -7.979876345514762\n"
     ]
    }
   ],
   "source": [
    "# Ground state energy calculation with VQE, reference values with FCI\n",
    "vqe_energy_g = vqe_LiH_g.simulate()\n",
    "print(\"\\n Ground Singlet state\")\n",
    "print(f\"VQE energy = {vqe_energy_g}\")\n",
    "print(f\"CASCI energy = {FCISolver(mol_LiH_g).simulate()}\")\n",
    "algorithm_resources[\"vqe_ground_state\"] = vqe_LiH_g.get_resources()"
   ]
  },
  {
   "cell_type": "markdown",
   "id": "f5493a64-7b91-4224-a881-166a2c4f28ad",
   "metadata": {},
   "source": [
    "# Now, let's simulate excited state of LiH."
   ]
  },
  {
   "cell_type": "code",
   "execution_count": 123,
   "id": "78513cbe-c051-4d00-8015-5ebdb1dd638a",
   "metadata": {},
   "outputs": [
    {
     "name": "stdout",
     "output_type": "stream",
     "text": [
      "{'qubit_hamiltonian_terms': 118, 'circuit_width': 6, 'circuit_depth': 612, 'circuit_2qubit_gates': 416, 'circuit_var_gates': 72, 'vqe_variational_parameters': 18}\n"
     ]
    }
   ],
   "source": [
    "# Initialize first excited state of LiH\n",
    "mol_LiH_e = SQMol(LiH, q=0, spin=2, basis=selected_basis, frozen_orbitals=None, symmetry=True)\n",
    "\n",
    "options_LiH_e_vqe = {\"molecule\": mol_LiH_e, \"qubit_mapping\": \"jw\", \"verbose\": False, \"ansatz\": ans}\n",
    "vqe_LiH_e = VQESolver(options_LiH_e_vqe)\n",
    "vqe_LiH_e.build()\n",
    "\n",
    "# Print the vqe resources\n",
    "resources_LiH_e_vqe = vqe_LiH_e.get_resources()\n",
    "print(resources_LiH_e_vqe)"
   ]
  },
  {
   "cell_type": "code",
   "execution_count": 124,
   "id": "bae4226d-4b02-4b7a-b7ab-65f7ac32ecd8",
   "metadata": {},
   "outputs": [
    {
     "name": "stdout",
     "output_type": "stream",
     "text": [
      "\n",
      " Lowest Triplet Singlet state\n",
      "VQE energy = -7.876815134234935\n",
      "CASCI energy = -7.876819596419252\n"
     ]
    }
   ],
   "source": [
    "# Excited state energy calculation with VQE, reference values with FCI\n",
    "vqe_energy_e = vqe_LiH_e.simulate()\n",
    "print(\"\\n Lowest Triplet Singlet state\")\n",
    "print(f\"VQE energy = {vqe_energy_e}\")\n",
    "print(f\"CASCI energy = {FCISolver(mol_LiH_e).simulate()}\")\n",
    "algorithm_resources[\"vqe_triplet_state\"] = vqe_LiH_e.get_resources()"
   ]
  },
  {
   "cell_type": "markdown",
   "id": "239f5f07-6850-469f-bb70-76cf39ac2fa4",
   "metadata": {},
   "source": [
    "# Use VQE_Deflation for first and second excited state energy"
   ]
  },
  {
   "cell_type": "code",
   "execution_count": 126,
   "id": "a767e0bc-bec9-44ee-aa52-633d285d4e03",
   "metadata": {},
   "outputs": [
    {
     "name": "stdout",
     "output_type": "stream",
     "text": [
      "Excited state #1 \t VQE energy = -7.752112998108656\n",
      "Excited state #2 \t VQE energy = -7.679869580679111\n"
     ]
    }
   ],
   "source": [
    "# Add initial VQE optimal circuit to the deflation circuits list\n",
    "deflation_circuits = [vqe_LiH_g.optimal_circuit.copy()]\n",
    "\n",
    "# Calculate first and second excited states by adding optimal circuits to deflation_circuits\n",
    "for i in range(2):\n",
    "    vqe_options_def = {\"molecule\": mol_LiH_g, \"ansatz\": ans, \n",
    "                   \"deflation_circuits\": deflation_circuits, \"deflation_coeff\": 0.3, \"verbose\": False}\n",
    "    vqe_solver_def = VQESolver(vqe_options_def)\n",
    "    vqe_solver_def.build()\n",
    "    vqe_energy_def = vqe_solver_def.simulate()\n",
    "    print(f\"Excited state #{i+1} \\t VQE energy = {vqe_energy_def}\")\n",
    "    algorithm_resources[f\"vqe_deflation_state_{i+1}\"] = vqe_solver_def.get_resources()\n",
    "\n",
    "    deflation_circuits.append(vqe_solver_def.optimal_circuit.copy())"
   ]
  },
  {
   "cell_type": "code",
   "execution_count": 128,
   "id": "780284fc-4ec7-4a36-a58d-701c0646b2d6",
   "metadata": {},
   "outputs": [
    {
     "name": "stdout",
     "output_type": "stream",
     "text": [
      "VQE energy of excited state #1= -7.876815301741519\n"
     ]
    }
   ],
   "source": [
    "# Use a reference state with 2 alpha electrons and 2 beta electrons to calculate the triplet state. \n",
    "vqe_options_def2 = {\"molecule\": mol_LiH_g, \"ansatz\": ans, \n",
    "               \"deflation_circuits\": deflation_circuits, \"deflation_coeff\": 0.3, \n",
    "               \"ref_state\": [1, 1, 1, 1]} \n",
    "\n",
    "vqe_solver_def2 = VQESolver(vqe_options_def2)\n",
    "vqe_solver_def2.build()\n",
    "vqe_energy_def2 = vqe_solver_def2.simulate()\n",
    "print(f\"VQE energy of excited state #1= {vqe_energy_def2}\")\n",
    "algorithm_resources[f\"vqe_deflation_state_{3}\"] = vqe_solver_def2.get_resources()"
   ]
  },
  {
   "cell_type": "code",
   "execution_count": 130,
   "id": "4ff32d33-bced-49f7-aa64-1ae9aafcb32c",
   "metadata": {},
   "outputs": [],
   "source": [
    "from scipy.linalg import eigh\n",
    "from openfermion.utils import hermitian_conjugated as hc\n",
    "\n",
    "from tangelo.toolboxes.operators import FermionOperator\n",
    "from tangelo.toolboxes.qubit_mappings.mapping_transform import fermion_to_qubit_mapping as f2q_mapping\n",
    "\n",
    "# Generate all single excitations as qubit operators\n",
    "op_list = list()\n",
    "for i in range(2):\n",
    "    for j in range(i+1, 2):\n",
    "        op_list += [f2q_mapping(FermionOperator(((2*i, 1), (2*j, 0))), \"jw\")] #spin-up transition\n",
    "        op_list += [f2q_mapping(FermionOperator(((2*i+1, 1), (2*j+1, 0))), \"jw\")] #spin-down transition\n",
    "        op_list += [f2q_mapping(FermionOperator(((2*i+1, 1), (2*j, 0))), \"jw\")] #spin-up to spin-down\n",
    "        op_list += [f2q_mapping(FermionOperator(((2*i, 1), (2*j+1, 0))), \"jw\")] #spin-down to spin-up\n",
    "\n",
    "# Compute F and S matrices.\n",
    "size_mat = len(op_list)\n",
    "h = np.zeros((size_mat, size_mat))\n",
    "s = np.zeros((size_mat, size_mat))\n",
    "state_circuit = vqe_LiH_g.optimal_circuit\n",
    "for i, op1 in enumerate(op_list):\n",
    "    for j, op2 in enumerate(op_list):\n",
    "        h[i, j] = np.real(vqe_LiH_g.backend.get_expectation_value(hc(op1)*vqe_LiH_g.qubit_hamiltonian*op2, state_circuit))\n",
    "        s[i, j] = np.real(vqe_LiH_g.backend.get_expectation_value(hc(op1)*op2, state_circuit))\n",
    "\n",
    "label = \"quantum_subspace_expansion\"\n",
    "algorithm_resources[label] = vqe_LiH_g.get_resources()\n",
    "algorithm_resources[label][\"n_post_terms\"] = len(op_list)**2*algorithm_resources[label][\"qubit_hamiltonian_terms\"]"
   ]
  },
  {
   "cell_type": "code",
   "execution_count": 131,
   "id": "8cb6d3c8-1a84-4c3b-8acb-321d8bc30101",
   "metadata": {},
   "outputs": [
    {
     "name": "stdout",
     "output_type": "stream",
     "text": [
      "Quantum Subspace Expansion energies for first excited state of LiH: \n",
      " [-6.86245489 -5.75618619 -5.71042514 -5.66263862]\n"
     ]
    }
   ],
   "source": [
    "# Solve FU = SUE\n",
    "e, v = eigh(h,s)\n",
    "print(f\"Quantum Subspace Expansion energies for first excited state of LiH: \\n {e}\")"
   ]
  },
  {
   "cell_type": "markdown",
   "id": "fd733551-bc76-40c5-8eb9-7c6ab901eddc",
   "metadata": {},
   "source": [
    "# DMET-VQE"
   ]
  },
  {
   "cell_type": "markdown",
   "id": "0b65ec38-23bd-4630-bccb-84c65e53e2da",
   "metadata": {},
   "source": [
    "Decompose LiH into Li and H"
   ]
  },
  {
   "cell_type": "code",
   "execution_count": 135,
   "id": "e31f3ed1-843a-422c-9583-e84ccf1118c6",
   "metadata": {},
   "outputs": [],
   "source": [
    "# Initialize LiH ground state\n",
    "\n",
    "mol_LiH_dmet_g = SQMol(LiH, q=0, spin=0, basis='cc-pVDZ', frozen_orbitals=None, symmetry=True)\n",
    "\n",
    "options_LiH_dmet_g = {\"molecule\": mol_LiH_dmet_g,\n",
    "                    \"fragment_atoms\": [1,1],\n",
    "                    \"fragment_solvers\": \"ccsd\",\n",
    "                    \"verbose\": False\n",
    "                    }\n",
    "\n",
    "dmet_vqe_LiH_g = DMETProblemDecomposition(options_LiH_dmet_g)\n",
    "dmet_vqe_LiH_g.build()"
   ]
  },
  {
   "cell_type": "code",
   "execution_count": 136,
   "id": "1f88334a-2714-4304-b046-2d49d4ae9e06",
   "metadata": {},
   "outputs": [
    {
     "name": "stdout",
     "output_type": "stream",
     "text": [
      "FCI energy (hartree): \t -7.979876345514762\n",
      "DMET energy (hartree): \t -8.0130485999147\n"
     ]
    }
   ],
   "source": [
    "fci_LiH_g = FCISolver(mol_LiH_g)\n",
    "energy_LiH_g_fci = fci_LiH_g.simulate()\n",
    "print(f\"FCI energy (hartree): \\t {energy_LiH_g_fci}\")\n",
    "\n",
    "energy_dmet_vqe_LiH_g = dmet_vqe_LiH_g.simulate()\n",
    "print(f\"DMET energy (hartree): \\t {energy_dmet_vqe_LiH_g}\")"
   ]
  },
  {
   "cell_type": "code",
   "execution_count": 137,
   "id": "2929121a-67e6-4629-ae36-0f8d7b6b7364",
   "metadata": {},
   "outputs": [
    {
     "name": "stdout",
     "output_type": "stream",
     "text": [
      "Correlation energy (hartree): \t 0.02943332512421737\n",
      "Correlation energy (kcal/mol): \t 18.4694115154464\n"
     ]
    }
   ],
   "source": [
    "energy_LiH_g_hf = dmet_vqe_LiH_g.mean_field.e_tot\n",
    "energy_corr_LiH_g = abs(energy_dmet_vqe_LiH_g - energy_LiH_g_hf)\n",
    "\n",
    "print(f\"Correlation energy (hartree): \\t {energy_corr_LiH_g}\")\n",
    "print(f\"Correlation energy (kcal/mol): \\t {627.5*energy_corr_LiH_g}\")"
   ]
  },
  {
   "cell_type": "code",
   "execution_count": 138,
   "id": "cf029ecd-7570-44a0-89ef-87875136e708",
   "metadata": {},
   "outputs": [
    {
     "name": "stdout",
     "output_type": "stream",
     "text": [
      "Difference FCI vs HF energies (hartree): \t\t 0.003738929275721503\n",
      "Difference FCI vs DMET-VQE energies (hartree): \t\t 0.03317225439993887\n",
      "Difference FCI vs HF energies (kcal/mol): \t\t 2.346178120515243\n",
      "Difference FCI vs DMET-VQE energies (kcal/mol): \t 20.815589635961643\n"
     ]
    }
   ],
   "source": [
    "delta_LiH_g_fci_hf = abs(energy_LiH_g_fci - energy_LiH_g_hf)\n",
    "delta_LiH_g_fci_dmet = abs(energy_LiH_g_fci - energy_dmet_vqe_LiH_g)\n",
    "\n",
    "print(f\"Difference FCI vs HF energies (hartree): \\t\\t {delta_LiH_g_fci_hf}\")\n",
    "print(f\"Difference FCI vs DMET-VQE energies (hartree): \\t\\t {delta_LiH_g_fci_dmet}\")\n",
    "print(f\"Difference FCI vs HF energies (kcal/mol): \\t\\t {627.5*delta_LiH_g_fci_hf}\")\n",
    "print(f\"Difference FCI vs DMET-VQE energies (kcal/mol): \\t {627.5*delta_LiH_g_fci_dmet}\")"
   ]
  },
  {
   "cell_type": "code",
   "execution_count": 139,
   "id": "0149922d-6710-4031-bd85-cc6771afc6bd",
   "metadata": {},
   "outputs": [],
   "source": [
    "# Initialize first excited state of LiH\n",
    "mol_LiH_dmet_e = SQMol(LiH, q=0, spin=2, basis='cc-pVDZ', frozen_orbitals=None, symmetry=True)\n",
    "\n",
    "# Initialize LiH excited state\n",
    "options_LiH_dmet_e = {\"molecule\": mol_LiH_dmet_e,\n",
    "                    \"fragment_atoms\": [1,1],\n",
    "                    \"fragment_solvers\": \"ccsd\",\n",
    "                    \"verbose\": False\n",
    "                    }\n",
    "\n",
    "dmet_vqe_LiH_e = DMETProblemDecomposition(options_LiH_dmet_e)\n",
    "dmet_vqe_LiH_e.build()"
   ]
  },
  {
   "cell_type": "code",
   "execution_count": 140,
   "id": "230cbffa-dde3-4187-96e4-5030563967ff",
   "metadata": {
    "scrolled": true
   },
   "outputs": [
    {
     "name": "stdout",
     "output_type": "stream",
     "text": [
      "FCI energy (hartree): \t -7.876819596419252\n",
      "DMET energy (hartree): \t -7.900773422217099\n"
     ]
    }
   ],
   "source": [
    "fci_LiH_e = FCISolver(mol_LiH_e)\n",
    "energy_LiH_e_fci = fci_LiH_e.simulate()\n",
    "print(f\"FCI energy (hartree): \\t {energy_LiH_e_fci}\")\n",
    "\n",
    "energy_dmet_vqe_LiH_e = dmet_vqe_LiH_e.simulate()\n",
    "print(f\"DMET energy (hartree): \\t {energy_dmet_vqe_LiH_e}\")"
   ]
  },
  {
   "cell_type": "code",
   "execution_count": 141,
   "id": "4d3374c2-3fc2-4a95-895a-01f6b174962d",
   "metadata": {},
   "outputs": [
    {
     "name": "stdout",
     "output_type": "stream",
     "text": [
      "Correlation energy (hartree): \t 0.0009517907457237129\n",
      "Correlation energy (kcal/mol): \t 0.5972486929416299\n"
     ]
    }
   ],
   "source": [
    "energy_LiH_e_hf = dmet_vqe_LiH_e.mean_field.e_tot\n",
    "energy_corr_LiH_e = abs(energy_dmet_vqe_LiH_e - energy_LiH_e_hf)\n",
    "\n",
    "print(f\"Correlation energy (hartree): \\t {energy_corr_LiH_e}\")\n",
    "print(f\"Correlation energy (kcal/mol): \\t {627.5*energy_corr_LiH_e}\")"
   ]
  },
  {
   "cell_type": "code",
   "execution_count": 142,
   "id": "4240166b-56c9-4a34-a1e1-59a74c0d317a",
   "metadata": {},
   "outputs": [
    {
     "name": "stdout",
     "output_type": "stream",
     "text": [
      "Difference FCI vs HF energies (hartree): \t\t 0.02300203505212295\n",
      "Difference FCI vs DMET-VQE energies (hartree): \t\t 0.023953825797846662\n",
      "Difference FCI vs HF energies (kcal/mol): \t\t 14.43377699520715\n",
      "Difference FCI vs DMET-VQE energies (kcal/mol): \t 15.03102568814878\n"
     ]
    }
   ],
   "source": [
    "delta_LiH_e_fci_hf = abs(energy_LiH_e_fci - energy_LiH_e_hf)\n",
    "delta_LiH_e_fci_dmet = abs(energy_LiH_e_fci - energy_dmet_vqe_LiH_e)\n",
    "\n",
    "print(f\"Difference FCI vs HF energies (hartree): \\t\\t {delta_LiH_e_fci_hf}\")\n",
    "print(f\"Difference FCI vs DMET-VQE energies (hartree): \\t\\t {delta_LiH_e_fci_dmet}\")\n",
    "print(f\"Difference FCI vs HF energies (kcal/mol): \\t\\t {627.5*delta_LiH_e_fci_hf}\")\n",
    "print(f\"Difference FCI vs DMET-VQE energies (kcal/mol): \\t {627.5*delta_LiH_e_fci_dmet}\")"
   ]
  },
  {
   "cell_type": "markdown",
   "id": "0a650c15-d6bd-4e32-934e-af2f12e392dc",
   "metadata": {},
   "source": [
    "Compute LiH with other ansatz"
   ]
  },
  {
   "cell_type": "code",
   "execution_count": 144,
   "id": "0e52037e-43c5-419e-b3b4-b4fd838669e9",
   "metadata": {},
   "outputs": [],
   "source": [
    "from tangelo.toolboxes.qubit_mappings.statevector_mapping import get_reference_circuit\n",
    "from tangelo.toolboxes.qubit_mappings.mapping_transform import get_qubit_number, fermion_to_qubit_mapping\n",
    "from tangelo.linq import Circuit, Gate"
   ]
  },
  {
   "cell_type": "code",
   "execution_count": 145,
   "id": "3714e56e-1915-4b42-a51f-74b79cea8121",
   "metadata": {},
   "outputs": [],
   "source": [
    "def EulerCircuit(n_qubits):\n",
    "    \"\"\"Construct a circuit applying an Euler Z-X-Z rotation to each qubit.\"\"\"\n",
    "    circuit = Circuit()\n",
    "    for target in range(n_qubits):\n",
    "        circuit.add_gate(Gate(\"RZ\" , target, parameter=0.0, is_variational=True))\n",
    "        circuit.add_gate(Gate(\"RX\", target, parameter=0.0, is_variational=True))\n",
    "        circuit.add_gate(Gate(\"RZ\", target, parameter=0.0, is_variational=True))\n",
    "    return circuit\n",
    "\n",
    "def EntanglerCircuit(n_qubits):\n",
    "    \"\"\"Construct a circuit applying two columns of staggered CNOT gates to all qubits\n",
    "     and their neighbours\"\"\"\n",
    "    circuit = Circuit()\n",
    "    for ii in range(n_qubits//2):\n",
    "        circuit.add_gate(Gate(\"CNOT\", control=2*ii, target=2*ii + 1))\n",
    "    for ii in range(n_qubits//2 - 1):\n",
    "        circuit.add_gate(Gate(\"CNOT\", control=2*ii + 1, target=2*(ii+1)))\n",
    "    return circuit\n",
    "\n",
    "def HEACircuit(n_qubits, n_layers):\n",
    "    \"\"\"Construct a circuit consisting of alternating sequence of Euler rotations and entanglers\"\"\"\n",
    "    circuit = EulerCircuit(n_qubits)\n",
    "    for ii in range(n_layers):\n",
    "        circuit += EntanglerCircuit(n_qubits)\n",
    "        circuit += EulerCircuit(n_qubits)\n",
    "    return circuit"
   ]
  },
  {
   "cell_type": "code",
   "execution_count": 146,
   "id": "46bdef84-dc4b-42e9-af6c-714cfddfeeea",
   "metadata": {},
   "outputs": [],
   "source": [
    "class HEA(Ansatz):\n",
    "\n",
    "    def __init__(self, n_spinorbitals, n_electrons, n_layers, mapping='jw'):\n",
    "\n",
    "        self.n_spinorbitals = n_spinorbitals\n",
    "        self.n_qubits = get_qubit_number(mapping, n_spinorbitals)\n",
    "        self.n_electrons = n_electrons\n",
    "        #number of layers of repeated entangler + Euler rotations\n",
    "        self.n_layers = n_layers\n",
    "        \n",
    "        #specify fermion-to-qubit mapping (required for the initial reference state)\n",
    "        self.mapping = mapping\n",
    "        \n",
    "        #Each layer has 3 variational parameters per qubit, and one non-variational entangler\n",
    "        #There is an additional layer with no entangler.\n",
    "        self.n_var_params = self.n_qubits * 3 * (self.n_layers + 1)\n",
    "\n",
    "        self.var_params = None\n",
    "        self.circuit = None\n",
    "\n",
    "    def set_var_params(self, var_params=None):\n",
    "        \"\"\"Set initial variational parameter values\"\"\"\n",
    "        if var_params is None:\n",
    "            var_params = np.random.random(self.n_var_params)\n",
    "        elif isinstance(var_params, str) and var_params == \"ones\":\n",
    "            var_params = np.ones(self.n_var_params, dtype=float)\n",
    "        elif len(var_params) != self.n_var_params:\n",
    "            raise ValueError('Invalid number of parameters.')\n",
    "        self.var_params = var_params\n",
    "        return var_params\n",
    "\n",
    "    def update_var_params(self, var_params):\n",
    "        \"\"\"Update variational parameters (done repeatedly during VQE)\"\"\"\n",
    "        for param_index in range(self.n_var_params):\n",
    "            self.circuit._variational_gates[param_index].parameter = var_params[param_index]\n",
    "    \n",
    "    def prepare_reference_state(self):\n",
    "        \"\"\"Prepare a circuit generating the HF reference state.\"\"\"\n",
    "        return get_reference_circuit(n_spinorbitals=self.n_spinorbitals, n_electrons=self.n_electrons,mapping=self.mapping)\n",
    "\n",
    "    def build_circuit(self, var_params=None):\n",
    "        \"\"\"Construct the variational circuit to be used as our ansatz.\"\"\"\n",
    "        self.var_params = self.set_var_params(var_params)\n",
    "\n",
    "        reference_state_circuit = self.prepare_reference_state()\n",
    "        hea_circuit = HEACircuit(self.n_qubits, self.n_layers)\n",
    "\n",
    "        if reference_state_circuit.size != 0:\n",
    "            self.circuit = reference_state_circuit + hea_circuit\n",
    "        else:\n",
    "            self.circuit = hea_circuit\n",
    "        return self.circuit"
   ]
  },
  {
   "cell_type": "code",
   "execution_count": 147,
   "id": "cc57fb4f-476f-459c-aff9-2df8f59989e8",
   "metadata": {},
   "outputs": [
    {
     "name": "stdout",
     "output_type": "stream",
     "text": [
      "{'qubit_hamiltonian_terms': 118, 'circuit_width': 6, 'circuit_depth': 24, 'circuit_2qubit_gates': 20, 'circuit_var_gates': 90, 'vqe_variational_parameters': 90}\n",
      "\n",
      " Ground Singlet state\n",
      "VQE energy = -7.979693574432048\n",
      "CASCI energy = -7.979876345514762\n"
     ]
    }
   ],
   "source": [
    "n_spinorbitals = mol_LiH_g.n_active_sos\n",
    "n_electrons = mol_LiH_g.n_active_electrons\n",
    "hea_layers = 4\n",
    "HEA_ansatz = HEA(n_spinorbitals=n_spinorbitals, n_electrons=n_electrons, n_layers=hea_layers)\n",
    "\n",
    "options_LiH_g_h_vqe = {\"molecule\": mol_LiH_g, \"qubit_mapping\": \"jw\", \"verbose\": False, \"ansatz\": HEA_ansatz}\n",
    "vqe_LiH_g_h = VQESolver(options_LiH_g_h_vqe)\n",
    "vqe_LiH_g_h.build()\n",
    "\n",
    "# Print the vqe resources\n",
    "resources_LiH_g_h_vqe = vqe_LiH_g_h.get_resources()\n",
    "print(resources_LiH_g_h_vqe)\n",
    "\n",
    "# Ground state energy calculation with VQE, reference values with FCI\n",
    "vqe_energy_g = vqe_LiH_g_h.simulate()\n",
    "print(\"\\n Ground Singlet state\")\n",
    "print(f\"VQE energy = {vqe_energy_g}\")\n",
    "print(f\"CASCI energy = {FCISolver(mol_LiH_g).simulate()}\")"
   ]
  },
  {
   "cell_type": "code",
   "execution_count": 148,
   "id": "ed2ca279-f59e-40e3-9150-8d85a5279339",
   "metadata": {},
   "outputs": [
    {
     "name": "stdout",
     "output_type": "stream",
     "text": [
      "{'qubit_hamiltonian_terms': 118, 'circuit_width': 6, 'circuit_depth': 24, 'circuit_2qubit_gates': 20, 'circuit_var_gates': 90, 'vqe_variational_parameters': 90}\n",
      "\n",
      " Ground Singlet state\n",
      "VQE energy = -7.978741471622649\n",
      "CASCI energy = -7.876819596419252\n"
     ]
    }
   ],
   "source": [
    "n_spinorbitals = mol_LiH_e.n_active_sos\n",
    "n_electrons = mol_LiH_e.n_active_electrons\n",
    "hea_layers = 4\n",
    "HEA_ansatz = HEA(n_spinorbitals=n_spinorbitals, n_electrons=n_electrons, n_layers=hea_layers)\n",
    "\n",
    "options_LiH_e_h_vqe = {\"molecule\": mol_LiH_e, \"qubit_mapping\": \"jw\", \"verbose\": False, \"ansatz\": HEA_ansatz}\n",
    "vqe_LiH_e_h = VQESolver(options_LiH_e_h_vqe)\n",
    "vqe_LiH_e_h.build()\n",
    "\n",
    "# Print the vqe resources\n",
    "resources_LiH_e_h_vqe = vqe_LiH_e_h.get_resources()\n",
    "print(resources_LiH_e_h_vqe)\n",
    "\n",
    "# Ground state energy calculation with VQE, reference values with FCI\n",
    "vqe_energy_e = vqe_LiH_e_h.simulate()\n",
    "print(\"\\n Ground Singlet state\")\n",
    "print(f\"VQE energy = {vqe_energy_e}\")\n",
    "print(f\"CASCI energy = {FCISolver(mol_LiH_e).simulate()}\")"
   ]
  },
  {
   "cell_type": "code",
   "execution_count": 149,
   "id": "5aef4dfc-08fc-4a61-96c7-7f679cd51280",
   "metadata": {},
   "outputs": [
    {
     "name": "stdout",
     "output_type": "stream",
     "text": [
      "{'qubit_hamiltonian_terms': 252, 'circuit_width': 10, 'circuit_depth': 24, 'circuit_2qubit_gates': 36, 'circuit_var_gates': 150, 'vqe_variational_parameters': 150}\n",
      "\n",
      " Ground Singlet state\n",
      "VQE energy = -149.83641635822607\n",
      "CASCI energy = -149.90440227772805\n"
     ]
    }
   ],
   "source": [
    "# Define the H2O element\n",
    "H2O = [('H', (0, 0, 0)), ('O', (0.758, 0.0, 0.586)), ('O', (-0.758, 0.0, 0.586))]\n",
    "\n",
    "# Create a SecondQuantizedMolecule instance for H2O\n",
    "mol_H2O = SQMol(H2O, q=0, spin=1, basis=selected_basis, frozen_orbitals=6)\n",
    "\n",
    "n_spinorbitals = mol_H2O.n_active_sos\n",
    "n_electrons = mol_H2O.n_active_electrons\n",
    "hea_layers = 4\n",
    "HEA_ansatz = HEA(n_spinorbitals=n_spinorbitals, n_electrons=n_electrons, n_layers=hea_layers)\n",
    "\n",
    "options_H2O_vqe = {\"molecule\": mol_H2O, \"qubit_mapping\": \"jw\", \"verbose\": False, \"ansatz\": HEA_ansatz}\n",
    "vqe_H2O = VQESolver(options_H2O_vqe)\n",
    "vqe_H2O.build()\n",
    "\n",
    "# Print the vqe resources\n",
    "resources_H2O_vqe = vqe_H2O.get_resources()\n",
    "print(resources_H2O_vqe)\n",
    "\n",
    "# Ground state energy calculation with VQE, reference values with FCI\n",
    "vqe_energy = vqe_H2O.simulate()\n",
    "print(\"\\n Ground Singlet state\")\n",
    "print(f\"VQE energy = {vqe_energy}\")\n",
    "print(f\"CASCI energy = {FCISolver(mol_H2O).simulate()}\")\n",
    "algorithm_resources[\"vqe_ground_state\"] = vqe_H2O.get_resources()"
   ]
  },
  {
   "cell_type": "code",
   "execution_count": null,
   "id": "172f3479-81b2-4670-b93f-69d654cafc42",
   "metadata": {},
   "outputs": [],
   "source": []
  }
 ],
 "metadata": {
  "kernelspec": {
   "display_name": "Python 3 (ipykernel)",
   "language": "python",
   "name": "python3"
  },
  "language_info": {
   "codemirror_mode": {
    "name": "ipython",
    "version": 3
   },
   "file_extension": ".py",
   "mimetype": "text/x-python",
   "name": "python",
   "nbconvert_exporter": "python",
   "pygments_lexer": "ipython3",
   "version": "3.12.4"
  }
 },
 "nbformat": 4,
 "nbformat_minor": 5
}
