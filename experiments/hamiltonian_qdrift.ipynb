{
 "cells": [
  {
   "cell_type": "code",
   "execution_count": 10,
   "metadata": {},
   "outputs": [],
   "source": [
    "import pennylane as qml\n",
    "from pennylane import numpy as np\n",
    "from pennylane import qchem"
   ]
  },
  {
   "cell_type": "code",
   "execution_count": 12,
   "metadata": {},
   "outputs": [],
   "source": [
    "# symbols = [\"H\", \"H\"]\n",
    "# geometry = np.array([[0., 0., -0.66140414], [0., 0., 0.66140414]])\n",
    "mol_LiH = qchem.Molecule([\"Li\", \"H\"], np.array([[0, 0, 0], [0, 0, 1.547]]))\n",
    "electrons = 4\n",
    "hamiltonian, qubits = qchem.molecular_hamiltonian(mol_LiH)"
   ]
  },
  {
   "cell_type": "code",
   "execution_count": 14,
   "metadata": {},
   "outputs": [],
   "source": [
    "hf = qchem.hf_state(electrons, qubits)\n",
    "singles, doubles = qchem.excitations(electrons=electrons, orbitals=qubits)\n",
    "num_theta = len(singles) + len(doubles)\n",
    "\n",
    "\n",
    "def circuit_VQE(theta, wires):\n",
    "    qml.AllSinglesDoubles(\n",
    "        weights=theta, wires=wires, hf_state=hf, singles=singles, doubles=doubles\n",
    "    )\n"
   ]
  },
  {
   "cell_type": "code",
   "execution_count": 82,
   "metadata": {},
   "outputs": [
    {
     "name": "stdout",
     "output_type": "stream",
     "text": [
      "VQE energy: -7.6534\n"
     ]
    }
   ],
   "source": [
    "dev = qml.device(\"lightning.qubit\", wires=qubits)\n",
    "\n",
    "\n",
    "@qml.qnode(dev, interface=\"autograd\")\n",
    "def cost_fn(theta):\n",
    "    circuit_VQE(theta, range(qubits))\n",
    "    return qml.expval(hamiltonian)\n",
    "\n",
    "\n",
    "stepsize = 0.4\n",
    "max_iterations = 50\n",
    "opt = qml.GradientDescentOptimizer(stepsize=stepsize)\n",
    "theta = np.zeros(num_theta, requires_grad=True)\n",
    "\n",
    "for n in range(max_iterations):\n",
    "    theta, prev_energy = opt.step_and_cost(cost_fn, theta)\n",
    "    # samples = cost_fn(theta)\n",
    "\n",
    "energy_VQE = cost_fn(theta)\n",
    "theta_opt = theta\n",
    "\n",
    "print(\"VQE energy: %.4f\" % (energy_VQE))\n",
    "# print(\"Optimal parameters:\", theta_opt)"
   ]
  },
  {
   "cell_type": "code",
   "execution_count": 77,
   "metadata": {},
   "outputs": [
    {
     "ename": "KeyboardInterrupt",
     "evalue": "",
     "output_type": "error",
     "traceback": [
      "\u001b[0;31m---------------------------------------------------------------------------\u001b[0m",
      "\u001b[0;31mKeyboardInterrupt\u001b[0m                         Traceback (most recent call last)",
      "Cell \u001b[0;32mIn[77], line 121\u001b[0m\n\u001b[1;32m    117\u001b[0m         energies\u001b[38;5;241m.\u001b[39mappend(energy)\n\u001b[1;32m    118\u001b[0m     \u001b[38;5;28;01mreturn\u001b[39;00m energies[\u001b[38;5;241m-\u001b[39m\u001b[38;5;241m1\u001b[39m], energies\n\u001b[0;32m--> 121\u001b[0m energy_G_1, energies_G_1 \u001b[38;5;241m=\u001b[39m \u001b[43mWEIGHTED_SSVQE\u001b[49m\u001b[43m(\u001b[49m\u001b[43mhamiltonian_lih\u001b[49m\u001b[43m,\u001b[49m\u001b[43m \u001b[49m\u001b[43mansatz\u001b[49m\u001b[43m,\u001b[49m\u001b[43m \u001b[49m\u001b[43mparams_lih\u001b[49m\u001b[43m,\u001b[49m\u001b[43m \u001b[49m\u001b[43mstepsize\u001b[49m\u001b[38;5;241;43m=\u001b[39;49m\u001b[38;5;241;43m0.05\u001b[39;49m\u001b[43m,\u001b[49m\u001b[43m \u001b[49m\u001b[43mk\u001b[49m\u001b[38;5;241;43m=\u001b[39;49m\u001b[38;5;241;43m0\u001b[39;49m\u001b[43m)\u001b[49m\n\u001b[1;32m    122\u001b[0m energy_1_1, energies_1_1 \u001b[38;5;241m=\u001b[39m WEIGHTED_SSVQE(hamiltonian_lih, ansatz, params_lih, stepsize\u001b[38;5;241m=\u001b[39m\u001b[38;5;241m0.05\u001b[39m, k\u001b[38;5;241m=\u001b[39m\u001b[38;5;241m1\u001b[39m)\n\u001b[1;32m    123\u001b[0m \u001b[38;5;28mprint\u001b[39m(\u001b[38;5;124m'\u001b[39m\u001b[38;5;124mEnergy of Ground state for the LiH hamiltonian is:\u001b[39m\u001b[38;5;124m'\u001b[39m, energy_G_1)\n",
      "Cell \u001b[0;32mIn[77], line 115\u001b[0m, in \u001b[0;36mWEIGHTED_SSVQE\u001b[0;34m(hamiltonian, ansatz, params, opt_name, stepsize, iterations, k, device_name)\u001b[0m\n\u001b[1;32m    113\u001b[0m \u001b[38;5;66;03m# Optimization loop.\u001b[39;00m\n\u001b[1;32m    114\u001b[0m \u001b[38;5;28;01mfor\u001b[39;00m _ \u001b[38;5;129;01min\u001b[39;00m \u001b[38;5;28mrange\u001b[39m(iterations):\n\u001b[0;32m--> 115\u001b[0m     params \u001b[38;5;241m=\u001b[39m \u001b[43moptimizer\u001b[49m\u001b[38;5;241;43m.\u001b[39;49m\u001b[43mstep\u001b[49m\u001b[43m(\u001b[49m\u001b[43mtotal_cost\u001b[49m\u001b[43m,\u001b[49m\u001b[43m \u001b[49m\u001b[43mparams\u001b[49m\u001b[43m)\u001b[49m\n\u001b[1;32m    116\u001b[0m     energy \u001b[38;5;241m=\u001b[39m state_cost(params, state_value\u001b[38;5;241m=\u001b[39mk)\n\u001b[1;32m    117\u001b[0m     energies\u001b[38;5;241m.\u001b[39mappend(energy)\n",
      "File \u001b[0;32m~/.pyenv/versions/3.12.5/envs/nyc_haq/lib/python3.12/site-packages/pennylane/optimize/gradient_descent.py:93\u001b[0m, in \u001b[0;36mGradientDescentOptimizer.step\u001b[0;34m(self, objective_fn, grad_fn, *args, **kwargs)\u001b[0m\n\u001b[1;32m     75\u001b[0m \u001b[38;5;28;01mdef\u001b[39;00m \u001b[38;5;21mstep\u001b[39m(\u001b[38;5;28mself\u001b[39m, objective_fn, \u001b[38;5;241m*\u001b[39margs, grad_fn\u001b[38;5;241m=\u001b[39m\u001b[38;5;28;01mNone\u001b[39;00m, \u001b[38;5;241m*\u001b[39m\u001b[38;5;241m*\u001b[39mkwargs):\n\u001b[1;32m     76\u001b[0m \u001b[38;5;250m    \u001b[39m\u001b[38;5;124;03m\"\"\"Update trainable arguments with one step of the optimizer.\u001b[39;00m\n\u001b[1;32m     77\u001b[0m \n\u001b[1;32m     78\u001b[0m \u001b[38;5;124;03m    Args:\u001b[39;00m\n\u001b[0;32m   (...)\u001b[0m\n\u001b[1;32m     90\u001b[0m \u001b[38;5;124;03m        If single arg is provided, list [array] is replaced by array.\u001b[39;00m\n\u001b[1;32m     91\u001b[0m \u001b[38;5;124;03m    \"\"\"\u001b[39;00m\n\u001b[0;32m---> 93\u001b[0m     g, _ \u001b[38;5;241m=\u001b[39m \u001b[38;5;28;43mself\u001b[39;49m\u001b[38;5;241;43m.\u001b[39;49m\u001b[43mcompute_grad\u001b[49m\u001b[43m(\u001b[49m\u001b[43mobjective_fn\u001b[49m\u001b[43m,\u001b[49m\u001b[43m \u001b[49m\u001b[43margs\u001b[49m\u001b[43m,\u001b[49m\u001b[43m \u001b[49m\u001b[43mkwargs\u001b[49m\u001b[43m,\u001b[49m\u001b[43m \u001b[49m\u001b[43mgrad_fn\u001b[49m\u001b[38;5;241;43m=\u001b[39;49m\u001b[43mgrad_fn\u001b[49m\u001b[43m)\u001b[49m\n\u001b[1;32m     94\u001b[0m     new_args \u001b[38;5;241m=\u001b[39m \u001b[38;5;28mself\u001b[39m\u001b[38;5;241m.\u001b[39mapply_grad(g, args)\n\u001b[1;32m     96\u001b[0m     \u001b[38;5;66;03m# unwrap from list if one argument, cleaner return\u001b[39;00m\n",
      "File \u001b[0;32m~/.pyenv/versions/3.12.5/envs/nyc_haq/lib/python3.12/site-packages/pennylane/optimize/gradient_descent.py:122\u001b[0m, in \u001b[0;36mGradientDescentOptimizer.compute_grad\u001b[0;34m(objective_fn, args, kwargs, grad_fn)\u001b[0m\n\u001b[1;32m    104\u001b[0m \u001b[38;5;250m\u001b[39m\u001b[38;5;124mr\u001b[39m\u001b[38;5;124;03m\"\"\"Compute gradient of the objective function at the given point and return it along with\u001b[39;00m\n\u001b[1;32m    105\u001b[0m \u001b[38;5;124;03mthe objective function forward pass (if available).\u001b[39;00m\n\u001b[1;32m    106\u001b[0m \n\u001b[0;32m   (...)\u001b[0m\n\u001b[1;32m    119\u001b[0m \u001b[38;5;124;03m    will not be evaluted and instead ``None`` will be returned.\u001b[39;00m\n\u001b[1;32m    120\u001b[0m \u001b[38;5;124;03m\"\"\"\u001b[39;00m\n\u001b[1;32m    121\u001b[0m g \u001b[38;5;241m=\u001b[39m get_gradient(objective_fn) \u001b[38;5;28;01mif\u001b[39;00m grad_fn \u001b[38;5;129;01mis\u001b[39;00m \u001b[38;5;28;01mNone\u001b[39;00m \u001b[38;5;28;01melse\u001b[39;00m grad_fn\n\u001b[0;32m--> 122\u001b[0m grad \u001b[38;5;241m=\u001b[39m \u001b[43mg\u001b[49m\u001b[43m(\u001b[49m\u001b[38;5;241;43m*\u001b[39;49m\u001b[43margs\u001b[49m\u001b[43m,\u001b[49m\u001b[43m \u001b[49m\u001b[38;5;241;43m*\u001b[39;49m\u001b[38;5;241;43m*\u001b[39;49m\u001b[43mkwargs\u001b[49m\u001b[43m)\u001b[49m\n\u001b[1;32m    123\u001b[0m forward \u001b[38;5;241m=\u001b[39m \u001b[38;5;28mgetattr\u001b[39m(g, \u001b[38;5;124m\"\u001b[39m\u001b[38;5;124mforward\u001b[39m\u001b[38;5;124m\"\u001b[39m, \u001b[38;5;28;01mNone\u001b[39;00m)\n\u001b[1;32m    125\u001b[0m num_trainable_args \u001b[38;5;241m=\u001b[39m \u001b[38;5;28msum\u001b[39m(\u001b[38;5;28mgetattr\u001b[39m(arg, \u001b[38;5;124m\"\u001b[39m\u001b[38;5;124mrequires_grad\u001b[39m\u001b[38;5;124m\"\u001b[39m, \u001b[38;5;28;01mFalse\u001b[39;00m) \u001b[38;5;28;01mfor\u001b[39;00m arg \u001b[38;5;129;01min\u001b[39;00m args)\n",
      "File \u001b[0;32m~/.pyenv/versions/3.12.5/envs/nyc_haq/lib/python3.12/site-packages/pennylane/_grad.py:166\u001b[0m, in \u001b[0;36mgrad.__call__\u001b[0;34m(self, *args, **kwargs)\u001b[0m\n\u001b[1;32m    163\u001b[0m     \u001b[38;5;28mself\u001b[39m\u001b[38;5;241m.\u001b[39m_forward \u001b[38;5;241m=\u001b[39m \u001b[38;5;28mself\u001b[39m\u001b[38;5;241m.\u001b[39m_fun(\u001b[38;5;241m*\u001b[39margs, \u001b[38;5;241m*\u001b[39m\u001b[38;5;241m*\u001b[39mkwargs)\n\u001b[1;32m    164\u001b[0m     \u001b[38;5;28;01mreturn\u001b[39;00m ()\n\u001b[0;32m--> 166\u001b[0m grad_value, ans \u001b[38;5;241m=\u001b[39m \u001b[43mgrad_fn\u001b[49m\u001b[43m(\u001b[49m\u001b[38;5;241;43m*\u001b[39;49m\u001b[43margs\u001b[49m\u001b[43m,\u001b[49m\u001b[43m \u001b[49m\u001b[38;5;241;43m*\u001b[39;49m\u001b[38;5;241;43m*\u001b[39;49m\u001b[43mkwargs\u001b[49m\u001b[43m)\u001b[49m  \u001b[38;5;66;03m# pylint: disable=not-callable\u001b[39;00m\n\u001b[1;32m    167\u001b[0m \u001b[38;5;28mself\u001b[39m\u001b[38;5;241m.\u001b[39m_forward \u001b[38;5;241m=\u001b[39m ans\n\u001b[1;32m    169\u001b[0m \u001b[38;5;28;01mreturn\u001b[39;00m grad_value\n",
      "File \u001b[0;32m~/.pyenv/versions/3.12.5/envs/nyc_haq/lib/python3.12/site-packages/autograd/wrap_util.py:20\u001b[0m, in \u001b[0;36munary_to_nary.<locals>.nary_operator.<locals>.nary_f\u001b[0;34m(*args, **kwargs)\u001b[0m\n\u001b[1;32m     18\u001b[0m \u001b[38;5;28;01melse\u001b[39;00m:\n\u001b[1;32m     19\u001b[0m     x \u001b[38;5;241m=\u001b[39m \u001b[38;5;28mtuple\u001b[39m(args[i] \u001b[38;5;28;01mfor\u001b[39;00m i \u001b[38;5;129;01min\u001b[39;00m argnum)\n\u001b[0;32m---> 20\u001b[0m \u001b[38;5;28;01mreturn\u001b[39;00m \u001b[43munary_operator\u001b[49m\u001b[43m(\u001b[49m\u001b[43munary_f\u001b[49m\u001b[43m,\u001b[49m\u001b[43m \u001b[49m\u001b[43mx\u001b[49m\u001b[43m,\u001b[49m\u001b[43m \u001b[49m\u001b[38;5;241;43m*\u001b[39;49m\u001b[43mnary_op_args\u001b[49m\u001b[43m,\u001b[49m\u001b[43m \u001b[49m\u001b[38;5;241;43m*\u001b[39;49m\u001b[38;5;241;43m*\u001b[39;49m\u001b[43mnary_op_kwargs\u001b[49m\u001b[43m)\u001b[49m\n",
      "File \u001b[0;32m~/.pyenv/versions/3.12.5/envs/nyc_haq/lib/python3.12/site-packages/pennylane/_grad.py:192\u001b[0m, in \u001b[0;36mgrad._grad_with_forward\u001b[0;34m(fun, x)\u001b[0m\n\u001b[1;32m    186\u001b[0m \u001b[38;5;28;01mif\u001b[39;00m vspace(ans)\u001b[38;5;241m.\u001b[39msize \u001b[38;5;241m!=\u001b[39m \u001b[38;5;241m1\u001b[39m:\n\u001b[1;32m    187\u001b[0m     \u001b[38;5;28;01mraise\u001b[39;00m \u001b[38;5;167;01mTypeError\u001b[39;00m(\n\u001b[1;32m    188\u001b[0m         \u001b[38;5;124m\"\u001b[39m\u001b[38;5;124mGrad only applies to real scalar-output functions. \u001b[39m\u001b[38;5;124m\"\u001b[39m\n\u001b[1;32m    189\u001b[0m         \u001b[38;5;124m\"\u001b[39m\u001b[38;5;124mTry jacobian, elementwise_grad or holomorphic_grad.\u001b[39m\u001b[38;5;124m\"\u001b[39m\n\u001b[1;32m    190\u001b[0m     )\n\u001b[0;32m--> 192\u001b[0m grad_value \u001b[38;5;241m=\u001b[39m \u001b[43mvjp\u001b[49m\u001b[43m(\u001b[49m\u001b[43mvspace\u001b[49m\u001b[43m(\u001b[49m\u001b[43mans\u001b[49m\u001b[43m)\u001b[49m\u001b[38;5;241;43m.\u001b[39;49m\u001b[43mones\u001b[49m\u001b[43m(\u001b[49m\u001b[43m)\u001b[49m\u001b[43m)\u001b[49m\n\u001b[1;32m    193\u001b[0m \u001b[38;5;28;01mreturn\u001b[39;00m grad_value, ans\n",
      "File \u001b[0;32m~/.pyenv/versions/3.12.5/envs/nyc_haq/lib/python3.12/site-packages/autograd/core.py:14\u001b[0m, in \u001b[0;36mmake_vjp.<locals>.vjp\u001b[0;34m(g)\u001b[0m\n\u001b[0;32m---> 14\u001b[0m \u001b[38;5;28;01mdef\u001b[39;00m \u001b[38;5;21mvjp\u001b[39m(g): \u001b[38;5;28;01mreturn\u001b[39;00m \u001b[43mbackward_pass\u001b[49m\u001b[43m(\u001b[49m\u001b[43mg\u001b[49m\u001b[43m,\u001b[49m\u001b[43m \u001b[49m\u001b[43mend_node\u001b[49m\u001b[43m)\u001b[49m\n",
      "File \u001b[0;32m~/.pyenv/versions/3.12.5/envs/nyc_haq/lib/python3.12/site-packages/autograd/core.py:23\u001b[0m, in \u001b[0;36mbackward_pass\u001b[0;34m(g, end_node)\u001b[0m\n\u001b[1;32m     21\u001b[0m     ingrads \u001b[38;5;241m=\u001b[39m node\u001b[38;5;241m.\u001b[39mvjp(outgrad[\u001b[38;5;241m0\u001b[39m])\n\u001b[1;32m     22\u001b[0m     \u001b[38;5;28;01mfor\u001b[39;00m parent, ingrad \u001b[38;5;129;01min\u001b[39;00m \u001b[38;5;28mzip\u001b[39m(node\u001b[38;5;241m.\u001b[39mparents, ingrads):\n\u001b[0;32m---> 23\u001b[0m         outgrads[parent] \u001b[38;5;241m=\u001b[39m \u001b[43madd_outgrads\u001b[49m\u001b[43m(\u001b[49m\u001b[43moutgrads\u001b[49m\u001b[38;5;241;43m.\u001b[39;49m\u001b[43mget\u001b[49m\u001b[43m(\u001b[49m\u001b[43mparent\u001b[49m\u001b[43m)\u001b[49m\u001b[43m,\u001b[49m\u001b[43m \u001b[49m\u001b[43mingrad\u001b[49m\u001b[43m)\u001b[49m\n\u001b[1;32m     24\u001b[0m \u001b[38;5;28;01mreturn\u001b[39;00m outgrad[\u001b[38;5;241m0\u001b[39m]\n",
      "File \u001b[0;32m~/.pyenv/versions/3.12.5/envs/nyc_haq/lib/python3.12/site-packages/autograd/core.py:176\u001b[0m, in \u001b[0;36madd_outgrads\u001b[0;34m(prev_g_flagged, g)\u001b[0m\n\u001b[1;32m    174\u001b[0m \u001b[38;5;28;01melse\u001b[39;00m:\n\u001b[1;32m    175\u001b[0m     \u001b[38;5;28;01mif\u001b[39;00m sparse:\n\u001b[0;32m--> 176\u001b[0m         \u001b[38;5;28;01mreturn\u001b[39;00m \u001b[43msparse_add\u001b[49m\u001b[43m(\u001b[49m\u001b[43mvspace\u001b[49m\u001b[43m(\u001b[49m\u001b[43mg\u001b[49m\u001b[43m)\u001b[49m\u001b[43m,\u001b[49m\u001b[43m \u001b[49m\u001b[38;5;28;43;01mNone\u001b[39;49;00m\u001b[43m,\u001b[49m\u001b[43m \u001b[49m\u001b[43mg\u001b[49m\u001b[43m)\u001b[49m, \u001b[38;5;28;01mTrue\u001b[39;00m\n\u001b[1;32m    177\u001b[0m     \u001b[38;5;28;01melse\u001b[39;00m:\n\u001b[1;32m    178\u001b[0m         \u001b[38;5;28;01mreturn\u001b[39;00m g, \u001b[38;5;28;01mFalse\u001b[39;00m\n",
      "File \u001b[0;32m~/.pyenv/versions/3.12.5/envs/nyc_haq/lib/python3.12/site-packages/autograd/tracer.py:48\u001b[0m, in \u001b[0;36mprimitive.<locals>.f_wrapped\u001b[0;34m(*args, **kwargs)\u001b[0m\n\u001b[1;32m     46\u001b[0m     \u001b[38;5;28;01mreturn\u001b[39;00m new_box(ans, trace, node)\n\u001b[1;32m     47\u001b[0m \u001b[38;5;28;01melse\u001b[39;00m:\n\u001b[0;32m---> 48\u001b[0m     \u001b[38;5;28;01mreturn\u001b[39;00m \u001b[43mf_raw\u001b[49m\u001b[43m(\u001b[49m\u001b[38;5;241;43m*\u001b[39;49m\u001b[43margs\u001b[49m\u001b[43m,\u001b[49m\u001b[43m \u001b[49m\u001b[38;5;241;43m*\u001b[39;49m\u001b[38;5;241;43m*\u001b[39;49m\u001b[43mkwargs\u001b[49m\u001b[43m)\u001b[49m\n",
      "File \u001b[0;32m~/.pyenv/versions/3.12.5/envs/nyc_haq/lib/python3.12/site-packages/autograd/core.py:186\u001b[0m, in \u001b[0;36msparse_add\u001b[0;34m(vs, x_prev, x_new)\u001b[0m\n\u001b[1;32m    183\u001b[0m \u001b[38;5;129m@primitive\u001b[39m\n\u001b[1;32m    184\u001b[0m \u001b[38;5;28;01mdef\u001b[39;00m \u001b[38;5;21msparse_add\u001b[39m(vs, x_prev, x_new):\n\u001b[1;32m    185\u001b[0m     x_prev \u001b[38;5;241m=\u001b[39m x_prev \u001b[38;5;28;01mif\u001b[39;00m x_prev \u001b[38;5;129;01mis\u001b[39;00m \u001b[38;5;129;01mnot\u001b[39;00m \u001b[38;5;28;01mNone\u001b[39;00m \u001b[38;5;28;01melse\u001b[39;00m vs\u001b[38;5;241m.\u001b[39mzeros()\n\u001b[0;32m--> 186\u001b[0m     \u001b[38;5;28;01mreturn\u001b[39;00m \u001b[43mx_new\u001b[49m\u001b[38;5;241;43m.\u001b[39;49m\u001b[43mmut_add\u001b[49m\u001b[43m(\u001b[49m\u001b[43mx_prev\u001b[49m\u001b[43m)\u001b[49m\n",
      "File \u001b[0;32m~/.pyenv/versions/3.12.5/envs/nyc_haq/lib/python3.12/site-packages/autograd/numpy/numpy_vjps.py:698\u001b[0m, in \u001b[0;36muntake.<locals>.mut_add\u001b[0;34m(A)\u001b[0m\n\u001b[1;32m    697\u001b[0m \u001b[38;5;28;01mdef\u001b[39;00m \u001b[38;5;21mmut_add\u001b[39m(A):\n\u001b[0;32m--> 698\u001b[0m     \u001b[43monp\u001b[49m\u001b[38;5;241;43m.\u001b[39;49m\u001b[43madd\u001b[49m\u001b[38;5;241;43m.\u001b[39;49m\u001b[43mat\u001b[49m\u001b[43m(\u001b[49m\u001b[43mA\u001b[49m\u001b[43m,\u001b[49m\u001b[43m \u001b[49m\u001b[43midx\u001b[49m\u001b[43m,\u001b[49m\u001b[43m \u001b[49m\u001b[43mx\u001b[49m\u001b[43m)\u001b[49m\n\u001b[1;32m    699\u001b[0m     \u001b[38;5;28;01mreturn\u001b[39;00m A\n",
      "\u001b[0;31mKeyboardInterrupt\u001b[0m: "
     ]
    }
   ],
   "source": [
    "# new_ham = hamiltonian + 10 * np.atleast_2d(np.array(theta_opt)).conj().T @ np.atleast_2d(np.array(theta_opt))\n",
    "\n",
    "# def sim_En_1():\n",
    "#     dev = qml.device(\"lightning.qubit\", wires=qubits)\n",
    "\n",
    "#     @qml.qnode(dev, interface=\"autograd\")\n",
    "#     def cost_fn(theta):\n",
    "#         circuit_VQE(theta, range(qubits))\n",
    "#         return qml.expval(new_ham)\n",
    "\n",
    "#     stepsize = 0.4\n",
    "#     max_iterations = 30\n",
    "#     opt = qml.GradientDescentOptimizer(stepsize=stepsize)\n",
    "#     theta = np.zeros(num_theta, requires_grad=True)\n",
    "\n",
    "#     for n in range(max_iterations):\n",
    "#         theta, prev_energy = opt.step_and_cost(cost_fn, theta)\n",
    "#         # samples = cost_fn(theta)\n",
    "\n",
    "#     energy_VQE = cost_fn(theta)\n",
    "#     theta_opt = theta\n",
    "\n",
    "#     print(\"VQE energy: %.4f\" % (energy_VQE))\n",
    "\n",
    "# Molecule Parameters:\n",
    "# symbols_lih = [\"Li\", \"H\"]\n",
    "# geometry_lih = np.array([0.0, 0.0, 0.0, 0.0, 0.0, 2.969280527])\n",
    "# qchem.Molecule([\"Li\", \"H\"], np.array([[0, 0, 0], [0, 0, 1.547]]))\n",
    "# Hamiltonian:\n",
    "# hamiltonian_lih, qubits_lih =  qml.qchem.molecular_hamiltonian(\n",
    "#         symbols_lih,\n",
    "#         geometry_lih,\n",
    "#         active_electrons=2,\n",
    "#         active_orbitals=2\n",
    "# )\n",
    "\n",
    "def WEIGHTED_SSVQE(\n",
    "    hamiltonian,\n",
    "    ansatz,\n",
    "    params,\n",
    "    opt_name=\"Adam\",\n",
    "    stepsize=0.1,\n",
    "    iterations=100,\n",
    "    k=0,\n",
    "    device_name=\"default.qubit\",\n",
    "):\n",
    "    \"\"\"Calculates the kth excited state energy for of a given Hamiltonian.\n",
    "\n",
    "    Args:\n",
    "        => hamiltonian (qml.Hamiltonian): Hamiltonian for which the Kth excited state energy is to be found.\n",
    "        => ansatz (function(params, wires, *args)): The circuit ansatz for which the cost function will be optimized.\n",
    "           ansatz must have atleast two arguments 'params' and 'wires'.\n",
    "           There is no need to prepare orthogonal basis stats, they will be prepared by the algorithm.\n",
    "        => params (any): Parameters that can be passed to the provided ansatz.\n",
    "        => opt_name(string): Name of the optimizer to use for optimization.\n",
    "           Currently the function supports 'Adam' 'Adagrad' 'GradientDescent'.\n",
    "        => stepsize (float): Stepsize for the optimizer.\n",
    "        => iterations (int): No. of Iterations for the optimization.\n",
    "        => k (int): K for which the Kth excited state energy will be calculated. K <= 2^qubits-1.\n",
    "        => device_name(string): device name for creating device such that qml.device(device_name, wires=wires).\n",
    "    Returns:\n",
    "        => (Energy, Energies): The function returns a tuple of Energy of Kth excited state and list of energies at each iteration for plotting the graph.\n",
    "    \"\"\"\n",
    "\n",
    "    # Calculate number of qubits required for the given Hamiltonian and create the device.\n",
    "    qubits = len(hamiltonian.wires)\n",
    "    device = qml.device(device_name, wires=qubits)\n",
    "    wires = range(qubits)\n",
    "\n",
    "    # Define the weights for the cost function.\n",
    "    weights = np.random.random()\n",
    "\n",
    "    # State Preparation for orthogonal states.\n",
    "    def state_prep(state_value):\n",
    "        for index, value in enumerate(np.binary_repr(state_value, qubits)):\n",
    "            if value == \"1\":\n",
    "                qml.PauliX(index)\n",
    "\n",
    "    # Cost of each orthogonal state.\n",
    "    @qml.qnode(device)\n",
    "    def state_cost(params, state_value):\n",
    "        state_prep(state_value)\n",
    "        ansatz(params, wires)\n",
    "        return qml.expval(hamiltonian)\n",
    "\n",
    "    # Total cost of the system.\n",
    "    def total_cost(params):\n",
    "        cost = 0\n",
    "        for index in range(k + 1):\n",
    "            if index == k:\n",
    "                cost += weights * state_cost(params, state_value=index)\n",
    "            else:\n",
    "                cost += state_cost(params, state_value=index)\n",
    "        return cost\n",
    "\n",
    "    # Optimizers options.\n",
    "    optimizers = {\n",
    "        \"Adam\": qml.AdamOptimizer(stepsize=stepsize),\n",
    "        \"Adagrad\": qml.AdagradOptimizer(stepsize=stepsize),\n",
    "        \"GradientDescent\": qml.GradientDescentOptimizer(stepsize=stepsize),\n",
    "    }\n",
    "\n",
    "    # Define the Optimizer and initial parameters.\n",
    "    optimizer = optimizers[opt_name]\n",
    "    energies = []\n",
    "\n",
    "    # Optimization loop.\n",
    "    for _ in range(iterations):\n",
    "        params = optimizer.step(total_cost, params)\n",
    "        energy = state_cost(params, state_value=k)\n",
    "        energies.append(energy)\n",
    "    return energies[-1], energies\n",
    "\n",
    "\n",
    "# energy_G_1, energies_G_1 = WEIGHTED_SSVQE(hamiltonian_lih, ansatz, params_lih, stepsize=0.05, k=0)\n",
    "# energy_1_1, energies_1_1 = WEIGHTED_SSVQE(hamiltonian_lih, ansatz, params_lih, stepsize=0.05, k=1)\n",
    "# print('Energy of Ground state for the LiH hamiltonian is:', energy_G_1)\n",
    "# print('Energy of First Excited state for the H2 hamiltonian is:', energy_1_1)\n",
    "# print()"
   ]
  },
  {
   "cell_type": "code",
   "execution_count": 81,
   "metadata": {},
   "outputs": [
    {
     "name": "stdout",
     "output_type": "stream",
     "text": [
      "Energy of Ground state for the LiH hamiltonian is: -3.9908181984991336\n",
      "[tensor(-3.85089791, requires_grad=True), tensor(-3.8562052, requires_grad=True), tensor(-3.86148685, requires_grad=True), tensor(-3.8667411, requires_grad=True), tensor(-3.87196642, requires_grad=True), tensor(-3.87716143, requires_grad=True), tensor(-3.88232492, requires_grad=True), tensor(-3.88745582, requires_grad=True), tensor(-3.89255318, requires_grad=True), tensor(-3.89761616, requires_grad=True), tensor(-3.90264401, requires_grad=True), tensor(-3.90763604, requires_grad=True), tensor(-3.91259165, requires_grad=True), tensor(-3.91751025, requires_grad=True), tensor(-3.92239132, requires_grad=True), tensor(-3.92723436, requires_grad=True), tensor(-3.9320389, requires_grad=True), tensor(-3.93680447, requires_grad=True), tensor(-3.94153066, requires_grad=True), tensor(-3.94621703, requires_grad=True), tensor(-3.95086321, requires_grad=True), tensor(-3.95546882, requires_grad=True), tensor(-3.9600335, requires_grad=True), tensor(-3.96455695, requires_grad=True), tensor(-3.96903887, requires_grad=True), tensor(-3.973479, requires_grad=True), tensor(-3.97787715, requires_grad=True), tensor(-3.98223313, requires_grad=True), tensor(-3.98654684, requires_grad=True), tensor(-3.9908182, requires_grad=True)]\n",
      "Energy of First Excited state for the LiH hamiltonian is: -4.018141536961636\n",
      "[tensor(-3.86590789, requires_grad=True), tensor(-3.87880443, requires_grad=True), tensor(-3.8908891, requires_grad=True), tensor(-3.90203166, requires_grad=True), tensor(-3.91216568, requires_grad=True), tensor(-3.92128352, requires_grad=True), tensor(-3.92942633, requires_grad=True), tensor(-3.93667152, requires_grad=True), tensor(-3.94311937, requires_grad=True), tensor(-3.94888043, requires_grad=True), tensor(-3.95406512, requires_grad=True), tensor(-3.95877655, requires_grad=True), tensor(-3.9631064, requires_grad=True), tensor(-3.96713324, requires_grad=True), tensor(-3.97092254, requires_grad=True), tensor(-3.97452751, requires_grad=True), tensor(-3.97799039, requires_grad=True), tensor(-3.98134396, requires_grad=True), tensor(-3.9846131, requires_grad=True), tensor(-3.98781645, requires_grad=True), tensor(-3.99096783, requires_grad=True), tensor(-3.99407762, requires_grad=True), tensor(-3.99715373, requires_grad=True), tensor(-4.00020234, requires_grad=True), tensor(-4.00322841, requires_grad=True), tensor(-4.00623596, requires_grad=True), tensor(-4.00922831, requires_grad=True), tensor(-4.0122083, requires_grad=True), tensor(-4.01517851, requires_grad=True), tensor(-4.01814154, requires_grad=True)]\n"
     ]
    }
   ],
   "source": [
    "hamiltonian_lih, qubits_lih = qchem.molecular_hamiltonian(mol_LiH)\n",
    "\n",
    "# Params:\n",
    "params_lih = np.random.uniform(0, 2 * np.pi, (6, qubits_lih, 3))\n",
    "def ansatz(params, wires):\n",
    "    qml.templates.StronglyEntanglingLayers(params, wires=wires)\n",
    "\n",
    "energy_G_1, energies_G_1 = WEIGHTED_SSVQE(hamiltonian_lih, ansatz, params_lih, stepsize=0.4, iterations=30, k=0)\n",
    "print('Energy of Ground state for the LiH hamiltonian is:', energy_G_1)\n",
    "print(energies_G_1)\n",
    "energy_1_1, energies_1_1 = WEIGHTED_SSVQE(hamiltonian_lih, ansatz, params_lih, stepsize=0.4, iterations=30, k=1)\n",
    "print('Energy of First Excited state for the LiH hamiltonian is:', energy_1_1)\n",
    "print(energies_1_1)"
   ]
  },
  {
   "cell_type": "code",
   "execution_count": 28,
   "metadata": {},
   "outputs": [],
   "source": [
    "@qml.qnode(dev)\n",
    "def my_circ(time: float):\n",
    "    # Prepare some state\n",
    "    # qml.Hadamard(0)\n",
    "    circuit_VQE(theta, range(qubits))\n",
    "    # Evolve according to H\n",
    "    qml.QDrift(hamiltonian, time=time, n=10, seed=10)\n",
    "\n",
    "    return qml.expval(hamiltonian)\n"
   ]
  },
  {
   "cell_type": "code",
   "execution_count": 29,
   "metadata": {},
   "outputs": [],
   "source": [
    "# print(my_circ())"
   ]
  },
  {
   "cell_type": "code",
   "execution_count": 80,
   "metadata": {},
   "outputs": [
    {
     "data": {
      "image/png": "[encoded data removed]",
      "text/plain": [
       "<Figure size 640x480 with 1 Axes>"
      ]
     },
     "metadata": {},
     "output_type": "display_data"
    }
   ],
   "source": [
    "import matplotlib.pyplot as plt\n",
    "\n",
    "# plot res using the matplotlib library with 4 lines on the same graph over the time np.linspace(0.01, 1.0, 4)\n",
    "timesteps = np.linspace(0.01, 1, 15)\n",
    "# result = np.hstack([np.atleast_2d(simulate_molecule(mol_LiH, t)).T for t in timesteps])\n",
    "# plt.plot(timesteps, *result)\n",
    "# for r in result:\n",
    "plt.plot(timesteps, [my_circ(t) for t in timesteps])\n",
    "plt.grid(True, linestyle=\"--\", alpha=0.6)\n",
    "plt.show()\n",
    "# plt.show()"
   ]
  },
  {
   "cell_type": "code",
   "execution_count": 8,
   "metadata": {},
   "outputs": [
    {
     "ename": "ValueError",
     "evalue": "State must be of length 1; got length 4 (state=[1 1 0 0]).",
     "output_type": "error",
     "traceback": [
      "\u001b[0;31m---------------------------------------------------------------------------\u001b[0m",
      "\u001b[0;31mValueError\u001b[0m                                Traceback (most recent call last)",
      "Cell \u001b[0;32mIn[8], line 10\u001b[0m\n\u001b[1;32m      7\u001b[0m     \u001b[38;5;28;01mreturn\u001b[39;00m qml\u001b[38;5;241m.\u001b[39mexpval(hamiltonian)\n\u001b[1;32m      9\u001b[0m params \u001b[38;5;241m=\u001b[39m np\u001b[38;5;241m.\u001b[39marray(\u001b[38;5;241m0.20885146442480412\u001b[39m, requires_grad\u001b[38;5;241m=\u001b[39m\u001b[38;5;28;01mTrue\u001b[39;00m)\n\u001b[0;32m---> 10\u001b[0m \u001b[43mcircuit\u001b[49m\u001b[43m(\u001b[49m\u001b[43mparams\u001b[49m\u001b[43m)\u001b[49m\n",
      "File \u001b[0;32m~/.pyenv/versions/3.12.5/envs/nyc_haq/lib/python3.12/site-packages/pennylane/workflow/qnode.py:1020\u001b[0m, in \u001b[0;36mQNode.__call__\u001b[0;34m(self, *args, **kwargs)\u001b[0m\n\u001b[1;32m   1018\u001b[0m \u001b[38;5;28;01mif\u001b[39;00m qml\u001b[38;5;241m.\u001b[39mcapture\u001b[38;5;241m.\u001b[39menabled():\n\u001b[1;32m   1019\u001b[0m     \u001b[38;5;28;01mreturn\u001b[39;00m qml\u001b[38;5;241m.\u001b[39mcapture\u001b[38;5;241m.\u001b[39mqnode_call(\u001b[38;5;28mself\u001b[39m, \u001b[38;5;241m*\u001b[39margs, \u001b[38;5;241m*\u001b[39m\u001b[38;5;241m*\u001b[39mkwargs)\n\u001b[0;32m-> 1020\u001b[0m \u001b[38;5;28;01mreturn\u001b[39;00m \u001b[38;5;28;43mself\u001b[39;49m\u001b[38;5;241;43m.\u001b[39;49m\u001b[43m_impl_call\u001b[49m\u001b[43m(\u001b[49m\u001b[38;5;241;43m*\u001b[39;49m\u001b[43margs\u001b[49m\u001b[43m,\u001b[49m\u001b[43m \u001b[49m\u001b[38;5;241;43m*\u001b[39;49m\u001b[38;5;241;43m*\u001b[39;49m\u001b[43mkwargs\u001b[49m\u001b[43m)\u001b[49m\n",
      "File \u001b[0;32m~/.pyenv/versions/3.12.5/envs/nyc_haq/lib/python3.12/site-packages/pennylane/workflow/qnode.py:1002\u001b[0m, in \u001b[0;36mQNode._impl_call\u001b[0;34m(self, *args, **kwargs)\u001b[0m\n\u001b[1;32m    999\u001b[0m     override_shots \u001b[38;5;241m=\u001b[39m kwargs[\u001b[38;5;124m\"\u001b[39m\u001b[38;5;124mshots\u001b[39m\u001b[38;5;124m\"\u001b[39m]\n\u001b[1;32m   1001\u001b[0m \u001b[38;5;66;03m# construct the tape\u001b[39;00m\n\u001b[0;32m-> 1002\u001b[0m \u001b[38;5;28;43mself\u001b[39;49m\u001b[38;5;241;43m.\u001b[39;49m\u001b[43mconstruct\u001b[49m\u001b[43m(\u001b[49m\u001b[43margs\u001b[49m\u001b[43m,\u001b[49m\u001b[43m \u001b[49m\u001b[43mkwargs\u001b[49m\u001b[43m)\u001b[49m\n\u001b[1;32m   1004\u001b[0m original_grad_fn \u001b[38;5;241m=\u001b[39m [\u001b[38;5;28mself\u001b[39m\u001b[38;5;241m.\u001b[39mgradient_fn, \u001b[38;5;28mself\u001b[39m\u001b[38;5;241m.\u001b[39mgradient_kwargs, \u001b[38;5;28mself\u001b[39m\u001b[38;5;241m.\u001b[39mdevice]\n\u001b[1;32m   1005\u001b[0m \u001b[38;5;28mself\u001b[39m\u001b[38;5;241m.\u001b[39m_update_gradient_fn(shots\u001b[38;5;241m=\u001b[39moverride_shots, tape\u001b[38;5;241m=\u001b[39m\u001b[38;5;28mself\u001b[39m\u001b[38;5;241m.\u001b[39m_tape)\n",
      "File \u001b[0;32m~/.pyenv/versions/3.12.5/envs/nyc_haq/lib/python3.12/site-packages/pennylane/logging/decorators.py:61\u001b[0m, in \u001b[0;36mlog_string_debug_func.<locals>.wrapper_entry\u001b[0;34m(*args, **kwargs)\u001b[0m\n\u001b[1;32m     54\u001b[0m     s_caller \u001b[38;5;241m=\u001b[39m \u001b[38;5;124m\"\u001b[39m\u001b[38;5;124m::L\u001b[39m\u001b[38;5;124m\"\u001b[39m\u001b[38;5;241m.\u001b[39mjoin(\n\u001b[1;32m     55\u001b[0m         [\u001b[38;5;28mstr\u001b[39m(i) \u001b[38;5;28;01mfor\u001b[39;00m i \u001b[38;5;129;01min\u001b[39;00m inspect\u001b[38;5;241m.\u001b[39mgetouterframes(inspect\u001b[38;5;241m.\u001b[39mcurrentframe(), \u001b[38;5;241m2\u001b[39m)[\u001b[38;5;241m1\u001b[39m][\u001b[38;5;241m1\u001b[39m:\u001b[38;5;241m3\u001b[39m]]\n\u001b[1;32m     56\u001b[0m     )\n\u001b[1;32m     57\u001b[0m     lgr\u001b[38;5;241m.\u001b[39mdebug(\n\u001b[1;32m     58\u001b[0m         \u001b[38;5;124mf\u001b[39m\u001b[38;5;124m\"\u001b[39m\u001b[38;5;124mCalling \u001b[39m\u001b[38;5;132;01m{\u001b[39;00mf_string\u001b[38;5;132;01m}\u001b[39;00m\u001b[38;5;124m from \u001b[39m\u001b[38;5;132;01m{\u001b[39;00ms_caller\u001b[38;5;132;01m}\u001b[39;00m\u001b[38;5;124m\"\u001b[39m,\n\u001b[1;32m     59\u001b[0m         \u001b[38;5;241m*\u001b[39m\u001b[38;5;241m*\u001b[39m_debug_log_kwargs,\n\u001b[1;32m     60\u001b[0m     )\n\u001b[0;32m---> 61\u001b[0m \u001b[38;5;28;01mreturn\u001b[39;00m \u001b[43mfunc\u001b[49m\u001b[43m(\u001b[49m\u001b[38;5;241;43m*\u001b[39;49m\u001b[43margs\u001b[49m\u001b[43m,\u001b[49m\u001b[43m \u001b[49m\u001b[38;5;241;43m*\u001b[39;49m\u001b[38;5;241;43m*\u001b[39;49m\u001b[43mkwargs\u001b[49m\u001b[43m)\u001b[49m\n",
      "File \u001b[0;32m~/.pyenv/versions/3.12.5/envs/nyc_haq/lib/python3.12/site-packages/pennylane/workflow/qnode.py:851\u001b[0m, in \u001b[0;36mQNode.construct\u001b[0;34m(self, args, kwargs)\u001b[0m\n\u001b[1;32m    849\u001b[0m \u001b[38;5;28;01mwith\u001b[39;00m pldb_device_manager(\u001b[38;5;28mself\u001b[39m\u001b[38;5;241m.\u001b[39mdevice):\n\u001b[1;32m    850\u001b[0m     \u001b[38;5;28;01mwith\u001b[39;00m qml\u001b[38;5;241m.\u001b[39mqueuing\u001b[38;5;241m.\u001b[39mAnnotatedQueue() \u001b[38;5;28;01mas\u001b[39;00m q:\n\u001b[0;32m--> 851\u001b[0m         \u001b[38;5;28mself\u001b[39m\u001b[38;5;241m.\u001b[39m_qfunc_output \u001b[38;5;241m=\u001b[39m \u001b[38;5;28;43mself\u001b[39;49m\u001b[38;5;241;43m.\u001b[39;49m\u001b[43mfunc\u001b[49m\u001b[43m(\u001b[49m\u001b[38;5;241;43m*\u001b[39;49m\u001b[43margs\u001b[49m\u001b[43m,\u001b[49m\u001b[43m \u001b[49m\u001b[38;5;241;43m*\u001b[39;49m\u001b[38;5;241;43m*\u001b[39;49m\u001b[43mkwargs\u001b[49m\u001b[43m)\u001b[49m\n\u001b[1;32m    853\u001b[0m \u001b[38;5;28mself\u001b[39m\u001b[38;5;241m.\u001b[39m_tape \u001b[38;5;241m=\u001b[39m QuantumScript\u001b[38;5;241m.\u001b[39mfrom_queue(q, shots)\n\u001b[1;32m    855\u001b[0m params \u001b[38;5;241m=\u001b[39m \u001b[38;5;28mself\u001b[39m\u001b[38;5;241m.\u001b[39mtape\u001b[38;5;241m.\u001b[39mget_parameters(trainable_only\u001b[38;5;241m=\u001b[39m\u001b[38;5;28;01mFalse\u001b[39;00m)\n",
      "Cell \u001b[0;32mIn[8], line 5\u001b[0m, in \u001b[0;36mcircuit\u001b[0;34m(params)\u001b[0m\n\u001b[1;32m      3\u001b[0m \u001b[38;5;129m@qml\u001b[39m\u001b[38;5;241m.\u001b[39mqnode(dev)\n\u001b[1;32m      4\u001b[0m \u001b[38;5;28;01mdef\u001b[39;00m \u001b[38;5;21mcircuit\u001b[39m(params):\n\u001b[0;32m----> 5\u001b[0m     \u001b[43mqml\u001b[49m\u001b[38;5;241;43m.\u001b[39;49m\u001b[43mBasisState\u001b[49m\u001b[43m(\u001b[49m\u001b[43mnp\u001b[49m\u001b[38;5;241;43m.\u001b[39;49m\u001b[43marray\u001b[49m\u001b[43m(\u001b[49m\u001b[43m[\u001b[49m\u001b[38;5;241;43m1\u001b[39;49m\u001b[43m,\u001b[49m\u001b[43m \u001b[49m\u001b[38;5;241;43m1\u001b[39;49m\u001b[43m,\u001b[49m\u001b[43m \u001b[49m\u001b[38;5;241;43m0\u001b[39;49m\u001b[43m,\u001b[49m\u001b[43m \u001b[49m\u001b[38;5;241;43m0\u001b[39;49m\u001b[43m]\u001b[49m\u001b[43m)\u001b[49m\u001b[43m,\u001b[49m\u001b[43m \u001b[49m\u001b[43mwires\u001b[49m\u001b[38;5;241;43m=\u001b[39;49m\u001b[43mqubits\u001b[49m\u001b[43m)\u001b[49m\n\u001b[1;32m      6\u001b[0m     qml\u001b[38;5;241m.\u001b[39mDoubleExcitation(params, wires\u001b[38;5;241m=\u001b[39mqubits)\n\u001b[1;32m      7\u001b[0m     \u001b[38;5;28;01mreturn\u001b[39;00m qml\u001b[38;5;241m.\u001b[39mexpval(hamiltonian)\n",
      "File \u001b[0;32m~/.pyenv/versions/3.12.5/envs/nyc_haq/lib/python3.12/site-packages/pennylane/capture/capture_meta.py:89\u001b[0m, in \u001b[0;36mCaptureMeta.__call__\u001b[0;34m(cls, *args, **kwargs)\u001b[0m\n\u001b[1;32m     85\u001b[0m \u001b[38;5;28;01mif\u001b[39;00m enabled():\n\u001b[1;32m     86\u001b[0m     \u001b[38;5;66;03m# when tracing is enabled, we want to\u001b[39;00m\n\u001b[1;32m     87\u001b[0m     \u001b[38;5;66;03m# use bind to construct the class if we want class construction to add it to the jaxpr\u001b[39;00m\n\u001b[1;32m     88\u001b[0m     \u001b[38;5;28;01mreturn\u001b[39;00m \u001b[38;5;28mcls\u001b[39m\u001b[38;5;241m.\u001b[39m_primitive_bind_call(\u001b[38;5;241m*\u001b[39margs, \u001b[38;5;241m*\u001b[39m\u001b[38;5;241m*\u001b[39mkwargs)\n\u001b[0;32m---> 89\u001b[0m \u001b[38;5;28;01mreturn\u001b[39;00m \u001b[38;5;28;43mtype\u001b[39;49m\u001b[38;5;241;43m.\u001b[39;49m\u001b[38;5;21;43m__call__\u001b[39;49m\u001b[43m(\u001b[49m\u001b[38;5;28;43mcls\u001b[39;49m\u001b[43m,\u001b[49m\u001b[43m \u001b[49m\u001b[38;5;241;43m*\u001b[39;49m\u001b[43margs\u001b[49m\u001b[43m,\u001b[49m\u001b[43m \u001b[49m\u001b[38;5;241;43m*\u001b[39;49m\u001b[38;5;241;43m*\u001b[39;49m\u001b[43mkwargs\u001b[49m\u001b[43m)\u001b[49m\n",
      "File \u001b[0;32m~/.pyenv/versions/3.12.5/envs/nyc_haq/lib/python3.12/site-packages/pennylane/ops/qubit/state_preparation.py:98\u001b[0m, in \u001b[0;36mBasisState.__init__\u001b[0;34m(self, state, wires, id)\u001b[0m\n\u001b[1;32m     96\u001b[0m n_states \u001b[38;5;241m=\u001b[39m shape[\u001b[38;5;241m0\u001b[39m]\n\u001b[1;32m     97\u001b[0m \u001b[38;5;28;01mif\u001b[39;00m n_states \u001b[38;5;241m!=\u001b[39m \u001b[38;5;28mlen\u001b[39m(wires):\n\u001b[0;32m---> 98\u001b[0m     \u001b[38;5;28;01mraise\u001b[39;00m \u001b[38;5;167;01mValueError\u001b[39;00m(\n\u001b[1;32m     99\u001b[0m         \u001b[38;5;124mf\u001b[39m\u001b[38;5;124m\"\u001b[39m\u001b[38;5;124mState must be of length \u001b[39m\u001b[38;5;132;01m{\u001b[39;00m\u001b[38;5;28mlen\u001b[39m(wires)\u001b[38;5;132;01m}\u001b[39;00m\u001b[38;5;124m; got length \u001b[39m\u001b[38;5;132;01m{\u001b[39;00mn_states\u001b[38;5;132;01m}\u001b[39;00m\u001b[38;5;124m (state=\u001b[39m\u001b[38;5;132;01m{\u001b[39;00mstate\u001b[38;5;132;01m}\u001b[39;00m\u001b[38;5;124m).\u001b[39m\u001b[38;5;124m\"\u001b[39m\n\u001b[1;32m    100\u001b[0m     )\n\u001b[1;32m    102\u001b[0m \u001b[38;5;28;01mif\u001b[39;00m \u001b[38;5;129;01mnot\u001b[39;00m tracing:\n\u001b[1;32m    103\u001b[0m     state_list \u001b[38;5;241m=\u001b[39m \u001b[38;5;28mlist\u001b[39m(qml\u001b[38;5;241m.\u001b[39mmath\u001b[38;5;241m.\u001b[39mtoarray(state))\n",
      "\u001b[0;31mValueError\u001b[0m: State must be of length 1; got length 4 (state=[1 1 0 0])."
     ]
    }
   ],
   "source": [
    "dev = qml.device(\"default.qubit\", wires=qubits)\n",
    "\n",
    "\n",
    "@qml.qnode(dev)\n",
    "def circuit(params):\n",
    "    qml.BasisState(np.array([1, 1, 0, 0]), wires=qubits)\n",
    "    qml.DoubleExcitation(params, wires=qubits)\n",
    "    return qml.expval(hamiltonian)\n",
    "\n",
    "\n",
    "params = np.array(0.20885146442480412, requires_grad=True)\n",
    "circuit(params)\n"
   ]
  },
  {
   "cell_type": "code",
   "execution_count": null,
   "metadata": {},
   "outputs": [],
   "source": []
  }
 ],
 "metadata": {
  "kernelspec": {
   "display_name": "nyc_haq",
   "language": "python",
   "name": "python3"
  },
  "language_info": {
   "codemirror_mode": {
    "name": "ipython",
    "version": 3
   },
   "file_extension": ".py",
   "mimetype": "text/x-python",
   "name": "python",
   "nbconvert_exporter": "python",
   "pygments_lexer": "ipython3",
   "version": "3.12.5"
  }
 },
 "nbformat": 4,
 "nbformat_minor": 2
}
