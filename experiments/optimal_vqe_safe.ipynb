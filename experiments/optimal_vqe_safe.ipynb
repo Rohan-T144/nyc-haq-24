{
 "cells": [
  {
   "cell_type": "code",
   "execution_count": 1,
   "id": "initial_id",
   "metadata": {
    "ExecuteTime": {
     "end_time": "2024-09-26T22:56:25.483873Z",
     "start_time": "2024-09-26T22:56:17.823566Z"
    },
    "collapsed": true
   },
   "outputs": [],
   "source": [
    "from tangelo import SecondQuantizedMolecule\n",
    "from tangelo.algorithms import VQESolver, FCISolver, CCSDSolver, BuiltInAnsatze\n",
    "from tangelo.toolboxes.ansatz_generator.ansatz import Ansatz"
   ]
  },
  {
   "cell_type": "code",
   "execution_count": 49,
   "id": "8203f383a4cd8c82",
   "metadata": {
    "ExecuteTime": {
     "end_time": "2024-09-26T23:33:12.195417Z",
     "start_time": "2024-09-26T23:33:12.184613Z"
    },
    "collapsed": false
   },
   "outputs": [],
   "source": [
    "import signal\n",
    "from contextlib import contextmanager\n",
    "\n",
    "class TimeoutException(Exception):\n",
    "    pass\n",
    "\n",
    "@contextmanager\n",
    "def time_limit(seconds):\n",
    "\n",
    "    def signal_handler(signum, frame):\n",
    "        raise TimeoutException(\"Timed out!\")\n",
    "\n",
    "    # Register the signal function handler\n",
    "    signal.signal(signal.SIGALRM, signal_handler)\n",
    "    # Set the alarm\n",
    "    signal.alarm(seconds)\n",
    "    try:\n",
    "        yield\n",
    "    finally:\n",
    "        # Disable the alarm\n",
    "        signal.alarm(0)\n",
    "\n",
    "def run_with_timeout(func, args=(), kwargs={}, timeout=10):\n",
    "    try:\n",
    "        with time_limit(timeout):\n",
    "            return func(*args, **kwargs)\n",
    "    except TimeoutException:\n",
    "        print(f\"Function '{func.__name__}' timed out after {timeout} seconds.\")\n",
    "        return None\n",
    "    except Exception as e:\n",
    "        print(f\"Function '{func.__name__}' raised an exception: {e}\")\n",
    "        return None"
   ]
  },
  {
   "cell_type": "code",
   "execution_count": 3,
   "id": "d1974088efb401da",
   "metadata": {
    "ExecuteTime": {
     "end_time": "2024-09-26T22:56:40.587854Z",
     "start_time": "2024-09-26T22:56:40.570010Z"
    },
    "collapsed": false
   },
   "outputs": [],
   "source": [
    "def vqe_simulate(second_quantized_mol):\n",
    "    vqe_options = {\"molecule\": second_quantized_mol}\n",
    "    vqe_solver = VQESolver(vqe_options)\n",
    "    vqe_solver.build()\n",
    "    return vqe_solver.simulate()"
   ]
  },
  {
   "cell_type": "code",
   "execution_count": 50,
   "id": "92040a58693274d8",
   "metadata": {
    "ExecuteTime": {
     "end_time": "2024-09-26T23:33:13.444728Z",
     "start_time": "2024-09-26T23:33:13.435817Z"
    },
    "collapsed": false
   },
   "outputs": [],
   "source": [
    "def vqe_resources(second_quantized_mol):\n",
    "    vqe_options = {\"molecule\": second_quantized_mol}\n",
    "    vqe_solver = VQESolver(vqe_options)\n",
    "    vqe_solver.build()\n",
    "    return vqe_solver.get_resources()"
   ]
  },
  {
   "cell_type": "code",
   "execution_count": 5,
   "id": "adb4a52482cef042",
   "metadata": {
    "ExecuteTime": {
     "end_time": "2024-09-26T22:56:41.987723Z",
     "start_time": "2024-09-26T22:56:41.983976Z"
    },
    "collapsed": false
   },
   "outputs": [],
   "source": [
    "def simulate_classically(second_quantized_mol):\n",
    "\n",
    "    # Uncomment the following lines if FCI simulation is feasible\n",
    "    # fci_solver = FCISolver(second_quantized_mol)\n",
    "    # energy_fci = fci_solver.simulate()\n",
    "    # print(f\"FCI energy: \\t {energy_fci}\")\n",
    "\n",
    "    ccsd_solver = CCSDSolver(second_quantized_mol)\n",
    "    energy_ccsd = ccsd_solver.simulate()\n",
    "    print(f\"CCSD energy: \\t {energy_ccsd}\")"
   ]
  },
  {
   "cell_type": "code",
   "execution_count": 51,
   "id": "35eef76364395d31",
   "metadata": {
    "ExecuteTime": {
     "end_time": "2024-09-26T23:33:14.291026Z",
     "start_time": "2024-09-26T23:33:14.276327Z"
    },
    "collapsed": false
   },
   "outputs": [],
   "source": [
    "def vqe_resources_with_mappings(molecule, ansatz):\n",
    " \n",
    "    qubit_mappings = ['jw', 'bk', 'scbk']  # List of different qubit mappings\n",
    "    resources_list = []\n",
    "\n",
    "    for qm in qubit_mappings:\n",
    "        # Define VQE options with the given molecule, ansatz, and current qubit mapping\n",
    "        vqe_options = {\"molecule\": molecule, \"ansatz\": ansatz, \"qubit_mapping\": qm}\n",
    "        vqe_solver = VQESolver(vqe_options)\n",
    "        vqe_solver.build()\n",
    "  \n",
    "\n",
    "        # Get resources and store in the list\n",
    "        resources = vqe_solver.get_resources()\n",
    "        resources_list.append({\"qubit_mapping\": qm, \"resources\": resources})\n",
    "\n",
    "    return resources_list"
   ]
  },
  {
   "cell_type": "code",
   "execution_count": 7,
   "id": "72d311a828d82df3",
   "metadata": {
    "ExecuteTime": {
     "end_time": "2024-09-26T22:56:43.420173Z",
     "start_time": "2024-09-26T22:56:43.403871Z"
    },
    "collapsed": false
   },
   "outputs": [],
   "source": [
    "def vqe_resources_with_ansatze(molecule, ansatze_list):\n",
    "\n",
    "    resources_list = []\n",
    "\n",
    "    for az in ansatze_list:\n",
    "        # Define VQE options with the given molecule and ansatz\n",
    "        vqe_options = {\"molecule\": molecule, \"ansatz\": az, \"up_then_down\": True}\n",
    "        vqe_solver = VQESolver(vqe_options)\n",
    "        vqe_solver.build()\n",
    "\n",
    "\n",
    "        # Get resources and store in the list\n",
    "        resources = vqe_solver.get_resources()\n",
    "        resources_list.append({\"ansatz\": az, \"resources\": resources})\n",
    "\n",
    "    return resources_list"
   ]
  },
  {
   "cell_type": "code",
   "execution_count": 52,
   "id": "e11c010ea6d49028",
   "metadata": {
    "ExecuteTime": {
     "end_time": "2024-09-26T23:33:15.077039Z",
     "start_time": "2024-09-26T23:33:15.065134Z"
    },
    "collapsed": false
   },
   "outputs": [],
   "source": [
    "def print_orbital_energies(molecule):\n",
    "\n",
    "    orbital_energies = molecule.mo_energies\n",
    "    occupations = molecule.mo_occ\n",
    "\n",
    "    orbital_info = []\n",
    "    for idx, (energy, occ) in enumerate(zip(orbital_energies, occupations)):\n",
    "        orbital_info.append((idx, energy, occ))\n",
    "\n",
    "    # Display orbital information\n",
    "    print(f\"Number of active electrons: {molecule.n_active_electrons}\\n\")\n",
    "    print(\"Orbital Index | Occupation Number | Orbital Energy (Hartree)\")\n",
    "    print(\"------------------------------------------------------------\")\n",
    "    for idx, energy, occ in orbital_info:\n",
    "        print(f\"{idx:<13} {occ:<18} {energy}\")\n",
    "    "
   ]
  },
  {
   "cell_type": "code",
   "execution_count": 9,
   "id": "76f4cd0d161bd01f",
   "metadata": {
    "ExecuteTime": {
     "end_time": "2024-09-26T22:56:44.862546Z",
     "start_time": "2024-09-26T22:56:44.844699Z"
    },
    "collapsed": false
   },
   "outputs": [],
   "source": [
    "def KMeans1D_DP(data, K):\n",
    "    \"\"\"\n",
    "    Performs optimal 1D k-means clustering via dynamic programming.\n",
    "    \n",
    "    Parameters:\n",
    "    - data: 1D numpy array\n",
    "    - K: number of clusters\n",
    "    \n",
    "    Returns:\n",
    "    - labels: numpy array of cluster labels corresponding to the original data order\n",
    "    \"\"\"\n",
    "    import numpy as np\n",
    "    \n",
    "    n = len(data)\n",
    "    # Sort data and keep track of original indices\n",
    "    sorted_indices = np.argsort(data)\n",
    "    sorted_data = data[sorted_indices]\n",
    "    \n",
    "    # Precompute cumulative sums and cumulative squared sums\n",
    "    data_cumsum = np.zeros(n+1)\n",
    "    data_sq_cumsum = np.zeros(n+1)\n",
    "    for i in range(1, n+1):\n",
    "        data_cumsum[i] = data_cumsum[i-1] + sorted_data[i-1]\n",
    "        data_sq_cumsum[i] = data_sq_cumsum[i-1] + sorted_data[i-1]**2\n",
    "    \n",
    "    # Initialize the cost and segmentation arrays\n",
    "    cost = np.full((n+1, K+1), np.inf)\n",
    "    backtrack = np.zeros((n+1, K+1), dtype=int)\n",
    "    \n",
    "    cost[0][0] = 0  # Base case\n",
    "    \n",
    "    # Dynamic programming to compute optimal cost\n",
    "    for i in range(1, n+1):\n",
    "        for k in range(1, min(i, K)+1):\n",
    "            for j in range(k-1, i):\n",
    "                count = i - j\n",
    "                sum_x = data_cumsum[i] - data_cumsum[j]\n",
    "                sum_x_sq = data_sq_cumsum[i] - data_sq_cumsum[j]\n",
    "                mean = sum_x / count\n",
    "                ssd = sum_x_sq - 2 * mean * sum_x + count * mean**2\n",
    "                total_cost = cost[j][k-1] + ssd\n",
    "                if total_cost < cost[i][k]:\n",
    "                    cost[i][k] = total_cost\n",
    "                    backtrack[i][k] = j\n",
    "    \n",
    "    # Backtracking to assign labels\n",
    "    labels = np.zeros(n, dtype=int)\n",
    "    k = K\n",
    "    i = n\n",
    "    while k > 0:\n",
    "        j = backtrack[i][k]\n",
    "        labels[j:i] = k-1\n",
    "        i = j\n",
    "        k -=1\n",
    "    \n",
    "    # Map labels back to original data order\n",
    "    original_labels = np.zeros(n, dtype=int)\n",
    "    original_labels[sorted_indices] = labels\n",
    "    \n",
    "    return original_labels\n"
   ]
  },
  {
   "cell_type": "markdown",
   "id": "7976251bbbdd7729",
   "metadata": {
    "ExecuteTime": {
     "end_time": "2024-09-26T23:33:15.653300Z",
     "start_time": "2024-09-26T23:33:15.635981Z"
    },
    "collapsed": false
   },
   "source": []
  },
  {
   "cell_type": "code",
   "execution_count": 10,
   "id": "bb0b888da336c12",
   "metadata": {
    "ExecuteTime": {
     "end_time": "2024-09-26T22:56:46.268789Z",
     "start_time": "2024-09-26T22:56:46.251501Z"
    },
    "collapsed": false
   },
   "outputs": [],
   "source": [
    "import numpy as np\n",
    "\n",
    "def generate_freeze_lists(molecule, k_core, k_virtual):\n",
    "    \"\"\"\n",
    "    Generates multiple freeze lists by clustering core (occupied) and virtual orbitals\n",
    "    based on their energies using optimal 1D clustering via dynamic programming.\n",
    "\n",
    "    Parameters:\n",
    "    - molecule: SecondQuantizedMolecule object representing the molecule.\n",
    "    - k_core: Number of clusters to form among core (occupied) orbitals.\n",
    "    - k_virtual: Number of clusters to form among virtual orbitals.\n",
    "\n",
    "    Returns:\n",
    "    - freeze_lists: A list of freeze lists (each is a list of orbital indices to freeze).\n",
    "    \"\"\"\n",
    "    orbital_energies = molecule.mo_energies\n",
    "    occupations = molecule.mo_occ\n",
    "\n",
    "    orbital_info = []\n",
    "    for idx, (energy, occ) in enumerate(zip(orbital_energies, occupations)):\n",
    "        orbital_info.append((idx, energy, occ))\n",
    "\n",
    "    print(f\"Number of active electrons: {molecule.n_active_electrons}\")\n",
    "\n",
    "    # Collect core orbitals (occupation == 2.0)\n",
    "    core_indices = []\n",
    "    core_energies = []\n",
    "    for idx, energy, occ in orbital_info:\n",
    "        if occ == 2.0:\n",
    "            core_indices.append(idx)\n",
    "            core_energies.append(energy)\n",
    "\n",
    "    core_indices = np.array(core_indices)\n",
    "    core_energies = np.array(core_energies)\n",
    "\n",
    "    # Cluster core orbitals using dynamic programming\n",
    "    if len(core_indices) == 0:\n",
    "        print(\"No core orbitals to cluster.\")\n",
    "        core_clusters = {}\n",
    "        core_cluster_order = []\n",
    "    else:\n",
    "        k_core = min(k_core, len(core_indices))\n",
    "        core_labels = KMeans1D_DP(core_energies, k_core)\n",
    "        # Group core orbitals by clusters\n",
    "        core_clusters = {}\n",
    "        for label in range(k_core):\n",
    "            cluster_indices = core_indices[core_labels == label]\n",
    "            core_clusters[label] = (cluster_indices)\n",
    "        core_cluster_order = (range(k_core))\n",
    "        # Print cluster info\n",
    "        print(f\"\\nClustered core orbitals into {k_core} groups:\")\n",
    "        for label in core_cluster_order:\n",
    "            indices = core_clusters[label]\n",
    "            energies = [orbital_energies[i] for i in indices]\n",
    "            print(f\"Core Cluster {label+1}: Orbitals {indices}, Energies {energies}\")\n",
    "\n",
    "    # Collect virtual orbitals (occupation == 0.0)\n",
    "    virtual_indices = []\n",
    "    virtual_energies = []\n",
    "    for idx, energy, occ in orbital_info:\n",
    "        if occ == 0.0:\n",
    "            virtual_indices.append(idx)\n",
    "            virtual_energies.append(energy)\n",
    "\n",
    "    virtual_indices = np.array(virtual_indices)\n",
    "    virtual_energies = np.array(virtual_energies)\n",
    "\n",
    "    # Cluster virtual orbitals using dynamic programming\n",
    "    if len(virtual_indices) == 0:\n",
    "        print(\"No virtual orbitals to cluster.\")\n",
    "        virtual_clusters = {}\n",
    "        virtual_cluster_order = []\n",
    "    else:\n",
    "        k_virtual = min(k_virtual, len(virtual_indices))\n",
    "        virtual_labels = KMeans1D_DP(virtual_energies, k_virtual)\n",
    "        # Group virtual orbitals by clusters\n",
    "        virtual_clusters = {}\n",
    "        for label in range(k_virtual):\n",
    "            cluster_indices = virtual_indices[virtual_labels == label]\n",
    "            virtual_clusters[label] = (cluster_indices)\n",
    "        virtual_cluster_order = (range(k_virtual))\n",
    "        # Print cluster info\n",
    "        print(f\"\\nClustered virtual orbitals into {k_virtual} groups:\")\n",
    "        for label in virtual_cluster_order:\n",
    "            indices = virtual_clusters[label]\n",
    "            energies = [orbital_energies[i] for i in indices]\n",
    "            print(f\"Virtual Cluster {label+1}: Orbitals {indices}, Energies {energies}\")\n",
    "\n",
    "    # Generate combinations according to the specified logic\n",
    "    freeze_lists = []\n",
    "    num_core_clusters = len(core_cluster_order)\n",
    "    num_virtual_clusters = len(virtual_cluster_order)\n",
    "\n",
    "    for c in range(1, num_core_clusters + 1):\n",
    "        # Core clusters to include\n",
    "        core_clusters_to_include = core_cluster_order[:c]\n",
    "        core_orbitals_to_freeze = []\n",
    "        for label in core_clusters_to_include:\n",
    "            core_orbitals_to_freeze.extend(core_clusters[label])\n",
    "        for v in range(0, num_virtual_clusters + 1):\n",
    "            # Virtual clusters to include\n",
    "            virtual_clusters_to_include = virtual_cluster_order[-v:] if v > 0 else []\n",
    "            virtual_orbitals_to_freeze = []\n",
    "            for label in virtual_clusters_to_include:\n",
    "                virtual_orbitals_to_freeze.extend(virtual_clusters[label])\n",
    "            freeze_list = core_orbitals_to_freeze + virtual_orbitals_to_freeze\n",
    "            freeze_lists.append(freeze_list)\n",
    "            print(f\"\\nGenerated freeze list with core clusters {core_clusters_to_include} and virtual clusters {virtual_clusters_to_include}\")\n",
    "            print(f\"Freeze list orbitals: {freeze_list}\")\n",
    "\n",
    "    return freeze_lists\n",
    "\n"
   ]
  },
  {
   "cell_type": "code",
   "execution_count": null,
   "id": "1b26d394cf4018d6",
   "metadata": {
    "collapsed": false
   },
   "outputs": [],
   "source": [
    "def print_molecule_properties(name, molecule):\n",
    "    print(f\"=== {name} Properties ===\")\n",
    "    print(f\"Charge (q): {molecule.q}\")\n",
    "    print(f\"Spin (2S): {molecule.spin}\")\n",
    "    print(f\"Number of Electrons: {molecule.n_electrons}\")\n",
    "    print(f\"Number of Active Electrons: {molecule.n_active_electrons}\")\n",
    "    print(f\"Basis Set: {molecule.basis}\")\n",
    "    print(f\"Frozen Orbitals: {molecule.frozen_orbitals}\")\n",
    "    print(\"--------------------------\\n\")"
   ]
  },
  {
   "cell_type": "code",
   "execution_count": 2,
   "id": "db33cb0e7cf94183",
   "metadata": {
    "ExecuteTime": {
     "end_time": "2024-09-26T23:34:52.266384Z",
     "start_time": "2024-09-26T23:34:52.231718Z"
    },
    "collapsed": false
   },
   "outputs": [
    {
     "ename": "NameError",
     "evalue": "name 'SecondQuantizedMolecule' is not defined",
     "output_type": "error",
     "traceback": [
      "\u001b[0;31m---------------------------------------------------------------------------\u001b[0m",
      "\u001b[0;31mNameError\u001b[0m                                 Traceback (most recent call last)",
      "Cell \u001b[0;32mIn[2], line 5\u001b[0m\n\u001b[1;32m      2\u001b[0m LiH \u001b[38;5;241m=\u001b[39m [(\u001b[38;5;124m'\u001b[39m\u001b[38;5;124mLi\u001b[39m\u001b[38;5;124m'\u001b[39m, (\u001b[38;5;241m0\u001b[39m, \u001b[38;5;241m0\u001b[39m, \u001b[38;5;241m0\u001b[39m)), (\u001b[38;5;124m'\u001b[39m\u001b[38;5;124mH\u001b[39m\u001b[38;5;124m'\u001b[39m, (\u001b[38;5;241m0\u001b[39m, \u001b[38;5;241m0\u001b[39m, \u001b[38;5;241m1.5949\u001b[39m))]\n\u001b[1;32m      4\u001b[0m \u001b[38;5;66;03m# Create a SecondQuantizedMolecule instance for LiH\u001b[39;00m\n\u001b[0;32m----> 5\u001b[0m mol_LiH \u001b[38;5;241m=\u001b[39m \u001b[43mSecondQuantizedMolecule\u001b[49m(LiH, q\u001b[38;5;241m=\u001b[39m\u001b[38;5;241m0\u001b[39m, spin\u001b[38;5;241m=\u001b[39m\u001b[38;5;241m0\u001b[39m, basis\u001b[38;5;241m=\u001b[39m\u001b[38;5;124m\"\u001b[39m\u001b[38;5;124msto-3g\u001b[39m\u001b[38;5;124m\"\u001b[39m)\n\u001b[1;32m      7\u001b[0m \u001b[38;5;66;03m# Define the Cr element\u001b[39;00m\n\u001b[1;32m      8\u001b[0m Cr\u001b[38;5;241m=\u001b[39m [[\u001b[38;5;124m'\u001b[39m\u001b[38;5;124mCr\u001b[39m\u001b[38;5;124m'\u001b[39m, (\u001b[38;5;241m0\u001b[39m, \u001b[38;5;241m0\u001b[39m, \u001b[38;5;241m0\u001b[39m)]]\n",
      "\u001b[0;31mNameError\u001b[0m: name 'SecondQuantizedMolecule' is not defined"
     ]
    }
   ],
   "source": [
    "# Define the LiH molecule geometry\n",
    "LiH = [('Li', (0, 0, 0)), ('H', (0, 0, 1.5949))]\n",
    "\n",
    "# Create a SecondQuantizedMolecule instance for LiH\n",
    "mol_LiH = SecondQuantizedMolecule(LiH, q=0, spin=0, basis=\"sto-3g\")\n",
    "\n",
    "# Define the Cr element\n",
    "Cr= [['Cr', (0, 0, 0)]]\n",
    "\n",
    "# Create a SecondQuantizedMolecule instance for Cr_VI\n",
    "Cr_VI = SecondQuantizedMolecule(Cr, q=6, spin=0, basis=\"LANL2DZ\", frozen_orbitals=None)\n",
    "\n",
    "# Create a SecondQuantizedMolecule instance for Cr_III\n",
    "Cr_III = SecondQuantizedMolecule(Cr, q=3, spin=3, basis=\"LANL2DZ\", frozen_orbitals=None)\n",
    "\n",
    "print_molecule_properties(\"LiH\", mol_LiH)\n",
    "print_molecule_properties(\"Cr_III\", Cr_III)\n",
    "print_molecule_properties(\"Cr_VI\", Cr_VI)"
   ]
  },
  {
   "cell_type": "code",
   "execution_count": 12,
   "id": "b230dc078558ba28",
   "metadata": {
    "ExecuteTime": {
     "end_time": "2024-09-26T22:56:49.218411Z",
     "start_time": "2024-09-26T22:56:49.203516Z"
    },
    "collapsed": false
   },
   "outputs": [],
   "source": [
    "def print_molecule_properties(name, molecule):\n",
    "    print(f\"=== {name} Properties ===\")\n",
    "    print(f\"Charge (q): {molecule.q}\")\n",
    "    print(f\"Spin (2S): {molecule.spin}\")\n",
    "    print(f\"Number of Electrons: {molecule.n_electrons}\")\n",
    "    print(f\"Number of Active Electrons: {molecule.n_active_electrons}\")\n",
    "    print(f\"Basis Set: {molecule.basis}\")\n",
    "    print(f\"Frozen Orbitals: {molecule.frozen_orbitals}\")\n",
    "    print(\"--------------------------\\n\")"
   ]
  },
  {
   "cell_type": "code",
   "execution_count": 55,
   "id": "39a8bcd4a22ba829",
   "metadata": {
    "ExecuteTime": {
     "end_time": "2024-09-26T23:33:17.243262Z",
     "start_time": "2024-09-26T23:33:17.227745Z"
    },
    "collapsed": false
   },
   "outputs": [],
   "source": [
    "print_molecule_properties(\"LiH\", mol_LiH)\n",
    "print_molecule_properties(\"Cr_III\", Cr_III)\n",
    "print_molecule_properties(\"Cr_VI\", Cr_VI)"
   ]
  },
  {
   "cell_type": "code",
   "execution_count": 14,
   "id": "e93cd4914920c9e3",
   "metadata": {
    "ExecuteTime": {
     "end_time": "2024-09-26T22:56:52.168946Z",
     "start_time": "2024-09-26T22:56:52.155390Z"
    },
    "collapsed": false
   },
   "outputs": [
    {
     "name": "stdout",
     "output_type": "stream",
     "text": [
      "Number of active electrons: 21\n",
      "\n",
      "Orbital Index | Occupation Number | Orbital Energy (Hartree)\n",
      "------------------------------------------------------------\n",
      "0             2.0                -12.4503881687681\n",
      "1             2.0                -9.656066956243706\n",
      "2             2.0                -9.656066245887727\n",
      "3             2.0                -9.656065523000239\n",
      "4             2.0                -6.481227314816717\n",
      "5             2.0                -6.481226829443148\n",
      "6             2.0                -6.481226332532031\n",
      "7             2.0                -6.4795267996509205\n",
      "8             2.0                -6.479526792822202\n",
      "9             1.0                -1.8801482151466438\n",
      "10            1.0                -0.7975336371829891\n",
      "11            1.0                -0.7975336207140077\n",
      "12            0.0                -0.7535817686915726\n",
      "13            0.0                -0.7535812855594194\n",
      "14            0.0                -0.7535807582595245\n",
      "15            0.0                -0.7031960306007854\n",
      "16            0.0                -0.6596649064165206\n",
      "17            0.0                -0.6596636075965541\n",
      "18            0.0                -0.6596622103927915\n",
      "19            0.0                -0.30527267858032875\n",
      "20            0.0                -0.30527244147595534\n",
      "21            0.0                -0.30527219724224947\n"
     ]
    }
   ],
   "source": [
    "print_orbital_energies(Cr_III)"
   ]
  },
  {
   "cell_type": "code",
   "execution_count": 56,
   "id": "877640120737264a",
   "metadata": {
    "ExecuteTime": {
     "end_time": "2024-09-26T23:33:18.126517Z",
     "start_time": "2024-09-26T23:33:18.094986Z"
    },
    "collapsed": false
   },
   "outputs": [],
   "source": [
    "freeze_lists = generate_freeze_lists(Cr_III, 8, 4)\n"
   ]
  },
  {
   "cell_type": "code",
   "execution_count": 57,
   "id": "a6d4eafc78379c36",
   "metadata": {
    "ExecuteTime": {
     "end_time": "2024-09-26T23:33:18.791744Z",
     "start_time": "2024-09-26T23:33:18.785270Z"
    },
    "collapsed": false
   },
   "outputs": [],
   "source": [
    "\"\"\"Important: Sort list and then limit to 1 minute\n",
    "   Also maybe don't cluster the core elctrons?\"\"\"\n",
    "frozen_molecules_dict = {}\n",
    "\n",
    "for idx, freeze_list in enumerate(freeze_lists, start=1):\n",
    "    int_freeze_list = [int(x) for x in freeze_list]\n",
    "\n",
    "    \n",
    "    freeze_list_key = tuple(int_freeze_list)\n",
    "    \n",
    "    # Create a new SecondQuantizedMolecule with frozen orbitals\n",
    "    try:\n",
    "        Cr_III_custom_frozen = SecondQuantizedMolecule(\n",
    "            Cr,\n",
    "            q=3,\n",
    "            spin=3,\n",
    "            basis=\"LANL2DZ\",\n",
    "            frozen_orbitals=int_freeze_list\n",
    "        )\n",
    "        \n",
    "        if len(int_freeze_list) > 8:\n",
    "            print(f\"\\nCreating frozen molecule for Freeze List {idx}: {int_freeze_list}\")\n",
    "            resources = vqe_resources(Cr_III_custom_frozen)\n",
    "            print(resources)\n",
    "            if resources[\"circuit_width\"] < 15:\n",
    "                vqe_energy = vqe_simulate(Cr_III_custom_frozen)\n",
    "                print(f\"vqe_energy = {vqe_energy}\")\n",
    "    except TypeError as e:\n",
    "        print(f\"TypeError for Freeze List {idx}: {e}\")\n",
    "    except Exception as e:\n",
    "        print(f\"Unexpected error for Freeze List {idx}: {e}\")"
   ]
  },
  {
   "cell_type": "code",
   "execution_count": 41,
   "id": "b72846019ebcd537",
   "metadata": {
    "ExecuteTime": {
     "end_time": "2024-09-26T23:20:25.221888Z",
     "start_time": "2024-09-26T23:20:23.612368Z"
    },
    "collapsed": false
   },
   "outputs": [
    {
     "data": {
      "image/png": "[encoded data removed]",
      "text/plain": [
       "<Figure size 1400x1000 with 2 Axes>"
      ]
     },
     "metadata": {},
     "output_type": "display_data"
    }
   ],
   "source": [
    "import numpy as np\n",
    "\n",
    "\n",
    "# Initialize the dictionary to store freeze lists and their resources\n",
    "frozen_molecules_dict = {}\n",
    "\n",
    "# Assume freeze_lists is predefined\n",
    "# Example:\n",
    "# freeze_lists = [\n",
    "#     [0],\n",
    "#     [0, 19, 20, 21],\n",
    "#     [0, 16, 17, 18, 19, 20, 21],\n",
    "#     ...\n",
    "# ]\n",
    "\n",
    "# Sort freeze_lists by length in descending order\n",
    "freeze_list_sorted = sorted(freeze_lists, key=len, reverse=True)\n",
    "\n",
    "# Define the timeout duration in seconds\n",
    "TIMEOUT_DURATION = 10  # Adjust as needed\n",
    "\n",
    "# Define the circuit width threshold\n",
    "CIRCUIT_WIDTH_THRESHOLD = 10  # Adjust based on your requirements\n",
    "\n",
    "for idx, freeze_list in enumerate(freeze_list_sorted, start=1):\n",
    "    # Convert all elements in freeze_list to integers\n",
    "    int_freeze_list = [int(x) for x in freeze_list]\n",
    "    \n",
    "    # Create a tuple from the freeze list to use as a dictionary key\n",
    "    freeze_list_key = tuple(int_freeze_list)\n",
    "    \n",
    "    try:\n",
    "        # Create a new SecondQuantizedMolecule with frozen orbitals\n",
    "        Cr_III_custom_frozen = SecondQuantizedMolecule(\n",
    "            Cr,\n",
    "            q=3,\n",
    "            spin=3,\n",
    "            basis=\"LANL2DZ\",\n",
    "            frozen_orbitals=int_freeze_list\n",
    "        )\n",
    "        \n",
    "        # Only process freeze lists with more than 8 frozen electrons\n",
    "        \n",
    "        print(f\"\\nCreating frozen molecule for Freeze List {idx}: {int_freeze_list}\")\n",
    "        \n",
    "        # Calculate resources with timeout\n",
    "        resources = run_with_timeout(vqe_resources, args=(Cr_III_custom_frozen,), timeout=TIMEOUT_DURATION)\n",
    "        \n",
    "        if resources is not None:\n",
    "            print(resources)\n",
    "            \n",
    "            # Insert the freeze list and its resources into the dictionary\n",
    "            frozen_molecules_dict[freeze_list_key] = resources\n",
    "            \n",
    "            # Optionally, perform VQE simulation if circuit_width is below threshold\n",
    "            if resources.get(\"circuit_width\", 0) < CIRCUIT_WIDTH_THRESHOLD:\n",
    "                vqe_energy = run_with_timeout(vqe_simulate, args=(Cr_III_custom_frozen,), timeout=TIMEOUT_DURATION)\n",
    "                if vqe_energy is not None:\n",
    "                    print(f\"vqe_energy = {vqe_energy}\")\n",
    "        else:\n",
    "            print(f\"Skipping Freeze List {freeze_list_key} due to timeout or error in resource calculation.\")\n",
    "                \n",
    "    except TypeError as e:\n",
    "        print(f\"TypeError for Freeze List {idx}: {e}\")\n",
    "    except Exception as e:\n",
    "        print(f\"Unexpected error for Freeze List {idx}: {e}\")\n",
    "\n",
    "# Optional: Print the complete dictionary after processing\n",
    "print(\"\\n--- Frozen Molecules Dictionary ---\")\n",
    "for freeze, res in frozen_molecules_dict.items():\n",
    "    print(f\"Freeze List {freeze}: {res}\")\n"
   ]
  },
  {
   "cell_type": "code",
   "execution_count": 58,
   "id": "27bb4563738ba7a6",
   "metadata": {
    "ExecuteTime": {
     "end_time": "2024-09-26T23:33:19.857319Z",
     "start_time": "2024-09-26T23:33:19.845445Z"
    },
    "collapsed": false
   },
   "outputs": [],
   "source": [
    "import matplotlib.pyplot as plt\n",
    "\n",
    "# Assume frozen_molecules_dict is defined as per your previous code\n",
    "# Example:\n",
    "frozen_orbs_dict = frozen_molecules_dict\n",
    "# Prepare data for plotting\n",
    "num_frozen_electrons = [len(freeze) for freeze in frozen_orbs_dict.keys()]\n",
    "circuit_widths = [res['circuit_width'] for res in frozen_orbs_dict.values()]\n",
    "circuit_depths = [res['circuit_depth'] for res in frozen_orbs_dict.values()]\n",
    "vqe_variational_parameters = [res['vqe_variational_parameters'] for res in frozen_orbs_dict.values()]\n",
    "\n",
    "# Create scatter plot\n",
    "plt.figure(figsize=(12, 8))\n",
    "scatter = plt.scatter(\n",
    "    num_frozen_electrons,\n",
    "    circuit_widths,\n",
    "    c=circuit_depths,\n",
    "    cmap='viridis',\n",
    "    s=150,\n",
    "    alpha=0.7,\n",
    "    edgecolor='k'\n",
    ")\n",
    "\n",
    "# Add colorbar for circuit depth\n",
    "cbar = plt.colorbar(scatter)\n",
    "cbar.set_label('Circuit Depth', fontsize=12)\n",
    "\n",
    "# Add labels and title\n",
    "plt.xlabel('Number of Frozen Electrons', fontsize=14)\n",
    "plt.ylabel('Circuit Width', fontsize=14)\n",
    "plt.title('Circuit Width vs. Number of Frozen Electrons\\nColored by Circuit Depth', fontsize=16)\n",
    "\n",
    "# Annotate each point with its VQE Variational Parameters\n",
    "for freeze, res in frozen_molecules_dict.items():\n",
    "    plt.annotate(\n",
    "        res['vqe_variational_parameters'],\n",
    "        (len(freeze), res['circuit_width']),\n",
    "        textcoords=\"offset points\",\n",
    "        xytext=(0, 10),\n",
    "        ha='center',\n",
    "        fontsize=10,\n",
    "        fontweight='bold'\n",
    "    )\n",
    "\n",
    "plt.grid(True, linestyle='--', alpha=0.6)\n",
    "plt.tight_layout()\n",
    "plt.show()"
   ]
  },
  {
   "cell_type": "code",
   "execution_count": 265,
   "id": "4ceefc1b61dd6fd7",
   "metadata": {
    "ExecuteTime": {
     "end_time": "2024-09-26T22:36:38.543918Z",
     "start_time": "2024-09-26T22:36:28.583721Z"
    },
    "collapsed": false
   },
   "outputs": [
    {
     "name": "stdout",
     "output_type": "stream",
     "text": [
      "Timed out!\n"
     ]
    }
   ],
   "source": []
  },
  {
   "cell_type": "code",
   "execution_count": 59,
   "id": "81e9095db066eebb",
   "metadata": {
    "ExecuteTime": {
     "end_time": "2024-09-26T23:33:21.260465Z",
     "start_time": "2024-09-26T23:33:21.244211Z"
    },
    "collapsed": false
   },
   "outputs": [],
   "source": [
    "\n"
   ]
  },
  {
   "cell_type": "code",
   "execution_count": 166,
   "id": "3b0da4fa17ba4bb2",
   "metadata": {
    "ExecuteTime": {
     "end_time": "2024-09-26T15:54:24.344255Z",
     "start_time": "2024-09-26T15:54:24.302598Z"
    },
    "collapsed": false
   },
   "outputs": [],
   "source": []
  },
  {
   "cell_type": "code",
   "execution_count": 60,
   "id": "b097e7a2d9a61887",
   "metadata": {
    "ExecuteTime": {
     "end_time": "2024-09-26T23:33:23.502352Z",
     "start_time": "2024-09-26T23:33:23.213140Z"
    },
    "collapsed": false
   },
   "outputs": [
    {
     "name": "stdout",
     "output_type": "stream",
     "text": [
      "=== LiH Properties ===\n",
      "Charge (q): 0\n",
      "Spin (2S): 0\n",
      "Number of Electrons: 4\n",
      "Number of Active Electrons: 2\n",
      "Basis Set: sto-3g\n",
      "Frozen Orbitals: frozen_core\n",
      "--------------------------\n",
      "\n",
      "=== Cr_III Properties ===\n",
      "Charge (q): 3\n",
      "Spin (2S): 3\n",
      "Number of Electrons: 21\n",
      "Number of Active Electrons: 21\n",
      "Basis Set: LANL2DZ\n",
      "Frozen Orbitals: None\n",
      "--------------------------\n",
      "\n",
      "=== Cr_VI Properties ===\n",
      "Charge (q): 6\n",
      "Spin (2S): 0\n",
      "Number of Electrons: 18\n",
      "Number of Active Electrons: 18\n",
      "Basis Set: LANL2DZ\n",
      "Frozen Orbitals: None\n",
      "--------------------------\n"
     ]
    }
   ],
   "source": []
  }
 ],
 "metadata": {
  "kernelspec": {
   "display_name": "Python 3",
   "language": "python",
   "name": "python3"
  },
  "language_info": {
   "codemirror_mode": {
    "name": "ipython",
    "version": 2
   },
   "file_extension": ".py",
   "mimetype": "text/x-python",
   "name": "python",
   "nbconvert_exporter": "python",
   "pygments_lexer": "ipython2",
   "version": "3.12.5"
  }
 },
 "nbformat": 4,
 "nbformat_minor": 5
}
