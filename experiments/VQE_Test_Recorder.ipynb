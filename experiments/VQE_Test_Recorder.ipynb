{
 "cells": [
  {
   "cell_type": "code",
   "execution_count": 1,
   "id": "a8e69848-dd47-44d2-8525-9980f8d5f8e0",
   "metadata": {},
   "outputs": [],
   "source": [
    "# Installation of tangelo if not already installed.\n",
    "try:\n",
    "    import tangelo\n",
    "except ModuleNotFoundError:\n",
    "    !pip install git+https://github.com/goodchemistryco/Tangelo.git@develop --quiet\n",
    "    !pip install qulacs pyscf --quiet\n",
    "try:\n",
    "    import mendeleev \n",
    "except ModuleNotFoundError:\n",
    "    !pip install mendeleev --quiet\n",
    "\n",
    "# Import for a pretty jupyter notebook.\n",
    "import json\n",
    "\n",
    "# Molecule definition.\n",
    "from tangelo import SecondQuantizedMolecule as SQMol\n",
    "\n",
    "# The minimal import foRr DMET.\n",
    "from tangelo.problem_decomposition import DMETProblemDecomposition\n",
    "# Ability to change localization method.\n",
    "from tangelo.problem_decomposition.dmet import Localization\n",
    "# Use for VQE ressources estimation vs DMET.\n",
    "from tangelo.algorithms import VQESolver\n",
    "# Use for comparison.\n",
    "from tangelo.algorithms import FCISolver\n",
    "from mendeleev import element"
   ]
  },
  {
   "cell_type": "code",
   "execution_count": 2,
   "id": "35b2f10b-3e18-4d93-bdcf-2ebb553ec875",
   "metadata": {},
   "outputs": [],
   "source": [
    "import numpy as np\n",
    "from tangelo.toolboxes.ansatz_generator.ansatz import Ansatz\n",
    "from tangelo.toolboxes.qubit_mappings.statevector_mapping import get_reference_circuit\n",
    "from tangelo.toolboxes.qubit_mappings.mapping_transform import get_qubit_number, fermion_to_qubit_mapping\n",
    "from tangelo.linq import Circuit, Gate"
   ]
  },
  {
   "cell_type": "markdown",
   "id": "e1dc3231-d256-4335-9fb8-04165c26dff1",
   "metadata": {},
   "source": [
    "# Table Maker"
   ]
  },
  {
   "cell_type": "markdown",
   "id": "361d7241-9b69-4f99-a966-f5cf1f7131f1",
   "metadata": {},
   "source": [
    "## Simulate by basis"
   ]
  },
  {
   "cell_type": "code",
   "execution_count": 3,
   "id": "f97c95a4-3e0e-472b-8422-0272211d943f",
   "metadata": {},
   "outputs": [],
   "source": [
    "basis_sets = [\n",
    "    \"STO-3G\",\n",
    "    \"3-21G\",\n",
    "    \"6-31G\",\n",
    "    \"minao\",\n",
    "    \"LANL2DZ\"\n",
    "]"
   ]
  },
  {
   "cell_type": "code",
   "execution_count": 4,
   "id": "3c4540c2-22cc-4712-af1c-6588cafe48fc",
   "metadata": {},
   "outputs": [
    {
     "name": "stdout",
     "output_type": "stream",
     "text": [
      "STO-3G\n",
      "{'qubit_hamiltonian_terms': 276, 'circuit_width': 10, 'circuit_depth': 796, 'circuit_2qubit_gates': 608, 'circuit_var_gates': 64, 'vqe_variational_parameters': 14}\n",
      "FCI energy:\t-7.882175990801267\n",
      "VQE energy:\t-7.882174843685822\n",
      "3-21G\n",
      "{'qubit_hamiltonian_terms': 4427, 'circuit_width': 20, 'circuit_depth': 5884, 'circuit_2qubit_gates': 4992, 'circuit_var_gates': 300, 'vqe_variational_parameters': 54}\n",
      "6-31G\n",
      "{'qubit_hamiltonian_terms': 4427, 'circuit_width': 20, 'circuit_depth': 5884, 'circuit_2qubit_gates': 4992, 'circuit_var_gates': 300, 'vqe_variational_parameters': 54}\n",
      "minao\n",
      "{'qubit_hamiltonian_terms': 27, 'circuit_width': 4, 'circuit_depth': 100, 'circuit_2qubit_gates': 64, 'circuit_var_gates': 12, 'vqe_variational_parameters': 2}\n",
      "FCI energy:\t-7.979873194994736\n",
      "VQE energy:\t-7.9798728861543555\n",
      "LANL2DZ\n",
      "{'qubit_hamiltonian_terms': 4427, 'circuit_width': 20, 'circuit_depth': 5884, 'circuit_2qubit_gates': 4992, 'circuit_var_gates': 300, 'vqe_variational_parameters': 54}\n",
      "Information has been recorded in 'atom_table.txt'.\n"
     ]
    }
   ],
   "source": [
    "import time, math\n",
    "import gc\n",
    "\n",
    "#Circuit Complexity Function\n",
    "def VQE_Complexity(vqe_mol):\n",
    "    resources_mol_vqe = vqe_mol.get_resources()\n",
    "    print(resources_mol_vqe)\n",
    "    \n",
    "    return resources_mol_vqe\n",
    "\n",
    "# Open or create a file named \"atom_table.txt\"\n",
    "with open(\"atom_table.txt\", \"a\") as file:\n",
    "    for basis_iteration in basis_sets:\n",
    "        print(basis_iteration)\n",
    "        \n",
    "        sample_geometry =\"\"\"\n",
    "        H   0. 0. 0.\n",
    "        Li  0. 0. 1.5949\n",
    "        \"\"\"\n",
    "        sample_basis = basis_iteration\n",
    "        sample_charge = 0\n",
    "        sample_symmetry = True\n",
    "        sample_spin = 0\n",
    "        sample_fo = 1\n",
    "        \n",
    "        mol = SQMol(sample_geometry, q=sample_charge, spin=sample_spin, symmetry = sample_symmetry, basis=sample_basis, frozen_orbitals=sample_fo)\n",
    "        \n",
    "        options_mol_vqe = {\"molecule\": mol, \"qubit_mapping\": \"jw\", \"verbose\": False}\n",
    "        vqe_mol = VQESolver(options_mol_vqe)\n",
    "        vqe_mol.build()\n",
    "        fci_solver = FCISolver(mol)\n",
    "        \n",
    "        try:\n",
    "            result = VQE_Complexity(vqe_mol)\n",
    "            #change this value if you want to compute complex cases.\n",
    "            if result.get('qubit_hamiltonian_terms') < 1001: \n",
    "                \n",
    "                start_f = time.time()\n",
    "                energy_fci = fci_solver.simulate()\n",
    "                end_f = time.time()\n",
    "                time_f = end_f - start_f\n",
    "                print(f\"FCI energy:\\t{energy_fci}\")\n",
    "        \n",
    "                start_v = time.time()\n",
    "                energy_vqe = vqe_mol.simulate()\n",
    "                end_v = time.time()\n",
    "                time_v = end_v - start_v\n",
    "                print(f\"VQE energy:\\t{energy_vqe}\")\n",
    "        \n",
    "                file.write(f\"{mol.elements} | {mol.basis} | FCI energy: {energy_fci} | VQE energy: {energy_vqe} | t_FCI: {time_f:.4f}s | t_VQE: {time_v:.4f}s\\n\")\n",
    "    \n",
    "                # Calculate the percentage difference in time and energy\n",
    "                time_percentage = abs(time_f - time_v) / time_f * 100  # Percentage of VQE time compared to FCI\n",
    "                accuracy_percentage = 1 - abs(energy_fci - energy_vqe) / abs(energy_fci) * 100  # Percentage of accuracy difference\n",
    "    \n",
    "                file.write(f\"VQE took {time_percentage:.2f}% of the time compared to FCI simulation with {accuracy_percentage:.6f}% accuracy\\n\")\n",
    "        except FileNotFoundError:\n",
    "            file.write(f\"Error: No File!\\n\\n\")\n",
    "        # Explicitly delete large objects\n",
    "        del mol\n",
    "        del vqe_mol\n",
    "        del fci_solver\n",
    "            \n",
    "        # Run garbage collection\n",
    "        gc.collect()\n",
    "\n",
    "print(\"Information has been recorded in 'atom_table.txt'.\")"
   ]
  },
  {
   "cell_type": "markdown",
   "id": "8e5b3f85-87d5-41a3-88e4-e3d2c101bc8d",
   "metadata": {},
   "source": [
    "## Simulate single time"
   ]
  },
  {
   "cell_type": "code",
   "execution_count": 5,
   "id": "df480400-1206-4a45-b0c2-3dd2981375ff",
   "metadata": {},
   "outputs": [
    {
     "name": "stdout",
     "output_type": "stream",
     "text": [
      "{'qubit_hamiltonian_terms': 27, 'circuit_width': 4, 'circuit_depth': 100, 'circuit_2qubit_gates': 64, 'circuit_var_gates': 12, 'vqe_variational_parameters': 2}\n",
      "FCI energy:\t-7.9798731949947355\n",
      "VQE energy:\t-7.97987288615436\n",
      "Information has been recorded in 'atom_table.txt'.\n"
     ]
    }
   ],
   "source": [
    "import time, math\n",
    "import gc\n",
    "\n",
    "#Circuit Complexity Function\n",
    "def VQE_Complexity(vqe_mol):\n",
    "    resources_mol_vqe = vqe_mol.get_resources()\n",
    "    print(resources_mol_vqe)\n",
    "    \n",
    "    return resources_mol_vqe\n",
    "\n",
    "# Open or create a file named \"atom_table.txt\"\n",
    "with open(\"atom_table.txt\", \"a\") as file:\n",
    " \n",
    "    sample_geometry =\"\"\"\n",
    "    H   0. 0. 0.\n",
    "    Li  0. 0. 1.5949\n",
    "    \"\"\"\n",
    "    sample_basis = \"minao\"\n",
    "    sample_charge = 0\n",
    "    sample_symmetry = True\n",
    "    sample_spin = 0\n",
    "    sample_fo = 1\n",
    "        \n",
    "    mol = SQMol(sample_geometry, q=sample_charge, spin=sample_spin, symmetry = sample_symmetry, basis=sample_basis, frozen_orbitals=sample_fo)\n",
    "        \n",
    "    options_mol_vqe = {\"molecule\": mol, \"qubit_mapping\": \"jw\", \"verbose\": False}\n",
    "    vqe_mol = VQESolver(options_mol_vqe)\n",
    "    vqe_mol.build()\n",
    "    fci_solver = FCISolver(mol)\n",
    "        \n",
    "    try:\n",
    "        result = VQE_Complexity(vqe_mol)\n",
    "        #change this value if you want to compute complex cases.\n",
    "        if result.get('qubit_hamiltonian_terms') < 1001: \n",
    "            start_f = time.time()\n",
    "            energy_fci = fci_solver.simulate()\n",
    "            end_f = time.time()\n",
    "            time_f = end_f - start_f\n",
    "            print(f\"FCI energy:\\t{energy_fci}\")\n",
    "        \n",
    "            start_v = time.time()\n",
    "            energy_vqe = vqe_mol.simulate()\n",
    "            end_v = time.time()\n",
    "            time_v = end_v - start_v\n",
    "            print(f\"VQE energy:\\t{energy_vqe}\")\n",
    "        \n",
    "            file.write(f\"{mol.elements} | {mol.basis} | FCI energy: {energy_fci} | VQE energy: {energy_vqe} | t_FCI: {time_f:.4f}s | t_VQE: {time_v:.4f}s\\n\")\n",
    "    \n",
    "            # Calculate the percentage difference in time and energy\n",
    "            time_percentage = abs(time_f - time_v) / time_f * 100  # Percentage of VQE time compared to FCI\n",
    "            accuracy_percentage = 1 - abs(energy_fci - energy_vqe) / abs(energy_fci) * 100  # Percentage of accuracy difference\n",
    "\n",
    "            file.write(f\"VQE took {time_percentage:.2f}% of the time compared to FCI simulation with {accuracy_percentage:.6f}% accuracy\\n\")\n",
    "    except FileNotFoundError:\n",
    "        file.write(f\"Error: No File!\\n\\n\")\n",
    "    # Explicitly delete large objects\n",
    "    del mol\n",
    "    del vqe_mol\n",
    "    del fci_solver\n",
    "            \n",
    "    # Run garbage collection\n",
    "    gc.collect()\n",
    "\n",
    "print(\"Information has been recorded in 'atom_table.txt'.\")"
   ]
  },
  {
   "cell_type": "markdown",
   "id": "6c59ae14-6b74-4cff-a9c4-175042b8dcb1",
   "metadata": {},
   "source": [
    "# Atom Orbital Checker:"
   ]
  },
  {
   "cell_type": "code",
   "execution_count": 6,
   "id": "1aabf1f5-e60a-42e0-8b3f-5f78a2dd021f",
   "metadata": {},
   "outputs": [],
   "source": [
    "# Dictionary to expand noble gas core configurations\n",
    "noble_gas_configurations = {\n",
    "    \"[He]\": \"1s2\",\n",
    "    \"[Ne]\": \"1s2 2s2 2p6\",\n",
    "    \"[Ar]\": \"1s2 2s2 2p6 3s2 3p6\",\n",
    "    \"[Kr]\": \"1s2 2s2 2p6 3s2 3p6 3d10 4s2 4p6\",\n",
    "    \"[Xe]\": \"1s2 2s2 2p6 3s2 3p6 3d10 4s2 4p6 4d10 5s2 5p6\",\n",
    "    \"[Rn]\": \"1s2 2s2 2p6 3s2 3p6 3d10 4s2 4p6 4d10 5s2 5p6 4f14 5d10 6s2 6p6\"\n",
    "}\n",
    "\n",
    "def expand_electron_configuration(econf):\n",
    "    # Split the electron configuration to handle noble gas\n",
    "    parts = econf.split()\n",
    "    expanded_config = []\n",
    "    \n",
    "    # Replace noble gas with full configuration\n",
    "    for part in parts:\n",
    "        if part in noble_gas_configurations:\n",
    "            expanded_config.append(noble_gas_configurations[part])\n",
    "        else:\n",
    "            expanded_config.append(part)\n",
    "    \n",
    "    # Return the fully expanded configuration\n",
    "    return \" \".join(expanded_config)"
   ]
  },
  {
   "cell_type": "code",
   "execution_count": 7,
   "id": "0b6776c6-17c6-4978-95f0-dceac06dd9ba",
   "metadata": {},
   "outputs": [
    {
     "name": "stdout",
     "output_type": "stream",
     "text": [
      "Element: Chromium (Cr)\n",
      "Expanded Electron Configuration: 1s2 2s2 2p6 3s2 3p6 3d5 4s\n",
      "Atomic Number: 24\n"
     ]
    }
   ],
   "source": [
    "# Example usage\n",
    "element_symbol = \"Cr\"\n",
    "atom = element(element_symbol)\n",
    "\n",
    "# Get the electron configuration (shorthand)\n",
    "shorthand_econf = atom.econf\n",
    "\n",
    "# Expand the configuration\n",
    "expanded_econf = expand_electron_configuration(shorthand_econf)\n",
    "\n",
    "print(f\"Element: {atom.name} ({atom.symbol})\")\n",
    "print(f\"Expanded Electron Configuration: {expanded_econf}\")\n",
    "print(f\"Atomic Number: {atom.atomic_number}\")"
   ]
  },
  {
   "cell_type": "code",
   "execution_count": null,
   "id": "428fdf67-3cad-4dfe-aca2-855b645d4e73",
   "metadata": {},
   "outputs": [],
   "source": []
  }
 ],
 "metadata": {
  "kernelspec": {
   "display_name": "Python 3 [Default]",
   "language": "python",
   "name": "python3"
  },
  "language_info": {
   "codemirror_mode": {
    "name": "ipython",
    "version": 3
   },
   "file_extension": ".py",
   "mimetype": "text/x-python",
   "name": "python",
   "nbconvert_exporter": "python",
   "pygments_lexer": "ipython3",
   "version": "3.11.9"
  }
 },
 "nbformat": 4,
 "nbformat_minor": 5
}
