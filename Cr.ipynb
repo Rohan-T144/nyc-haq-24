{
 "cells": [
  {
   "cell_type": "code",
   "execution_count": 11,
   "id": "1c01056f-c667-4c18-b37e-2407377fbc2b",
   "metadata": {},
   "outputs": [],
   "source": [
    "try:\n",
    "    import tangelo\n",
    "except ModuleNotFoundError:\n",
    "    !pip install git+https://github.com/goodchemistryco/Tangelo.git@develop --quiet\n",
    "\n",
    "# Download the data folder at https://github.com/goodchemistryco/Tangelo-Examples/tree/main/examples/chemistry/data\n",
    "import os\n",
    "if not os.path.isdir(\"data\"):\n",
    "    !sudo apt install subversion\n",
    "    !svn checkout https://github.com/goodchemistryco/Tangelo-Examples/branches/main/examples/chemistry/data"
   ]
  },
  {
   "cell_type": "code",
   "execution_count": 30,
   "id": "8051be37-ac91-4ec4-ac76-c28aa33734bd",
   "metadata": {},
   "outputs": [],
   "source": [
    "from tangelo import SecondQuantizedMolecule as SQMol\n",
    "Cr=  \"\"\"Cr 0.  0. 0.\n",
    "                    \"\"\"\n",
    "\n",
    "# 2 electrons in 2 orbitals\n",
    "fo = [0]\n",
    "# Runs RHF calculation\n",
    "mol_Cr = SQMol(Cr, q=6, spin=0, basis='3-21G', frozen_orbitals=None, symmetry=True)\n",
    "\n",
    "# Runs ROHF calculation\n",
    "mol_Cr = SQMol(Cr, q=6, spin=2, basis=\"3-21G\", frozen_orbitals=None, symmetry=True)"
   ]
  },
  {
   "cell_type": "code",
   "execution_count": 31,
   "id": "9f3f7ace-2509-4fea-8909-deb24f896383",
   "metadata": {},
   "outputs": [
    {
     "name": "stdout",
     "output_type": "stream",
     "text": [
      "  #  Energy  Symm Occ\n",
      "  1-224.0439  s+0   2\n",
      "  2 -31.0336  s+0   2\n",
      "  3 -26.9576  p-1   2\n",
      "  4 -26.9576  p+1   2\n",
      "Number of active electrons: 18\n",
      "Number of active orbtials: 27\n"
     ]
    }
   ],
   "source": [
    "# Symmetry labels and occupations for frozen core and active orbitals\n",
    "print(\"  #  Energy  Symm Occ\")\n",
    "for i in range(4):\n",
    "    print(f\"{i+1:3d}{mol_Cr.mo_energies[i]: 9.4f}  {mol_Cr.mo_symm_labels[i]}   {int(mol_Cr.mo_occ[i])}\")\n",
    "\n",
    "# Active electrons, Active orbitals\n",
    "print(f\"Number of active electrons: {mol_Cr.n_active_electrons}\")\n",
    "print(f\"Number of active orbtials: {mol_Cr.n_active_mos}\")"
   ]
  },
  {
   "cell_type": "code",
   "execution_count": 33,
   "id": "479bc265-2427-4409-93c7-0927fd4b5408",
   "metadata": {},
   "outputs": [
    {
     "name": "stdout",
     "output_type": "stream",
     "text": [
      "Collecting pyscf==2.3.0\n",
      "  Using cached pyscf-2.3.0-cp311-cp311-manylinux_2_17_x86_64.manylinux2014_x86_64.whl.metadata (3.1 kB)\n",
      "Requirement already satisfied: numpy!=1.16,!=1.17,>=1.13 in /opt/conda/lib/python3.11/site-packages (from pyscf==2.3.0) (1.26.4)\n",
      "Requirement already satisfied: scipy!=1.5.0,!=1.5.1 in /opt/conda/lib/python3.11/site-packages (from pyscf==2.3.0) (1.14.1)\n",
      "Requirement already satisfied: h5py>=2.7 in /opt/conda/lib/python3.11/site-packages (from pyscf==2.3.0) (3.12.0)\n",
      "Using cached pyscf-2.3.0-cp311-cp311-manylinux_2_17_x86_64.manylinux2014_x86_64.whl (47.2 MB)\n",
      "Installing collected packages: pyscf\n",
      "  Attempting uninstall: pyscf\n",
      "    Found existing installation: pyscf 2.6.2\n",
      "    Uninstalling pyscf-2.6.2:\n",
      "      Successfully uninstalled pyscf-2.6.2\n",
      "Successfully installed pyscf-2.3.0\n"
     ]
    }
   ],
   "source": [
    "!pip install --prefer-binary pyscf==2.3.0"
   ]
  },
  {
   "cell_type": "code",
   "execution_count": 40,
   "id": "926b7b4e-7485-4f5c-85e6-6761c312f7a6",
   "metadata": {},
   "outputs": [
    {
     "name": "stdout",
     "output_type": "stream",
     "text": [
      "Calculation for s+0 symmetry\n",
      "\n",
      "WARN: Mulitple states found in CASCI solver. First state is used to compute the Fock matrix and natural orbitals in active space.\n",
      "\n",
      "CASCI state   0  E = -1028.47375478077  E(CI) = -65.2866539406350  S^2 = 0.0000000\n",
      "CASCI state   1  E = -967.382859495021  E(CI) = -4.19575865488662  S^2 = 0.0000000\n"
     ]
    }
   ],
   "source": [
    "from pyscf import mcscf\n",
    "\n",
    "myhf = mol_Cr.mean_field\n",
    "ncore = {\"s+0\": 1, \"p-1\": 1}\n",
    "ncas = {\"s+0\": 1, \"p+1\": 1}\n",
    "\n",
    "print(\"Calculation for s+0 symmetry\")\n",
    "mc = mcscf.CASCI(myhf, 2, (1, 1))\n",
    "mo = mc.sort_mo_by_irrep(cas_irrep_nocc=ncas, cas_irrep_ncore=ncore)\n",
    "mc.fcisolver.wfnsym = \"s+0\"\n",
    "mc.fcisolver.nroots = 2\n",
    "emc_s0 = mc.casci(mo)[0]\n",
    "\n"
   ]
  },
  {
   "cell_type": "code",
   "execution_count": null,
   "id": "81046c40-96ef-4f70-8696-053e59e1a610",
   "metadata": {},
   "outputs": [],
   "source": [
    "from tangelo.algorithms.variational import VQESolver, BuiltInAnsatze\n",
    "from tangelo.algorithms.classical import FCISolver\n",
    "\n",
    "# Dictionary of resources for each algorithm\n",
    "algorithm_resources = dict()\n",
    "\n",
    "# Ground state energy calculation with VQE, reference values with FCI\n",
    "vqe_options = {\"molecule\": mol_Cr, \"ansatz\": BuiltInAnsatze.UCCSD}\n",
    "vqe_solver = VQESolver(vqe_options)\n",
    "vqe_solver.build()\n",
    "vqe_energy = vqe_solver.simulate()\n",
    "print(\"\\n Ground Singlet state\")\n",
    "print(f\"VQE energy = {vqe_energy}\")\n",
    "print(f\"CASCI energy = {FCISolver(mol_Cr).simulate()}\")\n",
    "algorithm_resources[\"vqe_ground_state\"] = vqe_solver.get_resources()\n",
    "\n",
    "# First excited state energy calculation with VQE, reference values with FCI\n",
    "vqe_options = {\"molecule\": mol_Cr_t, \"ansatz\": BuiltInAnsatze.UpCCGSD}\n",
    "vqe_solver_t = VQESolver(vqe_options)\n",
    "vqe_solver_t.build()\n",
    "vqe_energy_t = vqe_solver_t.simulate()\n",
    "print(\"\\n Lowest Triplet state\")\n",
    "print(f\"VQE energy = {vqe_energy_t}\")\n",
    "print(f\"CASCI energy = {FCISolver(mol_Cr_t).simulate()}\")\n",
    "algorithm_resources[\"vqe_triplet_state\"] = vqe_solver_t.get_resources()"
   ]
  },
  {
   "cell_type": "code",
   "execution_count": 16,
   "id": "10447248-a1e7-4df8-a417-2de8baf96f12",
   "metadata": {},
   "outputs": [
    {
     "name": "stdout",
     "output_type": "stream",
     "text": [
      "Excited state #1 \t VQE energy = -14.784036828629606\n",
      "Excited state #2 \t VQE energy = -14.68019633282607\n"
     ]
    }
   ],
   "source": [
    "# Add initial VQE optimal circuit to the deflation circuits list\n",
    "deflation_circuits = [vqe_solver.optimal_circuit.copy()]\n",
    "\n",
    "# Calculate first and second excited states by adding optimal circuits to deflation_circuits\n",
    "for i in range(2):\n",
    "    vqe_options = {\"molecule\": mol_Cr, \"ansatz\": BuiltInAnsatze.UpCCGSD, \n",
    "                   \"deflation_circuits\": deflation_circuits, \"deflation_coeff\": 0.4}\n",
    "    vqe_solver = VQESolver(vqe_options)\n",
    "    vqe_solver.build()\n",
    "    vqe_energy = vqe_solver.simulate()\n",
    "    print(f\"Excited state #{i+1} \\t VQE energy = {vqe_energy}\")\n",
    "    algorithm_resources[f\"vqe_deflation_state_{i+1}\"] = vqe_solver.get_resources()\n",
    "\n",
    "    deflation_circuits.append(vqe_solver.optimal_circuit.copy())"
   ]
  },
  {
   "cell_type": "code",
   "execution_count": 17,
   "id": "eda870ff-25b6-4149-a89c-9d9a82aa0723",
   "metadata": {},
   "outputs": [
    {
     "name": "stdout",
     "output_type": "stream",
     "text": [
      "VQE energy = -14.838766460607102\n"
     ]
    }
   ],
   "source": [
    "vqe_options = {\"molecule\": mol_Cr, \"ansatz\": BuiltInAnsatze.UpCCGSD, \n",
    "               \"deflation_circuits\": deflation_circuits,\n",
    "               \"deflation_coeff\": 0.4, \"ref_state\": [1, 0, 1, 0]}\n",
    "vqe_solver_triplet = VQESolver(vqe_options)\n",
    "vqe_solver_triplet.build()\n",
    "vqe_energy = vqe_solver_triplet.simulate()\n",
    "print(f\"VQE energy = {vqe_energy}\")\n",
    "algorithm_resources[f\"vqe_deflation_state_{3}\"] = vqe_solver_triplet.get_resources()"
   ]
  },
  {
   "cell_type": "code",
   "execution_count": null,
   "id": "d15211b1-7c82-4584-b1fc-0466c24ac187",
   "metadata": {},
   "outputs": [],
   "source": []
  }
 ],
 "metadata": {
  "kernelspec": {
   "display_name": "Python 3 [Default]",
   "language": "python",
   "name": "python3"
  },
  "language_info": {
   "codemirror_mode": {
    "name": "ipython",
    "version": 3
   },
   "file_extension": ".py",
   "mimetype": "text/x-python",
   "name": "python",
   "nbconvert_exporter": "python",
   "pygments_lexer": "ipython3",
   "version": "3.11.9"
  }
 },
 "nbformat": 4,
 "nbformat_minor": 5
}
