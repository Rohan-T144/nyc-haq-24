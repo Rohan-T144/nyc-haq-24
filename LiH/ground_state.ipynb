{
 "cells": [
  {
   "cell_type": "code",
   "execution_count": 6,
   "metadata": {},
   "outputs": [
    {
     "name": "stdout",
     "output_type": "stream",
     "text": [
      "SecondQuantizedMolecule(xyz=[('Li', (0.0, 0.0, 0.0)), ('H', (0.0, 0.0, 1.5949))], q=0, spin=0, solver=<tangelo.toolboxes.molecular_computation.integral_solver_pyscf.IntegralSolverPySCF object at 0x31a8297c0>, n_atoms=2, n_electrons=4, basis='sto-3g', ecp={}, symmetry=False, uhf=False, mf_energy=-7.862026959394137, mo_energies=array([-2.34864417, -0.28570476,  0.07826185,  0.16393842,  0.16393842,\n",
      "        0.54912925]), mo_occ=array([2., 2., 0., 0., 0., 0.]), n_mos=6, n_sos=12, active_occupied=[1], frozen_occupied=[0], active_virtual=[2, 3, 4, 5], frozen_virtual=[])\n"
     ]
    }
   ],
   "source": [
    "import tangelo\n",
    "from tangelo import SecondQuantizedMolecule\n",
    "\n",
    "# LiH = [('Li', (0, 0, 0)), ('H', (0, 0, 1.5949))]\n",
    "# diatomic_bond_length = 1.45\n",
    "diatomic_bond_length = 1.5949\n",
    "geometry = [('Li', (0., 0., 0.)), ('H', (0., 0., diatomic_bond_length))]\n",
    "basis = 'sto-3g'\n",
    "multiplicity = 1\n",
    "active_space_start = 1\n",
    "active_space_stop = 3\n",
    "# Set Hamiltonian parameters for LiH simulation in active space.\n",
    "# diatomic_bond_length = 1.45\n",
    "# geometry = [('Li', (0., 0., 0.)), ('H', (0., 0., diatomic_bond_length))]\n",
    "# basis = 'sto-3g'\n",
    "# multiplicity = 1\n",
    "# active_space_start = 1\n",
    "# active_space_stop = 3\n",
    "mol_LiH = SecondQuantizedMolecule(geometry, q=0, spin=0, basis=\"sto-3g\")\n",
    "# mol_LiH = SecondQuantizedMolecule(LiH, q=0, spin=0, basis=\"sto-3g\")\n",
    "\n",
    "print(mol_LiH)\n"
   ]
  },
  {
   "cell_type": "code",
   "execution_count": 7,
   "metadata": {},
   "outputs": [
    {
     "name": "stdout",
     "output_type": "stream",
     "text": [
      "FCI energy:\t-7.882175990801266\n"
     ]
    }
   ],
   "source": [
    "from tangelo.algorithms import FCISolver, CCSDSolver, VQESolver\n",
    "\n",
    "fci_solver = FCISolver(mol_LiH)\n",
    "energy_fci = fci_solver.simulate()\n",
    "\n",
    "\n",
    "print(f\"FCI energy:\\t{energy_fci}\")\n"
   ]
  },
  {
   "cell_type": "code",
   "execution_count": 8,
   "metadata": {},
   "outputs": [
    {
     "name": "stdout",
     "output_type": "stream",
     "text": [
      "VQE energy:\t-7.882174843682616\n"
     ]
    }
   ],
   "source": [
    "vqe_solver = VQESolver({\n",
    "    'molecule': mol_LiH,\n",
    "    # 'verbose': True,\n",
    "})\n",
    "vqe_solver.build()\n",
    "energy_vqe = vqe_solver.simulate()\n",
    "print(f\"VQE energy:\\t{energy_vqe}\")"
   ]
  },
  {
   "cell_type": "code",
   "execution_count": 10,
   "metadata": {},
   "outputs": [
    {
     "name": "stdout",
     "output_type": "stream",
     "text": [
      "0             1                    2                3\n",
      "│             │                    │                │\n",
      "Rz(π)         Rz(π)                Rz(π)            Rz(π)\n",
      "│             │                    │                │\n",
      "│             PhISwap(0.25)────────PhISwap(0.25)^-1 │\n",
      "│             │                    │                │\n",
      "PhISwap(0.25)─PhISwap(0.25)^0.081  Z^0              │\n",
      "│             │                    │                │\n",
      "Rz(0.337π)    Z^0                  PhISwap(0.25)────PhISwap(0.25)^-0.081\n",
      "│             │                    │                │\n",
      "Rz(0)         PhISwap(0.25)────────PhISwap(0.25)^-1 Z^0\n",
      "│             │                    │                │\n",
      "│             Rz(0.337π)           Z^0              Rz(0.169π)\n",
      "│             │                    │                │\n",
      "│             Rz(0)                Rz(0.169π)       Rz(0)\n",
      "│             │                    │                │\n",
      "│             │                    Rz(0)            │\n",
      "│             │                    │                │\n",
      "│             PhISwap(0.25)────────PhISwap(0.25)^-1 │\n",
      "│             │                    │                │\n",
      "PhISwap(0.25)─PhISwap(0.25)^-0.051 Z^0              │\n",
      "│             │                    │                │\n",
      "│             Z^0                  PhISwap(0.25)────PhISwap(0.25)^0.051\n",
      "│             │                    │                │\n",
      "│             PhISwap(0.25)────────PhISwap(0.25)^-1 Z^0\n",
      "│             │                    │                │\n",
      "@─────────────@^-0.145             Z^0              │\n",
      "│             │                    │                │\n",
      "×─────────────×                    @────────────────@^(-1/15)\n",
      "│             │                    │                │\n",
      "│             │                    ×────────────────×\n",
      "│             │                    │                │\n",
      "│             @────────────────────@^-0.098         │\n",
      "│             │                    │                │\n",
      "│             ×────────────────────×                │\n",
      "│             │                    │                │\n",
      "@─────────────@^-0.098             @────────────────@^-0.098\n",
      "│             │                    │                │\n",
      "×─────────────×                    ×────────────────×\n",
      "│             │                    │                │\n",
      "Rz(-0.033π)   @────────────────────@^-0.098         Rz(-0.072π)\n",
      "│             │                    │                │\n",
      "Rz(0)         ×────────────────────×                Rz(0)\n",
      "│             │                    │                │\n",
      "│             Rz(-0.033π)          Rz(-0.072π)      │\n",
      "│             │                    │                │\n",
      "│             Rz(π)                Rz(π)            │\n",
      "│             │                    │                │\n",
      "│             PhISwap(0.25)────────PhISwap(0.25)^-1 │\n",
      "│             │                    │                │\n",
      "│             Z^0                  PhISwap(0.25)────PhISwap(0.25)^-0.95\n",
      "│             │                    │                │\n",
      "PhISwap(0.25)─PhISwap(0.25)^0.95   Z^0              │\n",
      "│             │                    │                │\n",
      "Z^0           PhISwap(0.25)────────PhISwap(0.25)^-1 │\n",
      "│             │                    │                │\n",
      "│             Z^0                  @────────────────@^-0.041\n",
      "│             │                    │                │\n",
      "@─────────────@^-0.019             ×────────────────×\n",
      "│             │                    │                │\n",
      "×─────────────×                    │                │\n",
      "│             │                    │                │\n",
      "│             @────────────────────@^0.028          │\n",
      "│             │                    │                │\n",
      "│             ×────────────────────×                │\n",
      "│             │                    │                │\n",
      "@─────────────@^0.028              @────────────────@^0.028\n",
      "│             │                    │                │\n",
      "×─────────────×                    ×────────────────×\n",
      "│             │                    │                │\n",
      "Rz(-0.02π)    @────────────────────@^0.028          Rz(-0.009π)\n",
      "│             │                    │                │\n",
      "Rz(0)         ×────────────────────×                Rz(0)\n",
      "│             │                    │                │\n",
      "│             Rz(-0.02π)           Rz(-0.009π)      │\n",
      "│             │                    │                │\n",
      "│             Rz(π)                Rz(π)            │\n",
      "│             │                    │                │\n",
      "│             PhISwap(0.25)────────PhISwap(0.25)^-1 │\n",
      "│             │                    │                │\n",
      "PhISwap(0.25)─PhISwap(0.25)^-0.918 Z^0              │\n",
      "│             │                    │                │\n",
      "│             Z^0                  PhISwap(0.25)────PhISwap(0.25)^0.918\n",
      "│             │                    │                │\n",
      "│             PhISwap(0.25)────────PhISwap(0.25)^-1 Z^0\n",
      "│             │                    │                │\n",
      "│             │                    Z^0              │\n",
      "│             │                    │                │\n"
     ]
    }
   ],
   "source": [
    "import cirq\n",
    "import openfermion\n",
    "from openfermion.circuits import trotter\n",
    "\n",
    "molecule = openfermion.MolecularData(geometry, basis, multiplicity, description=\"1.45\")\n",
    "molecule.load()\n",
    "\n",
    "molecular_hamiltonian = molecule.get_molecular_hamiltonian(\n",
    "    occupied_indices=range(active_space_start),\n",
    "    active_indices=range(active_space_start, active_space_stop))\n",
    "\n",
    "# print(openfermion.get_fermion_operator(molecular_hamiltonian))\n",
    "\n",
    "time = 1.\n",
    "final_rank = 2\n",
    "\n",
    "# Initialize circuit qubits in a line.\n",
    "n_qubits = openfermion.count_qubits(molecular_hamiltonian)\n",
    "qubits = cirq.LineQubit.range(n_qubits)\n",
    "\n",
    "# Compile the low rank Trotter step using OpenFermion.\n",
    "custom_algorithm = trotter.LowRankTrotterAlgorithm(final_rank=final_rank)\n",
    "circuit = cirq.Circuit(\n",
    "    trotter.simulate_trotter(\n",
    "            qubits, molecular_hamiltonian,\n",
    "            time=time, omit_final_swaps=True,\n",
    "            algorithm=custom_algorithm),\n",
    "    strategy=cirq.InsertStrategy.EARLIEST)\n",
    "\n",
    "# Print circuit.\n",
    "cirq.drop_negligible_operations(circuit)\n",
    "print(circuit.to_text_diagram(transpose=True))\n"
   ]
  },
  {
   "cell_type": "code",
   "execution_count": null,
   "metadata": {},
   "outputs": [],
   "source": [
    "from tangelo.toolboxes.ansatz_generator.ansatz_utils import controlled_pauliwords, trotterize\n",
    "\n",
    "qubit_hamiltonian = vqe_solver.qubit_hamiltonian\n",
    "tau = 0.04\n",
    "\n",
    "# Controlled time-evolution of qu_op\n",
    "c_trott = trotterize(qubit_hamiltonian, time=tau, n_trotter_steps=1, trotter_order=1) # , control=4)"
   ]
  },
  {
   "cell_type": "code",
   "execution_count": 5,
   "metadata": {},
   "outputs": [],
   "source": [
    "# def try_cr():\n",
    "# cr_vqe_solver = VQESolver({\n",
    "#     'molecule': SecondQuantizedMolecule(\n",
    "#         [('Cr', (0, 0, 0))], q=0, spin=0, basis=\"sto-3g\",\n",
    "#         frozen_orbitals=4\n",
    "#     ),\n",
    "#     'verbose': True,\n",
    "    \n",
    "# })\n",
    "# cr_vqe_solver.build()\n"
   ]
  },
  {
   "cell_type": "code",
   "execution_count": 6,
   "metadata": {},
   "outputs": [],
   "source": [
    "# cr_energy_vqe = cr_vqe_solver.simulate()\n",
    "# print(f\"VQE energy:\\t{cr_energy_vqe}\")"
   ]
  },
  {
   "cell_type": "code",
   "execution_count": null,
   "metadata": {},
   "outputs": [],
   "source": []
  }
 ],
 "metadata": {
  "kernelspec": {
   "display_name": "nyc_haq",
   "language": "python",
   "name": "python3"
  },
  "language_info": {
   "codemirror_mode": {
    "name": "ipython",
    "version": 3
   },
   "file_extension": ".py",
   "mimetype": "text/x-python",
   "name": "python",
   "nbconvert_exporter": "python",
   "pygments_lexer": "ipython3",
   "version": "3.12.5"
  }
 },
 "nbformat": 4,
 "nbformat_minor": 2
}
