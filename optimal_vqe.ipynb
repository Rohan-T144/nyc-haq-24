{
 "cells": [
  {
   "cell_type": "code",
   "execution_count": 2,
   "id": "initial_id",
   "metadata": {
    "collapsed": true,
    "ExecuteTime": {
     "end_time": "2024-09-26T13:02:11.437640Z",
     "start_time": "2024-09-26T13:01:59.024852Z"
    }
   },
   "outputs": [],
   "source": [
    "from tangelo import SecondQuantizedMolecule\n",
    "from tangelo.algorithms import VQESolver, FCISolver, CCSDSolver, BuiltInAnsatze\n",
    "from tangelo.toolboxes.ansatz_generator.ansatz import Ansatz"
   ]
  },
  {
   "cell_type": "code",
   "execution_count": 3,
   "outputs": [],
   "source": [
    "def vqe_simulate(second_quantized_mol):\n",
    "    vqe_options = {\"molecule\": second_quantized_mol}\n",
    "    vqe_solver = VQESolver(vqe_options)\n",
    "    vqe_solver.build()\n",
    "    return vqe_solver.simulate()"
   ],
   "metadata": {
    "collapsed": false,
    "ExecuteTime": {
     "end_time": "2024-09-26T13:02:11.528600Z",
     "start_time": "2024-09-26T13:02:11.434154Z"
    }
   },
   "id": "d1974088efb401da"
  },
  {
   "cell_type": "code",
   "execution_count": 71,
   "outputs": [],
   "source": [
    "def vqe_resources(second_quantized_mol):\n",
    "    vqe_options = {\"molecule\": second_quantized_mol}\n",
    "    vqe_solver = VQESolver(vqe_options)\n",
    "    vqe_solver.build()\n",
    "    return vqe_solver.get_resources()"
   ],
   "metadata": {
    "collapsed": false,
    "ExecuteTime": {
     "end_time": "2024-09-26T13:53:30.415742Z",
     "start_time": "2024-09-26T13:53:30.404094Z"
    }
   },
   "id": "92040a58693274d8"
  },
  {
   "cell_type": "code",
   "execution_count": 5,
   "outputs": [],
   "source": [
    "def simulate_classically(second_quantized_mol):\n",
    "\n",
    "    # Uncomment the following lines if FCI simulation is feasible\n",
    "    # fci_solver = FCISolver(second_quantized_mol)\n",
    "    # energy_fci = fci_solver.simulate()\n",
    "    # print(f\"FCI energy: \\t {energy_fci}\")\n",
    "\n",
    "    ccsd_solver = CCSDSolver(second_quantized_mol)\n",
    "    energy_ccsd = ccsd_solver.simulate()\n",
    "    print(f\"CCSD energy: \\t {energy_ccsd}\")"
   ],
   "metadata": {
    "collapsed": false,
    "ExecuteTime": {
     "end_time": "2024-09-26T13:02:45.019513Z",
     "start_time": "2024-09-26T13:02:44.983956Z"
    }
   },
   "id": "adb4a52482cef042"
  },
  {
   "cell_type": "code",
   "execution_count": 70,
   "outputs": [],
   "source": [
    "def vqe_resources_with_mappings(molecule, ansatz):\n",
    " \n",
    "    qubit_mappings = ['jw', 'bk', 'scbk']  # List of different qubit mappings\n",
    "    resources_list = []\n",
    "\n",
    "    for qm in qubit_mappings:\n",
    "        # Define VQE options with the given molecule, ansatz, and current qubit mapping\n",
    "        vqe_options = {\"molecule\": molecule, \"ansatz\": ansatz, \"qubit_mapping\": qm}\n",
    "        vqe_solver = VQESolver(vqe_options)\n",
    "        vqe_solver.build()\n",
    "  \n",
    "\n",
    "        # Get resources and store in the list\n",
    "        resources = vqe_solver.get_resources()\n",
    "        resources_list.append({\"qubit_mapping\": qm, \"resources\": resources})\n",
    "\n",
    "    return resources_list"
   ],
   "metadata": {
    "collapsed": false,
    "ExecuteTime": {
     "end_time": "2024-09-26T13:53:24.869872Z",
     "start_time": "2024-09-26T13:53:24.864320Z"
    }
   },
   "id": "35eef76364395d31"
  },
  {
   "cell_type": "code",
   "execution_count": 69,
   "outputs": [],
   "source": [
    "def vqe_resources_with_ansatze(molecule, ansatze_list):\n",
    "\n",
    "    resources_list = []\n",
    "\n",
    "    for az in ansatze_list:\n",
    "        # Define VQE options with the given molecule and ansatz\n",
    "        vqe_options = {\"molecule\": molecule, \"ansatz\": az, \"up_then_down\": True}\n",
    "        vqe_solver = VQESolver(vqe_options)\n",
    "        vqe_solver.build()\n",
    "\n",
    "\n",
    "        # Get resources and store in the list\n",
    "        resources = vqe_solver.get_resources()\n",
    "        resources_list.append({\"ansatz\": az, \"resources\": resources})\n",
    "\n",
    "    return resources_list"
   ],
   "metadata": {
    "collapsed": false,
    "ExecuteTime": {
     "end_time": "2024-09-26T13:53:22.791982Z",
     "start_time": "2024-09-26T13:53:22.783196Z"
    }
   },
   "id": "72d311a828d82df3"
  },
  {
   "cell_type": "code",
   "execution_count": 120,
   "outputs": [],
   "source": [
    "def print_orbital_energies(molecule):\n",
    "\n",
    "    orbital_energies = molecule.mo_energies\n",
    "    occupations = molecule.mo_occ\n",
    "\n",
    "    orbital_info = []\n",
    "    for idx, (energy, occ) in enumerate(zip(orbital_energies, occupations)):\n",
    "        orbital_info.append((idx, energy, occ))\n",
    "\n",
    "    # Display orbital information\n",
    "    print(f\"Number of active electrons: {molecule.n_active_electrons}\\n\")\n",
    "    print(\"Orbital Index | Occupation Number | Orbital Energy (Hartree)\")\n",
    "    print(\"------------------------------------------------------------\")\n",
    "    for idx, energy, occ in orbital_info:\n",
    "        print(f\"{idx:<13} {occ:<18} {energy}\")\n",
    "    "
   ],
   "metadata": {
    "collapsed": false,
    "ExecuteTime": {
     "end_time": "2024-09-26T15:28:28.484981Z",
     "start_time": "2024-09-26T15:28:28.471964Z"
    }
   },
   "id": "e11c010ea6d49028"
  },
  {
   "cell_type": "code",
   "execution_count": 167,
   "outputs": [],
   "source": [
    "def KMeans1D_DP(data, K):\n",
    "    \"\"\"\n",
    "    Performs optimal 1D k-means clustering via dynamic programming.\n",
    "    \n",
    "    Parameters:\n",
    "    - data: 1D numpy array\n",
    "    - K: number of clusters\n",
    "    \n",
    "    Returns:\n",
    "    - labels: numpy array of cluster labels corresponding to the original data order\n",
    "    \"\"\"\n",
    "    import numpy as np\n",
    "    \n",
    "    n = len(data)\n",
    "    # Sort data and keep track of original indices\n",
    "    sorted_indices = np.argsort(data)\n",
    "    sorted_data = data[sorted_indices]\n",
    "    \n",
    "    # Precompute cumulative sums and cumulative squared sums\n",
    "    data_cumsum = np.zeros(n+1)\n",
    "    data_sq_cumsum = np.zeros(n+1)\n",
    "    for i in range(1, n+1):\n",
    "        data_cumsum[i] = data_cumsum[i-1] + sorted_data[i-1]\n",
    "        data_sq_cumsum[i] = data_sq_cumsum[i-1] + sorted_data[i-1]**2\n",
    "    \n",
    "    # Initialize the cost and segmentation arrays\n",
    "    cost = np.full((n+1, K+1), np.inf)\n",
    "    backtrack = np.zeros((n+1, K+1), dtype=int)\n",
    "    \n",
    "    cost[0][0] = 0  # Base case\n",
    "    \n",
    "    # Dynamic programming to compute optimal cost\n",
    "    for i in range(1, n+1):\n",
    "        for k in range(1, min(i, K)+1):\n",
    "            for j in range(k-1, i):\n",
    "                count = i - j\n",
    "                sum_x = data_cumsum[i] - data_cumsum[j]\n",
    "                sum_x_sq = data_sq_cumsum[i] - data_sq_cumsum[j]\n",
    "                mean = sum_x / count\n",
    "                ssd = sum_x_sq - 2 * mean * sum_x + count * mean**2\n",
    "                total_cost = cost[j][k-1] + ssd\n",
    "                if total_cost < cost[i][k]:\n",
    "                    cost[i][k] = total_cost\n",
    "                    backtrack[i][k] = j\n",
    "    \n",
    "    # Backtracking to assign labels\n",
    "    labels = np.zeros(n, dtype=int)\n",
    "    k = K\n",
    "    i = n\n",
    "    while k > 0:\n",
    "        j = backtrack[i][k]\n",
    "        labels[j:i] = k-1\n",
    "        i = j\n",
    "        k -=1\n",
    "    \n",
    "    # Map labels back to original data order\n",
    "    original_labels = np.zeros(n, dtype=int)\n",
    "    original_labels[sorted_indices] = labels\n",
    "    \n",
    "    return original_labels\n"
   ],
   "metadata": {
    "collapsed": false,
    "ExecuteTime": {
     "end_time": "2024-09-26T15:55:36.011707Z",
     "start_time": "2024-09-26T15:55:35.999355Z"
    }
   },
   "id": "76f4cd0d161bd01f"
  },
  {
   "cell_type": "code",
   "execution_count": 168,
   "outputs": [],
   "source": [
    "import numpy as np\n",
    "\n",
    "def generate_freeze_lists(molecule, k_core, k_virtual):\n",
    "    \"\"\"\n",
    "    Generates multiple freeze lists by clustering core (occupied) and virtual orbitals\n",
    "    based on their energies using optimal 1D clustering via dynamic programming.\n",
    "\n",
    "    Parameters:\n",
    "    - molecule: SecondQuantizedMolecule object representing the molecule.\n",
    "    - k_core: Number of clusters to form among core (occupied) orbitals.\n",
    "    - k_virtual: Number of clusters to form among virtual orbitals.\n",
    "\n",
    "    Returns:\n",
    "    - freeze_lists: A list of freeze lists (each is a list of orbital indices to freeze).\n",
    "    \"\"\"\n",
    "    orbital_energies = molecule.mo_energies\n",
    "    occupations = molecule.mo_occ\n",
    "\n",
    "    orbital_info = []\n",
    "    for idx, (energy, occ) in enumerate(zip(orbital_energies, occupations)):\n",
    "        orbital_info.append((idx, energy, occ))\n",
    "\n",
    "    print(f\"Number of active electrons: {molecule.n_active_electrons}\")\n",
    "\n",
    "    # Collect core orbitals (occupation == 2.0)\n",
    "    core_indices = []\n",
    "    core_energies = []\n",
    "    for idx, energy, occ in orbital_info:\n",
    "        if occ == 2.0:\n",
    "            core_indices.append(idx)\n",
    "            core_energies.append(energy)\n",
    "\n",
    "    core_indices = np.array(core_indices)\n",
    "    core_energies = np.array(core_energies)\n",
    "\n",
    "    # Cluster core orbitals using dynamic programming\n",
    "    if len(core_indices) == 0:\n",
    "        print(\"No core orbitals to cluster.\")\n",
    "        core_clusters = {}\n",
    "        core_cluster_order = []\n",
    "    else:\n",
    "        k_core = min(k_core, len(core_indices))\n",
    "        core_labels = KMeans1D_DP(core_energies, k_core)\n",
    "        # Group core orbitals by clusters\n",
    "        core_clusters = {}\n",
    "        for label in range(k_core):\n",
    "            cluster_indices = core_indices[core_labels == label]\n",
    "            core_clusters[label] = (cluster_indices)\n",
    "        core_cluster_order = (range(k_core))\n",
    "        # Print cluster info\n",
    "        print(f\"\\nClustered core orbitals into {k_core} groups:\")\n",
    "        for label in core_cluster_order:\n",
    "            indices = core_clusters[label]\n",
    "            energies = [orbital_energies[i] for i in indices]\n",
    "            print(f\"Core Cluster {label+1}: Orbitals {indices}, Energies {energies}\")\n",
    "\n",
    "    # Collect virtual orbitals (occupation == 0.0)\n",
    "    virtual_indices = []\n",
    "    virtual_energies = []\n",
    "    for idx, energy, occ in orbital_info:\n",
    "        if occ == 0.0:\n",
    "            virtual_indices.append(idx)\n",
    "            virtual_energies.append(energy)\n",
    "\n",
    "    virtual_indices = np.array(virtual_indices)\n",
    "    virtual_energies = np.array(virtual_energies)\n",
    "\n",
    "    # Cluster virtual orbitals using dynamic programming\n",
    "    if len(virtual_indices) == 0:\n",
    "        print(\"No virtual orbitals to cluster.\")\n",
    "        virtual_clusters = {}\n",
    "        virtual_cluster_order = []\n",
    "    else:\n",
    "        k_virtual = min(k_virtual, len(virtual_indices))\n",
    "        virtual_labels = KMeans1D_DP(virtual_energies, k_virtual)\n",
    "        # Group virtual orbitals by clusters\n",
    "        virtual_clusters = {}\n",
    "        for label in range(k_virtual):\n",
    "            cluster_indices = virtual_indices[virtual_labels == label]\n",
    "            virtual_clusters[label] = (cluster_indices)\n",
    "        virtual_cluster_order = (range(k_virtual))\n",
    "        # Print cluster info\n",
    "        print(f\"\\nClustered virtual orbitals into {k_virtual} groups:\")\n",
    "        for label in virtual_cluster_order:\n",
    "            indices = virtual_clusters[label]\n",
    "            energies = [orbital_energies[i] for i in indices]\n",
    "            print(f\"Virtual Cluster {label+1}: Orbitals {indices}, Energies {energies}\")\n",
    "\n",
    "    # Generate combinations according to the specified logic\n",
    "    freeze_lists = []\n",
    "    num_core_clusters = len(core_cluster_order)\n",
    "    num_virtual_clusters = len(virtual_cluster_order)\n",
    "\n",
    "    for c in range(1, num_core_clusters + 1):\n",
    "        # Core clusters to include\n",
    "        core_clusters_to_include = core_cluster_order[:c]\n",
    "        core_orbitals_to_freeze = []\n",
    "        for label in core_clusters_to_include:\n",
    "            core_orbitals_to_freeze.extend(core_clusters[label])\n",
    "        for v in range(0, num_virtual_clusters + 1):\n",
    "            # Virtual clusters to include\n",
    "            virtual_clusters_to_include = virtual_cluster_order[-v:] if v > 0 else []\n",
    "            virtual_orbitals_to_freeze = []\n",
    "            for label in virtual_clusters_to_include:\n",
    "                virtual_orbitals_to_freeze.extend(virtual_clusters[label])\n",
    "            freeze_list = core_orbitals_to_freeze + virtual_orbitals_to_freeze\n",
    "            freeze_lists.append(freeze_list)\n",
    "            print(f\"\\nGenerated freeze list with core clusters {core_clusters_to_include} and virtual clusters {virtual_clusters_to_include}\")\n",
    "            print(f\"Freeze list orbitals: {freeze_list}\")\n",
    "\n",
    "    return freeze_lists\n",
    "\n"
   ],
   "metadata": {
    "collapsed": false,
    "ExecuteTime": {
     "end_time": "2024-09-26T15:55:37.711199Z",
     "start_time": "2024-09-26T15:55:37.708267Z"
    }
   },
   "id": "bb0b888da336c12"
  },
  {
   "cell_type": "code",
   "execution_count": 233,
   "outputs": [],
   "source": [
    "# Define the LiH molecule geometry\n",
    "LiH = [('Li', (0, 0, 0)), ('H', (0, 0, 1.5949))]\n",
    "\n",
    "# Create a SecondQuantizedMolecule instance for LiH\n",
    "mol_LiH = SecondQuantizedMolecule(LiH, q=0, spin=0, basis=\"sto-3g\")\n",
    "\n",
    "# Define the Cr element\n",
    "Cr= [['Cr', (0, 0, 0)]]\n",
    "\n",
    "# Create a SecondQuantizedMolecule instance for Cr_VI\n",
    "Cr_VI = SecondQuantizedMolecule(Cr, q=6, spin=0, basis=\"LANL2DZ\", frozen_orbitals=None)\n",
    "\n",
    "# Create a SecondQuantizedMolecule instance for Cr_III\n",
    "Cr_III = SecondQuantizedMolecule(Cr, q=3, spin=3, basis=\"LANL2DZ\", frozen_orbitals=None)"
   ],
   "metadata": {
    "collapsed": false,
    "ExecuteTime": {
     "end_time": "2024-09-26T17:42:09.468434Z",
     "start_time": "2024-09-26T17:42:08.207876Z"
    }
   },
   "id": "db33cb0e7cf94183"
  },
  {
   "cell_type": "code",
   "execution_count": 234,
   "outputs": [],
   "source": [
    "def print_molecule_properties(name, molecule):\n",
    "    print(f\"=== {name} Properties ===\")\n",
    "    print(f\"Charge (q): {molecule.q}\")\n",
    "    print(f\"Spin (2S): {molecule.spin}\")\n",
    "    print(f\"Number of Electrons: {molecule.n_electrons}\")\n",
    "    print(f\"Number of Active Electrons: {molecule.n_active_electrons}\")\n",
    "    print(f\"Basis Set: {molecule.basis}\")\n",
    "    print(f\"Frozen Orbitals: {molecule.frozen_orbitals}\")\n",
    "    print(\"--------------------------\\n\")"
   ],
   "metadata": {
    "collapsed": false,
    "ExecuteTime": {
     "end_time": "2024-09-26T17:42:09.571388Z",
     "start_time": "2024-09-26T17:42:09.447781Z"
    }
   },
   "id": "b230dc078558ba28"
  },
  {
   "cell_type": "code",
   "execution_count": 235,
   "outputs": [
    {
     "name": "stdout",
     "output_type": "stream",
     "text": [
      "=== LiH Properties ===\n",
      "Charge (q): 0\n",
      "Spin (2S): 0\n",
      "Number of Electrons: 4\n",
      "Number of Active Electrons: 2\n",
      "Basis Set: sto-3g\n",
      "Frozen Orbitals: frozen_core\n",
      "--------------------------\n",
      "\n",
      "=== Cr_III Properties ===\n",
      "Charge (q): 3\n",
      "Spin (2S): 3\n",
      "Number of Electrons: 21\n",
      "Number of Active Electrons: 21\n",
      "Basis Set: LANL2DZ\n",
      "Frozen Orbitals: None\n",
      "--------------------------\n",
      "\n",
      "=== Cr_VI Properties ===\n",
      "Charge (q): 6\n",
      "Spin (2S): 0\n",
      "Number of Electrons: 18\n",
      "Number of Active Electrons: 18\n",
      "Basis Set: LANL2DZ\n",
      "Frozen Orbitals: None\n",
      "--------------------------\n"
     ]
    }
   ],
   "source": [
    "print_molecule_properties(\"LiH\", mol_LiH)\n",
    "print_molecule_properties(\"Cr_III\", Cr_III)\n",
    "print_molecule_properties(\"Cr_VI\", Cr_VI)"
   ],
   "metadata": {
    "collapsed": false,
    "ExecuteTime": {
     "end_time": "2024-09-26T17:42:10.436363Z",
     "start_time": "2024-09-26T17:42:10.400378Z"
    }
   },
   "id": "39a8bcd4a22ba829"
  },
  {
   "cell_type": "code",
   "execution_count": 239,
   "outputs": [
    {
     "name": "stdout",
     "output_type": "stream",
     "text": [
      "Number of active electrons: 21\n",
      "\n",
      "Orbital Index | Occupation Number | Orbital Energy (Hartree)\n",
      "------------------------------------------------------------\n",
      "0             2.0                -12.450388168642943\n",
      "1             2.0                -9.656067875462\n",
      "2             2.0                -9.65606624122188\n",
      "3             2.0                -9.656064608113377\n",
      "4             2.0                -6.4812279437245\n",
      "5             2.0                -6.481226829404323\n",
      "6             2.0                -6.481225704351173\n",
      "7             2.0                -6.479526799840919\n",
      "8             2.0                -6.4795267916045\n",
      "9             1.0                -1.880148215051068\n",
      "10            1.0                -0.7975336380039709\n",
      "11            1.0                -0.7975336190404309\n",
      "12            0.0                -0.7535824185769827\n",
      "13            0.0                -0.7535812790780597\n",
      "14            0.0                -0.7535801148644445\n",
      "15            0.0                -0.7031960307938059\n",
      "16            0.0                -0.6596666411582076\n",
      "17            0.0                -0.6596635891836166\n",
      "18            0.0                -0.659660494598583\n",
      "19            0.0                -0.3052729883268533\n",
      "20            0.0                -0.3052724376345083\n",
      "21            0.0                -0.30527189127184107\n"
     ]
    }
   ],
   "source": [
    "print_orbital_energies(Cr_III)"
   ],
   "metadata": {
    "collapsed": false,
    "ExecuteTime": {
     "end_time": "2024-09-26T17:47:59.755375Z",
     "start_time": "2024-09-26T17:47:59.692633Z"
    }
   },
   "id": "e93cd4914920c9e3"
  },
  {
   "cell_type": "code",
   "execution_count": 238,
   "outputs": [
    {
     "name": "stdout",
     "output_type": "stream",
     "text": [
      "Number of active electrons: 21\n",
      "\n",
      "Clustered core orbitals into 4 groups:\n",
      "Core Cluster 1: Orbitals [0], Energies [-12.450388168642943]\n",
      "Core Cluster 2: Orbitals [1 2 3], Energies [-9.656067875462, -9.65606624122188, -9.656064608113377]\n",
      "Core Cluster 3: Orbitals [4 5 6], Energies [-6.4812279437245, -6.481226829404323, -6.481225704351173]\n",
      "Core Cluster 4: Orbitals [7 8], Energies [-6.479526799840919, -6.4795267916045]\n",
      "\n",
      "Clustered virtual orbitals into 4 groups:\n",
      "Virtual Cluster 1: Orbitals [12 13 14], Energies [-0.7535824185769827, -0.7535812790780597, -0.7535801148644445]\n",
      "Virtual Cluster 2: Orbitals [15], Energies [-0.7031960307938059]\n",
      "Virtual Cluster 3: Orbitals [16 17 18], Energies [-0.6596666411582076, -0.6596635891836166, -0.659660494598583]\n",
      "Virtual Cluster 4: Orbitals [19 20 21], Energies [-0.3052729883268533, -0.3052724376345083, -0.30527189127184107]\n",
      "\n",
      "Generated freeze list with core clusters range(0, 1) and virtual clusters []\n",
      "Freeze list orbitals: [0]\n",
      "\n",
      "Generated freeze list with core clusters range(0, 1) and virtual clusters range(3, 4)\n",
      "Freeze list orbitals: [0, 19, 20, 21]\n",
      "\n",
      "Generated freeze list with core clusters range(0, 1) and virtual clusters range(2, 4)\n",
      "Freeze list orbitals: [0, 16, 17, 18, 19, 20, 21]\n",
      "\n",
      "Generated freeze list with core clusters range(0, 1) and virtual clusters range(1, 4)\n",
      "Freeze list orbitals: [0, 15, 16, 17, 18, 19, 20, 21]\n",
      "\n",
      "Generated freeze list with core clusters range(0, 1) and virtual clusters range(0, 4)\n",
      "Freeze list orbitals: [0, 12, 13, 14, 15, 16, 17, 18, 19, 20, 21]\n",
      "\n",
      "Generated freeze list with core clusters range(0, 2) and virtual clusters []\n",
      "Freeze list orbitals: [0, 1, 2, 3]\n",
      "\n",
      "Generated freeze list with core clusters range(0, 2) and virtual clusters range(3, 4)\n",
      "Freeze list orbitals: [0, 1, 2, 3, 19, 20, 21]\n",
      "\n",
      "Generated freeze list with core clusters range(0, 2) and virtual clusters range(2, 4)\n",
      "Freeze list orbitals: [0, 1, 2, 3, 16, 17, 18, 19, 20, 21]\n",
      "\n",
      "Generated freeze list with core clusters range(0, 2) and virtual clusters range(1, 4)\n",
      "Freeze list orbitals: [0, 1, 2, 3, 15, 16, 17, 18, 19, 20, 21]\n",
      "\n",
      "Generated freeze list with core clusters range(0, 2) and virtual clusters range(0, 4)\n",
      "Freeze list orbitals: [0, 1, 2, 3, 12, 13, 14, 15, 16, 17, 18, 19, 20, 21]\n",
      "\n",
      "Generated freeze list with core clusters range(0, 3) and virtual clusters []\n",
      "Freeze list orbitals: [0, 1, 2, 3, 4, 5, 6]\n",
      "\n",
      "Generated freeze list with core clusters range(0, 3) and virtual clusters range(3, 4)\n",
      "Freeze list orbitals: [0, 1, 2, 3, 4, 5, 6, 19, 20, 21]\n",
      "\n",
      "Generated freeze list with core clusters range(0, 3) and virtual clusters range(2, 4)\n",
      "Freeze list orbitals: [0, 1, 2, 3, 4, 5, 6, 16, 17, 18, 19, 20, 21]\n",
      "\n",
      "Generated freeze list with core clusters range(0, 3) and virtual clusters range(1, 4)\n",
      "Freeze list orbitals: [0, 1, 2, 3, 4, 5, 6, 15, 16, 17, 18, 19, 20, 21]\n",
      "\n",
      "Generated freeze list with core clusters range(0, 3) and virtual clusters range(0, 4)\n",
      "Freeze list orbitals: [0, 1, 2, 3, 4, 5, 6, 12, 13, 14, 15, 16, 17, 18, 19, 20, 21]\n",
      "\n",
      "Generated freeze list with core clusters range(0, 4) and virtual clusters []\n",
      "Freeze list orbitals: [0, 1, 2, 3, 4, 5, 6, 7, 8]\n",
      "\n",
      "Generated freeze list with core clusters range(0, 4) and virtual clusters range(3, 4)\n",
      "Freeze list orbitals: [0, 1, 2, 3, 4, 5, 6, 7, 8, 19, 20, 21]\n",
      "\n",
      "Generated freeze list with core clusters range(0, 4) and virtual clusters range(2, 4)\n",
      "Freeze list orbitals: [0, 1, 2, 3, 4, 5, 6, 7, 8, 16, 17, 18, 19, 20, 21]\n",
      "\n",
      "Generated freeze list with core clusters range(0, 4) and virtual clusters range(1, 4)\n",
      "Freeze list orbitals: [0, 1, 2, 3, 4, 5, 6, 7, 8, 15, 16, 17, 18, 19, 20, 21]\n",
      "\n",
      "Generated freeze list with core clusters range(0, 4) and virtual clusters range(0, 4)\n",
      "Freeze list orbitals: [0, 1, 2, 3, 4, 5, 6, 7, 8, 12, 13, 14, 15, 16, 17, 18, 19, 20, 21]\n"
     ]
    }
   ],
   "source": [
    "freeze_lists = generate_freeze_lists(Cr_III, 4, 4)\n"
   ],
   "metadata": {
    "collapsed": false,
    "ExecuteTime": {
     "end_time": "2024-09-26T17:46:36.666691Z",
     "start_time": "2024-09-26T17:46:36.607168Z"
    }
   },
   "id": "877640120737264a"
  },
  {
   "cell_type": "code",
   "execution_count": 218,
   "outputs": [],
   "source": [
    "import multiprocessing\n",
    "import time\n",
    "\n",
    "def build_with_timeout(molecule_params, timeout=60):\n",
    "    "
   ],
   "metadata": {
    "collapsed": false,
    "ExecuteTime": {
     "end_time": "2024-09-26T16:39:06.137566Z",
     "start_time": "2024-09-26T16:39:06.130602Z"
    }
   },
   "id": "5d8278ec979ff7a3"
  },
  {
   "cell_type": "code",
   "execution_count": 240,
   "outputs": [
    {
     "name": "stdout",
     "output_type": "stream",
     "text": [
      "\n",
      "Creating frozen molecule for Freeze List 5: [0, 12, 13, 14, 15, 16, 17, 18, 19, 20, 21]\n",
      "{'qubit_hamiltonian_terms': 7966, 'circuit_width': 22, 'circuit_depth': 105, 'circuit_2qubit_gates': 80, 'circuit_var_gates': 8, 'vqe_variational_parameters': 108}\n",
      "\n",
      "Creating frozen molecule for Freeze List 8: [0, 1, 2, 3, 16, 17, 18, 19, 20, 21]\n",
      "{'qubit_hamiltonian_terms': 10333, 'circuit_width': 24, 'circuit_depth': 70344, 'circuit_2qubit_gates': 61488, 'circuit_var_gates': 3624, 'vqe_variational_parameters': 1565}\n",
      "\n",
      "Creating frozen molecule for Freeze List 9: [0, 1, 2, 3, 15, 16, 17, 18, 19, 20, 21]\n",
      "{'qubit_hamiltonian_terms': 7950, 'circuit_width': 22, 'circuit_depth': 64771, 'circuit_2qubit_gates': 55456, 'circuit_var_gates': 3408, 'vqe_variational_parameters': 1008}\n",
      "\n",
      "Creating frozen molecule for Freeze List 10: [0, 1, 2, 3, 12, 13, 14, 15, 16, 17, 18, 19, 20, 21]\n",
      "{'qubit_hamiltonian_terms': 3777, 'circuit_width': 16, 'circuit_depth': 105, 'circuit_2qubit_gates': 80, 'circuit_var_gates': 8, 'vqe_variational_parameters': 45}\n",
      "\n",
      "Creating frozen molecule for Freeze List 12: [0, 1, 2, 3, 4, 5, 6, 19, 20, 21]\n",
      "{'qubit_hamiltonian_terms': 5465, 'circuit_width': 24, 'circuit_depth': 25561, 'circuit_2qubit_gates': 23168, 'circuit_var_gates': 1168, 'vqe_variational_parameters': 1010}\n",
      "\n",
      "Creating frozen molecule for Freeze List 13: [0, 1, 2, 3, 4, 5, 6, 16, 17, 18, 19, 20, 21]\n",
      "{'qubit_hamiltonian_terms': 3526, 'circuit_width': 18, 'circuit_depth': 13610, 'circuit_2qubit_gates': 11328, 'circuit_var_gates': 816, 'vqe_variational_parameters': 395}\n",
      "\n",
      "Creating frozen molecule for Freeze List 14: [0, 1, 2, 3, 4, 5, 6, 15, 16, 17, 18, 19, 20, 21]\n",
      "{'qubit_hamiltonian_terms': 1961, 'circuit_width': 16, 'circuit_depth': 5541, 'circuit_2qubit_gates': 4592, 'circuit_var_gates': 360, 'vqe_variational_parameters': 252}\n",
      "\n",
      "Creating frozen molecule for Freeze List 15: [0, 1, 2, 3, 4, 5, 6, 12, 13, 14, 15, 16, 17, 18, 19, 20, 21]\n",
      "{'qubit_hamiltonian_terms': 724, 'circuit_width': 10, 'circuit_depth': 105, 'circuit_2qubit_gates': 80, 'circuit_var_gates': 8, 'vqe_variational_parameters': 9}\n",
      "vqe_energy = -305.05633049414024\n",
      "\n",
      "Creating frozen molecule for Freeze List 16: [0, 1, 2, 3, 4, 5, 6, 7, 8]\n",
      "{'qubit_hamiltonian_terms': 17668, 'circuit_width': 26, 'circuit_depth': 5617, 'circuit_2qubit_gates': 5184, 'circuit_var_gates': 144, 'vqe_variational_parameters': 165}\n",
      "\n",
      "Creating frozen molecule for Freeze List 17: [0, 1, 2, 3, 4, 5, 6, 7, 8, 19, 20, 21]\n",
      "{'qubit_hamiltonian_terms': 5057, 'circuit_width': 20, 'circuit_depth': 1, 'circuit_2qubit_gates': 0, 'circuit_var_gates': 0, 'vqe_variational_parameters': 84}\n",
      "\n",
      "Creating frozen molecule for Freeze List 18: [0, 1, 2, 3, 4, 5, 6, 7, 8, 16, 17, 18, 19, 20, 21]\n",
      "{'qubit_hamiltonian_terms': 1162, 'circuit_width': 14, 'circuit_depth': 105, 'circuit_2qubit_gates': 80, 'circuit_var_gates': 8, 'vqe_variational_parameters': 30}\n",
      "vqe_energy = -305.0563301883305\n",
      "\n",
      "Creating frozen molecule for Freeze List 19: [0, 1, 2, 3, 4, 5, 6, 7, 8, 15, 16, 17, 18, 19, 20, 21]\n",
      "{'qubit_hamiltonian_terms': 699, 'circuit_width': 12, 'circuit_depth': 1, 'circuit_2qubit_gates': 0, 'circuit_var_gates': 0, 'vqe_variational_parameters': 18}\n",
      "Unexpected error for Freeze List 19: No variational gate found in the circuit.\n",
      "\n",
      "Creating frozen molecule for Freeze List 20: [0, 1, 2, 3, 4, 5, 6, 7, 8, 12, 13, 14, 15, 16, 17, 18, 19, 20, 21]\n",
      "{'qubit_hamiltonian_terms': 66, 'circuit_width': 6, 'circuit_depth': 1, 'circuit_2qubit_gates': 0, 'circuit_var_gates': 0, 'vqe_variational_parameters': 0}\n",
      "Unexpected error for Freeze List 20: No variational gate found in the circuit.\n"
     ]
    }
   ],
   "source": [
    "\"\"\"Important: Sort list and then limit to 1 minute\n",
    "   Also maybe don't cluster the core elctrons?\"\"\"\n",
    "frozen_molecules_dict = {}\n",
    "\n",
    "for idx, freeze_list in enumerate(freeze_lists, start=1):\n",
    "    int_freeze_list = [int(x) for x in freeze_list]\n",
    "\n",
    "    \n",
    "    freeze_list_key = tuple(int_freeze_list)\n",
    "    \n",
    "    # Create a new SecondQuantizedMolecule with frozen orbitals\n",
    "    try:\n",
    "        Cr_III_custom_frozen = SecondQuantizedMolecule(\n",
    "            Cr,\n",
    "            q=3,\n",
    "            spin=3,\n",
    "            basis=\"LANL2DZ\",\n",
    "            frozen_orbitals=int_freeze_list\n",
    "        )\n",
    "        \n",
    "        if len(int_freeze_list) > 8:\n",
    "            print(f\"\\nCreating frozen molecule for Freeze List {idx}: {int_freeze_list}\")\n",
    "            resources = vqe_resources(Cr_III_custom_frozen)\n",
    "            print(resources)\n",
    "            if resources[\"circuit_width\"] < 15:\n",
    "                vqe_energy = vqe_simulate(Cr_III_custom_frozen)\n",
    "                print(f\"vqe_energy = {vqe_energy}\")\n",
    "    except TypeError as e:\n",
    "        print(f\"TypeError for Freeze List {idx}: {e}\")\n",
    "    except Exception as e:\n",
    "        print(f\"Unexpected error for Freeze List {idx}: {e}\")"
   ],
   "metadata": {
    "collapsed": false,
    "ExecuteTime": {
     "end_time": "2024-09-26T17:53:08.582182Z",
     "start_time": "2024-09-26T17:51:14.561626Z"
    }
   },
   "id": "a6d4eafc78379c36"
  },
  {
   "cell_type": "code",
   "execution_count": null,
   "outputs": [],
   "source": [],
   "metadata": {
    "collapsed": false,
    "ExecuteTime": {
     "end_time": "2024-09-26T16:46:42.523343Z",
     "start_time": "2024-09-26T16:46:42.522201Z"
    }
   },
   "id": "27bb4563738ba7a6"
  },
  {
   "cell_type": "code",
   "execution_count": 165,
   "outputs": [],
   "source": [],
   "metadata": {
    "collapsed": false,
    "ExecuteTime": {
     "end_time": "2024-09-26T15:54:23.405391Z",
     "start_time": "2024-09-26T15:54:23.386710Z"
    }
   },
   "id": "4ceefc1b61dd6fd7"
  },
  {
   "cell_type": "code",
   "execution_count": 166,
   "outputs": [
    {
     "name": "stdout",
     "output_type": "stream",
     "text": [
      "Number of active electrons: 21\n",
      "\n",
      "Clustered core orbitals into 3 groups:\n",
      "Core Cluster 1: Orbitals [0], Energies [-12.450388167225722]\n",
      "Core Cluster 2: Orbitals [1 2 3], Energies [-9.65606624144028, -9.656066240108055, -9.656066238814043]\n",
      "Core Cluster 3: Orbitals [4 5 6 7 8], Energies [-6.481226824872179, -6.481226824155213, -6.481226823078253, -6.479526794447777, -6.479526794297061]\n",
      "\n",
      "Clustered virtual orbitals into 3 groups:\n",
      "Virtual Cluster 1: Orbitals [12 13 14], Energies [-0.7535812710254618, -0.7535812703857644, -0.753581269194651]\n",
      "Virtual Cluster 2: Orbitals [15 16 17 18], Energies [-0.7031960313467708, -0.6596635758608538, -0.659663573875369, -0.6596635709654455]\n",
      "Virtual Cluster 3: Orbitals [19 20 21], Energies [-0.30527243942537624, -0.3052724388892152, -0.3052724385369162]\n",
      "\n",
      "Generated freeze list with core clusters range(0, 1) and virtual clusters []\n",
      "Freeze list orbitals: [0]\n",
      "\n",
      "Generated freeze list with core clusters range(0, 1) and virtual clusters range(2, 3)\n",
      "Freeze list orbitals: [0, 19, 20, 21]\n",
      "\n",
      "Generated freeze list with core clusters range(0, 1) and virtual clusters range(1, 3)\n",
      "Freeze list orbitals: [0, 15, 16, 17, 18, 19, 20, 21]\n",
      "\n",
      "Generated freeze list with core clusters range(0, 1) and virtual clusters range(0, 3)\n",
      "Freeze list orbitals: [0, 12, 13, 14, 15, 16, 17, 18, 19, 20, 21]\n",
      "\n",
      "Generated freeze list with core clusters range(0, 2) and virtual clusters []\n",
      "Freeze list orbitals: [0, 1, 2, 3]\n",
      "\n",
      "Generated freeze list with core clusters range(0, 2) and virtual clusters range(2, 3)\n",
      "Freeze list orbitals: [0, 1, 2, 3, 19, 20, 21]\n",
      "\n",
      "Generated freeze list with core clusters range(0, 2) and virtual clusters range(1, 3)\n",
      "Freeze list orbitals: [0, 1, 2, 3, 15, 16, 17, 18, 19, 20, 21]\n",
      "\n",
      "Generated freeze list with core clusters range(0, 2) and virtual clusters range(0, 3)\n",
      "Freeze list orbitals: [0, 1, 2, 3, 12, 13, 14, 15, 16, 17, 18, 19, 20, 21]\n",
      "\n",
      "Generated freeze list with core clusters range(0, 3) and virtual clusters []\n",
      "Freeze list orbitals: [0, 1, 2, 3, 4, 5, 6, 7, 8]\n",
      "\n",
      "Generated freeze list with core clusters range(0, 3) and virtual clusters range(2, 3)\n",
      "Freeze list orbitals: [0, 1, 2, 3, 4, 5, 6, 7, 8, 19, 20, 21]\n",
      "\n",
      "Generated freeze list with core clusters range(0, 3) and virtual clusters range(1, 3)\n",
      "Freeze list orbitals: [0, 1, 2, 3, 4, 5, 6, 7, 8, 15, 16, 17, 18, 19, 20, 21]\n",
      "\n",
      "Generated freeze list with core clusters range(0, 3) and virtual clusters range(0, 3)\n",
      "Freeze list orbitals: [0, 1, 2, 3, 4, 5, 6, 7, 8, 12, 13, 14, 15, 16, 17, 18, 19, 20, 21]\n"
     ]
    },
    {
     "data": {
      "text/plain": "[[0],\n [0, 19, 20, 21],\n [0, 15, 16, 17, 18, 19, 20, 21],\n [0, 12, 13, 14, 15, 16, 17, 18, 19, 20, 21],\n [0, 1, 2, 3],\n [0, 1, 2, 3, 19, 20, 21],\n [0, 1, 2, 3, 15, 16, 17, 18, 19, 20, 21],\n [0, 1, 2, 3, 12, 13, 14, 15, 16, 17, 18, 19, 20, 21],\n [0, 1, 2, 3, 4, 5, 6, 7, 8],\n [0, 1, 2, 3, 4, 5, 6, 7, 8, 19, 20, 21],\n [0, 1, 2, 3, 4, 5, 6, 7, 8, 15, 16, 17, 18, 19, 20, 21],\n [0, 1, 2, 3, 4, 5, 6, 7, 8, 12, 13, 14, 15, 16, 17, 18, 19, 20, 21]]"
     },
     "execution_count": 166,
     "metadata": {},
     "output_type": "execute_result"
    }
   ],
   "source": [
    "\n",
    "    # Perform simulations or further processing with 'frozen_molecule'\n"
   ],
   "metadata": {
    "collapsed": false,
    "ExecuteTime": {
     "end_time": "2024-09-26T15:54:23.906065Z",
     "start_time": "2024-09-26T15:54:23.896976Z"
    }
   },
   "id": "81e9095db066eebb"
  },
  {
   "cell_type": "code",
   "execution_count": 166,
   "outputs": [],
   "source": [],
   "metadata": {
    "collapsed": false,
    "ExecuteTime": {
     "end_time": "2024-09-26T15:54:24.344255Z",
     "start_time": "2024-09-26T15:54:24.302598Z"
    }
   },
   "id": "3b0da4fa17ba4bb2"
  },
  {
   "cell_type": "code",
   "execution_count": null,
   "outputs": [],
   "source": [],
   "metadata": {
    "collapsed": false
   },
   "id": "b097e7a2d9a61887"
  }
 ],
 "metadata": {
  "kernelspec": {
   "display_name": "Python 3",
   "language": "python",
   "name": "python3"
  },
  "language_info": {
   "codemirror_mode": {
    "name": "ipython",
    "version": 2
   },
   "file_extension": ".py",
   "mimetype": "text/x-python",
   "name": "python",
   "nbconvert_exporter": "python",
   "pygments_lexer": "ipython2",
   "version": "2.7.6"
  }
 },
 "nbformat": 4,
 "nbformat_minor": 5
}
